{
 "cells": [
  {
   "cell_type": "code",
   "execution_count": 1,
   "metadata": {
    "colab": {
     "base_uri": "https://localhost:8080/"
    },
    "executionInfo": {
     "elapsed": 1050,
     "status": "ok",
     "timestamp": 1606773400868,
     "user": {
      "displayName": "Kalyan Kumar Paladugula",
      "photoUrl": "https://lh3.googleusercontent.com/a-/AOh14GhBypR7Wk5RJqa7mv464W6F2Ab5FPdsDmSKVqfY=s64",
      "userId": "13683835722741163781"
     },
     "user_tz": 360
    },
    "id": "78PhOL0jpZdY",
    "outputId": "4c7bb0f3-40c6-46bb-ee98-a281f1456ad8"
   },
   "outputs": [],
   "source": [
    "# from google.colab import drive\n",
    "# drive.mount('/content/drive')"
   ]
  },
  {
   "cell_type": "code",
   "execution_count": 2,
   "metadata": {
    "colab": {
     "base_uri": "https://localhost:8080/"
    },
    "executionInfo": {
     "elapsed": 1781,
     "status": "ok",
     "timestamp": 1606773401608,
     "user": {
      "displayName": "Kalyan Kumar Paladugula",
      "photoUrl": "https://lh3.googleusercontent.com/a-/AOh14GhBypR7Wk5RJqa7mv464W6F2Ab5FPdsDmSKVqfY=s64",
      "userId": "13683835722741163781"
     },
     "user_tz": 360
    },
    "id": "AEM1ZS6vpu6b",
    "outputId": "e5ba1ec3-d6ee-49e0-a7b9-f103a35ea209"
   },
   "outputs": [],
   "source": [
    "# %cd /content/drive/My Drive/Research Project"
   ]
  },
  {
   "cell_type": "code",
   "execution_count": 3,
   "metadata": {
    "colab": {
     "base_uri": "https://localhost:8080/"
    },
    "executionInfo": {
     "elapsed": 3839,
     "status": "ok",
     "timestamp": 1606773403673,
     "user": {
      "displayName": "Kalyan Kumar Paladugula",
      "photoUrl": "https://lh3.googleusercontent.com/a-/AOh14GhBypR7Wk5RJqa7mv464W6F2Ab5FPdsDmSKVqfY=s64",
      "userId": "13683835722741163781"
     },
     "user_tz": 360
    },
    "id": "h0jpgwEQU_Av",
    "outputId": "19200d8a-b352-47f3-e4d6-630f2b07b464"
   },
   "outputs": [],
   "source": [
    "# pip install transformers"
   ]
  },
  {
   "cell_type": "code",
   "execution_count": 4,
   "metadata": {
    "colab": {
     "base_uri": "https://localhost:8080/"
    },
    "executionInfo": {
     "elapsed": 3225,
     "status": "ok",
     "timestamp": 1606773408249,
     "user": {
      "displayName": "Kalyan Kumar Paladugula",
      "photoUrl": "https://lh3.googleusercontent.com/a-/AOh14GhBypR7Wk5RJqa7mv464W6F2Ab5FPdsDmSKVqfY=s64",
      "userId": "13683835722741163781"
     },
     "user_tz": 360
    },
    "id": "jvEqRZL_Udz7",
    "outputId": "b58f0464-5549-4de1-ba50-55b59d3ce2e9"
   },
   "outputs": [],
   "source": [
    "# pip install simpletransformers"
   ]
  },
  {
   "cell_type": "code",
   "execution_count": 5,
   "metadata": {
    "executionInfo": {
     "elapsed": 1068,
     "status": "ok",
     "timestamp": 1606773412903,
     "user": {
      "displayName": "Kalyan Kumar Paladugula",
      "photoUrl": "https://lh3.googleusercontent.com/a-/AOh14GhBypR7Wk5RJqa7mv464W6F2Ab5FPdsDmSKVqfY=s64",
      "userId": "13683835722741163781"
     },
     "user_tz": 360
    },
    "id": "zsOIA6KXUdz_"
   },
   "outputs": [],
   "source": [
    "# pip install transformers"
   ]
  },
  {
   "cell_type": "code",
   "execution_count": 6,
   "metadata": {
    "executionInfo": {
     "elapsed": 1088,
     "status": "ok",
     "timestamp": 1606773413187,
     "user": {
      "displayName": "Kalyan Kumar Paladugula",
      "photoUrl": "https://lh3.googleusercontent.com/a-/AOh14GhBypR7Wk5RJqa7mv464W6F2Ab5FPdsDmSKVqfY=s64",
      "userId": "13683835722741163781"
     },
     "user_tz": 360
    },
    "id": "QsHo75fupasE"
   },
   "outputs": [],
   "source": [
    "import pandas as pd\n",
    "import numpy as np\n",
    "import os\n",
    "# import src\n",
    "import matplotlib.pyplot as plt\n",
    "import seaborn as sns"
   ]
  },
  {
   "cell_type": "code",
   "execution_count": 7,
   "metadata": {
    "colab": {
     "base_uri": "https://localhost:8080/"
    },
    "executionInfo": {
     "elapsed": 3448,
     "status": "ok",
     "timestamp": 1606773415764,
     "user": {
      "displayName": "Kalyan Kumar Paladugula",
      "photoUrl": "https://lh3.googleusercontent.com/a-/AOh14GhBypR7Wk5RJqa7mv464W6F2Ab5FPdsDmSKVqfY=s64",
      "userId": "13683835722741163781"
     },
     "user_tz": 360
    },
    "id": "4ePRqI5M3qPi",
    "outputId": "3271f3cc-cdd0-4512-da02-ac2826ee3814"
   },
   "outputs": [],
   "source": [
    "# pip install -U mittens"
   ]
  },
  {
   "cell_type": "code",
   "execution_count": 8,
   "metadata": {
    "executionInfo": {
     "elapsed": 5218,
     "status": "ok",
     "timestamp": 1606773417752,
     "user": {
      "displayName": "Kalyan Kumar Paladugula",
      "photoUrl": "https://lh3.googleusercontent.com/a-/AOh14GhBypR7Wk5RJqa7mv464W6F2Ab5FPdsDmSKVqfY=s64",
      "userId": "13683835722741163781"
     },
     "user_tz": 360
    },
    "id": "hgktrAVlpZdb"
   },
   "outputs": [],
   "source": [
    "from numpy import asarray\n",
    "from numpy import zeros\n",
    "\n",
    "from sklearn.utils import shuffle\n",
    "from sklearn.metrics import accuracy_score, precision_score, recall_score, f1_score\n",
    "from sklearn.model_selection import train_test_split, cross_val_score, KFold\n",
    "\n",
    "from statistics import mean, stdev, median, mode\n",
    "import nltk\n",
    "from nltk.tokenize import word_tokenize\n",
    "from sklearn.feature_extraction.text import CountVectorizer\n",
    "\n",
    "from mittens import GloVe, Mittens\n",
    "from hyperopt import fmin, tpe, hp"
   ]
  },
  {
   "cell_type": "code",
   "execution_count": 9,
   "metadata": {
    "executionInfo": {
     "elapsed": 5016,
     "status": "ok",
     "timestamp": 1606773417753,
     "user": {
      "displayName": "Kalyan Kumar Paladugula",
      "photoUrl": "https://lh3.googleusercontent.com/a-/AOh14GhBypR7Wk5RJqa7mv464W6F2Ab5FPdsDmSKVqfY=s64",
      "userId": "13683835722741163781"
     },
     "user_tz": 360
    },
    "id": "EC3ptj56ONJI"
   },
   "outputs": [],
   "source": [
    "from sklearn.model_selection import train_test_split\n",
    "from sklearn.metrics import accuracy_score, precision_score, recall_score, f1_score\n",
    "from sklearn.feature_extraction.text import TfidfVectorizer\n",
    "from sklearn.model_selection import train_test_split, cross_val_score, KFold\n",
    "from statistics import mean, stdev, median, mode\n",
    "# With PCA\n",
    "from sklearn.decomposition import PCA\n",
    "\n",
    "from sklearn.feature_extraction.text import CountVectorizer\n",
    "\n",
    "#LR\n",
    "from sklearn.linear_model import LogisticRegression\n",
    "\n",
    "# SVM\n",
    "from sklearn.svm import SVC\n",
    "from sklearn.naive_bayes import GaussianNB\n",
    "# KNN\n",
    "from sklearn.neighbors import KNeighborsClassifier\n",
    "from sklearn.ensemble import RandomForestClassifier, GradientBoostingClassifier\n",
    "\n",
    "from mittens import GloVe, Mittens"
   ]
  },
  {
   "cell_type": "code",
   "execution_count": 10,
   "metadata": {
    "executionInfo": {
     "elapsed": 4748,
     "status": "ok",
     "timestamp": 1606773417753,
     "user": {
      "displayName": "Kalyan Kumar Paladugula",
      "photoUrl": "https://lh3.googleusercontent.com/a-/AOh14GhBypR7Wk5RJqa7mv464W6F2Ab5FPdsDmSKVqfY=s64",
      "userId": "13683835722741163781"
     },
     "user_tz": 360
    },
    "id": "g8mtQwKZinpq"
   },
   "outputs": [],
   "source": [
    "import tensorflow as tf\n",
    "\n",
    "from tensorflow.keras import Sequential\n",
    "from tensorflow.keras.models import load_model\n",
    "\n",
    "from tensorflow.keras.layers import Embedding\n",
    "from tensorflow.keras import layers\n",
    "\n",
    "from tensorflow.keras.layers import Input\n",
    "from tensorflow.keras.layers import Conv3D\n",
    "from tensorflow.keras.layers import BatchNormalization\n",
    "from tensorflow.keras.layers import LeakyReLU\n",
    "from tensorflow.keras.layers import PReLU\n",
    "from tensorflow.keras.layers import MaxPool3D, AveragePooling3D\n",
    "\n",
    "from tensorflow.keras.layers import Dropout\n",
    "from tensorflow.keras.layers import AveragePooling3D\n",
    "from tensorflow.keras.layers import Dense\n",
    "from tensorflow.keras.layers import Flatten"
   ]
  },
  {
   "cell_type": "code",
   "execution_count": 11,
   "metadata": {
    "executionInfo": {
     "elapsed": 4420,
     "status": "ok",
     "timestamp": 1606773417754,
     "user": {
      "displayName": "Kalyan Kumar Paladugula",
      "photoUrl": "https://lh3.googleusercontent.com/a-/AOh14GhBypR7Wk5RJqa7mv464W6F2Ab5FPdsDmSKVqfY=s64",
      "userId": "13683835722741163781"
     },
     "user_tz": 360
    },
    "id": "3mDAc3bBinpt"
   },
   "outputs": [],
   "source": [
    "import tensorflow_addons as tfa\n",
    "from tensorflow.keras.preprocessing.text import Tokenizer\n",
    "from tensorflow.keras.preprocessing.sequence import pad_sequences\n",
    "from tensorflow.keras.models import Sequential\n",
    "from tensorflow.keras.layers import Dense\n",
    "from tensorflow.keras.layers import Flatten, Dropout, MaxPool1D\n",
    "from tensorflow.keras import optimizers\n",
    "from tensorflow.keras.layers import Embedding, SimpleRNN, LSTM, GRU, Bidirectional\n",
    "import tensorflow.keras.backend as K"
   ]
  },
  {
   "cell_type": "code",
   "execution_count": 12,
   "metadata": {
    "executionInfo": {
     "elapsed": 4013,
     "status": "ok",
     "timestamp": 1606773417754,
     "user": {
      "displayName": "Kalyan Kumar Paladugula",
      "photoUrl": "https://lh3.googleusercontent.com/a-/AOh14GhBypR7Wk5RJqa7mv464W6F2Ab5FPdsDmSKVqfY=s64",
      "userId": "13683835722741163781"
     },
     "user_tz": 360
    },
    "id": "3hUr_cPsUd0S"
   },
   "outputs": [],
   "source": [
    "import tensorflow as tf\n",
    "\n",
    "from tensorflow.keras import Sequential\n",
    "from tensorflow.keras.models import load_model\n",
    "\n",
    "from tensorflow.keras.layers import Embedding\n",
    "from tensorflow.keras import layers\n",
    "\n",
    "from tensorflow.keras.layers import Input\n",
    "from tensorflow.keras.layers import Conv3D\n",
    "from tensorflow.keras.layers import BatchNormalization\n",
    "from tensorflow.keras.layers import LeakyReLU\n",
    "from tensorflow.keras.layers import PReLU\n",
    "from tensorflow.keras.layers import MaxPool3D, AveragePooling3D\n",
    "\n",
    "from tensorflow.keras.layers import Dropout\n",
    "from tensorflow.keras.layers import AveragePooling3D\n",
    "from tensorflow.keras.layers import Dense\n",
    "from tensorflow.keras.layers import Flatten"
   ]
  },
  {
   "cell_type": "code",
   "execution_count": 13,
   "metadata": {
    "executionInfo": {
     "elapsed": 3621,
     "status": "ok",
     "timestamp": 1606773417754,
     "user": {
      "displayName": "Kalyan Kumar Paladugula",
      "photoUrl": "https://lh3.googleusercontent.com/a-/AOh14GhBypR7Wk5RJqa7mv464W6F2Ab5FPdsDmSKVqfY=s64",
      "userId": "13683835722741163781"
     },
     "user_tz": 360
    },
    "id": "hwmaSGo4qkCR"
   },
   "outputs": [],
   "source": [
    "from hyperopt import fmin, tpe, hp"
   ]
  },
  {
   "cell_type": "code",
   "execution_count": 14,
   "metadata": {
    "executionInfo": {
     "elapsed": 3234,
     "status": "ok",
     "timestamp": 1606773417755,
     "user": {
      "displayName": "Kalyan Kumar Paladugula",
      "photoUrl": "https://lh3.googleusercontent.com/a-/AOh14GhBypR7Wk5RJqa7mv464W6F2Ab5FPdsDmSKVqfY=s64",
      "userId": "13683835722741163781"
     },
     "user_tz": 360
    },
    "id": "NO6oNPy7px_h"
   },
   "outputs": [],
   "source": [
    "# pip install autocorrect"
   ]
  },
  {
   "cell_type": "code",
   "execution_count": 15,
   "metadata": {
    "colab": {
     "base_uri": "https://localhost:8080/"
    },
    "executionInfo": {
     "elapsed": 3348,
     "status": "ok",
     "timestamp": 1606773418348,
     "user": {
      "displayName": "Kalyan Kumar Paladugula",
      "photoUrl": "https://lh3.googleusercontent.com/a-/AOh14GhBypR7Wk5RJqa7mv464W6F2Ab5FPdsDmSKVqfY=s64",
      "userId": "13683835722741163781"
     },
     "user_tz": 360
    },
    "id": "BALelbZyNU02",
    "outputId": "13b1971d-e770-49e5-8b58-30e7a43a0857"
   },
   "outputs": [],
   "source": [
    "# nltk.download('punkt')"
   ]
  },
  {
   "cell_type": "code",
   "execution_count": 16,
   "metadata": {
    "executionInfo": {
     "elapsed": 2966,
     "status": "ok",
     "timestamp": 1606773418348,
     "user": {
      "displayName": "Kalyan Kumar Paladugula",
      "photoUrl": "https://lh3.googleusercontent.com/a-/AOh14GhBypR7Wk5RJqa7mv464W6F2Ab5FPdsDmSKVqfY=s64",
      "userId": "13683835722741163781"
     },
     "user_tz": 360
    },
    "id": "w8gGSNnE_Ngv"
   },
   "outputs": [],
   "source": [
    "import tensorflow_addons as tfa\n",
    "from tensorflow.keras.preprocessing.text import Tokenizer\n",
    "from tensorflow.keras.preprocessing.sequence import pad_sequences\n",
    "from tensorflow.keras.models import Sequential\n",
    "from tensorflow.keras.layers import Dense\n",
    "from tensorflow.keras.layers import Flatten, Dropout, MaxPool1D\n",
    "from tensorflow.keras import optimizers\n",
    "from tensorflow.keras.layers import Embedding, SimpleRNN, LSTM, GRU, Bidirectional\n",
    "import tensorflow.keras.backend as K"
   ]
  },
  {
   "cell_type": "code",
   "execution_count": 17,
   "metadata": {
    "colab": {
     "base_uri": "https://localhost:8080/",
     "height": 299
    },
    "executionInfo": {
     "elapsed": 1031,
     "status": "error",
     "timestamp": 1606773436776,
     "user": {
      "displayName": "Kalyan Kumar Paladugula",
      "photoUrl": "https://lh3.googleusercontent.com/a-/AOh14GhBypR7Wk5RJqa7mv464W6F2Ab5FPdsDmSKVqfY=s64",
      "userId": "13683835722741163781"
     },
     "user_tz": 360
    },
    "id": "u5A55py6KObQ",
    "outputId": "ed624a2c-9a4f-4c17-97e5-07b7bdd28784"
   },
   "outputs": [
    {
     "name": "stderr",
     "output_type": "stream",
     "text": [
      "C:\\Users\\kalya\\anaconda3\\lib\\site-packages\\torch\\cuda\\__init__.py:52: UserWarning: CUDA initialization: The NVIDIA driver on your system is too old (found version 10020). Please update your GPU driver by downloading and installing a new version from the URL: http://www.nvidia.com/Download/index.aspx Alternatively, go to: https://pytorch.org to install a PyTorch version that has been compiled with your version of the CUDA driver. (Triggered internally at  ..\\c10\\cuda\\CUDAFunctions.cpp:100.)\n",
      "  return torch._C._cuda_getDeviceCount() > 0\n"
     ]
    }
   ],
   "source": [
    "from transformers.modeling_albert import AlbertConfig, AlbertModel, AlbertPreTrainedModel"
   ]
  },
  {
   "cell_type": "code",
   "execution_count": 18,
   "metadata": {
    "colab": {
     "base_uri": "https://localhost:8080/",
     "height": 442
    },
    "executionInfo": {
     "elapsed": 3514,
     "status": "error",
     "timestamp": 1606773419819,
     "user": {
      "displayName": "Kalyan Kumar Paladugula",
      "photoUrl": "https://lh3.googleusercontent.com/a-/AOh14GhBypR7Wk5RJqa7mv464W6F2Ab5FPdsDmSKVqfY=s64",
      "userId": "13683835722741163781"
     },
     "user_tz": 360
    },
    "id": "WejUuvUHUd0f",
    "outputId": "be0d04e6-b8f7-4a32-96f8-95fb2b03cdcc"
   },
   "outputs": [],
   "source": [
    "from simpletransformers.classification import ClassificationModel, ClassificationArgs"
   ]
  },
  {
   "cell_type": "markdown",
   "metadata": {
    "id": "8nyt2ltYpZd5"
   },
   "source": [
    "### Getting Data"
   ]
  },
  {
   "cell_type": "code",
   "execution_count": 19,
   "metadata": {
    "executionInfo": {
     "elapsed": 51290,
     "status": "aborted",
     "timestamp": 1606773126109,
     "user": {
      "displayName": "Kalyan Kumar Paladugula",
      "photoUrl": "https://lh3.googleusercontent.com/a-/AOh14GhBypR7Wk5RJqa7mv464W6F2Ab5FPdsDmSKVqfY=s64",
      "userId": "13683835722741163781"
     },
     "user_tz": 360
    },
    "id": "T9A1Zv-FUd0l"
   },
   "outputs": [],
   "source": [
    "data_path = r'C:\\Users\\kalya\\OneDrive - University of Illinois at Chicago\\!UIC\\!Semesters\\3rd Sem\\CS 583 Data Mining and Text Mining\\Research Project\\Data'"
   ]
  },
  {
   "cell_type": "code",
   "execution_count": 20,
   "metadata": {
    "executionInfo": {
     "elapsed": 52038,
     "status": "aborted",
     "timestamp": 1606773126860,
     "user": {
      "displayName": "Kalyan Kumar Paladugula",
      "photoUrl": "https://lh3.googleusercontent.com/a-/AOh14GhBypR7Wk5RJqa7mv464W6F2Ab5FPdsDmSKVqfY=s64",
      "userId": "13683835722741163781"
     },
     "user_tz": 360
    },
    "id": "UIfhW_B6Ud0q"
   },
   "outputs": [],
   "source": [
    "# data_path = r'/content/drive/My Drive/Research Project/Data'"
   ]
  },
  {
   "cell_type": "code",
   "execution_count": 21,
   "metadata": {
    "executionInfo": {
     "elapsed": 52036,
     "status": "aborted",
     "timestamp": 1606773126861,
     "user": {
      "displayName": "Kalyan Kumar Paladugula",
      "photoUrl": "https://lh3.googleusercontent.com/a-/AOh14GhBypR7Wk5RJqa7mv464W6F2Ab5FPdsDmSKVqfY=s64",
      "userId": "13683835722741163781"
     },
     "user_tz": 360
    },
    "id": "oNHXXf7GUd0u"
   },
   "outputs": [],
   "source": [
    "train_pr_df = pd.read_csv(os.path.join(data_path, 'Romney Training Data.csv'), usecols = [1,2], names= ['text', 'labels'], header  = 0).dropna()\n",
    "train_pr_df['labels'] = train_pr_df['labels'].apply(lambda x: 0 if x == 'Positive' else (2 if x == 'Negative' else 1))\n",
    "val_pr_df = pd.read_csv(os.path.join(data_path, 'Romney Validation Data.csv'), usecols = [1,2], names= ['text', 'labels'], header  = 0).dropna()\n",
    "val_pr_df['labels'] = val_pr_df['labels'].apply(lambda x: 0 if x == 'Positive' else (2 if x == 'Negative' else 1))"
   ]
  },
  {
   "cell_type": "code",
   "execution_count": 22,
   "metadata": {
    "executionInfo": {
     "elapsed": 52035,
     "status": "aborted",
     "timestamp": 1606773126862,
     "user": {
      "displayName": "Kalyan Kumar Paladugula",
      "photoUrl": "https://lh3.googleusercontent.com/a-/AOh14GhBypR7Wk5RJqa7mv464W6F2Ab5FPdsDmSKVqfY=s64",
      "userId": "13683835722741163781"
     },
     "user_tz": 360
    },
    "id": "AD9U00CVddNC"
   },
   "outputs": [
    {
     "data": {
      "text/html": [
       "<div>\n",
       "<style scoped>\n",
       "    .dataframe tbody tr th:only-of-type {\n",
       "        vertical-align: middle;\n",
       "    }\n",
       "\n",
       "    .dataframe tbody tr th {\n",
       "        vertical-align: top;\n",
       "    }\n",
       "\n",
       "    .dataframe thead th {\n",
       "        text-align: right;\n",
       "    }\n",
       "</style>\n",
       "<table border=\"1\" class=\"dataframe\">\n",
       "  <thead>\n",
       "    <tr style=\"text-align: right;\">\n",
       "      <th></th>\n",
       "      <th>text</th>\n",
       "      <th>labels</th>\n",
       "    </tr>\n",
       "  </thead>\n",
       "  <tbody>\n",
       "    <tr>\n",
       "      <th>0</th>\n",
       "      <td>believe romney able work w bipartisim gov brin...</td>\n",
       "      <td>0</td>\n",
       "    </tr>\n",
       "    <tr>\n",
       "      <th>1</th>\n",
       "      <td>ask romney past decade tax end obama debate pr...</td>\n",
       "      <td>0</td>\n",
       "    </tr>\n",
       "    <tr>\n",
       "      <th>2</th>\n",
       "      <td>conclusion romney get own</td>\n",
       "      <td>0</td>\n",
       "    </tr>\n",
       "    <tr>\n",
       "      <th>3</th>\n",
       "      <td>register democrat nothing give reason change v...</td>\n",
       "      <td>0</td>\n",
       "    </tr>\n",
       "    <tr>\n",
       "      <th>4</th>\n",
       "      <td>aunt buy theiphone tell need vote romne shecray</td>\n",
       "      <td>1</td>\n",
       "    </tr>\n",
       "  </tbody>\n",
       "</table>\n",
       "</div>"
      ],
      "text/plain": [
       "                                                text  labels\n",
       "0  believe romney able work w bipartisim gov brin...       0\n",
       "1  ask romney past decade tax end obama debate pr...       0\n",
       "2                          conclusion romney get own       0\n",
       "3  register democrat nothing give reason change v...       0\n",
       "4    aunt buy theiphone tell need vote romne shecray       1"
      ]
     },
     "execution_count": 22,
     "metadata": {},
     "output_type": "execute_result"
    }
   ],
   "source": [
    "train_pr_df.head()"
   ]
  },
  {
   "cell_type": "code",
   "execution_count": 23,
   "metadata": {
    "executionInfo": {
     "elapsed": 52032,
     "status": "aborted",
     "timestamp": 1606773126862,
     "user": {
      "displayName": "Kalyan Kumar Paladugula",
      "photoUrl": "https://lh3.googleusercontent.com/a-/AOh14GhBypR7Wk5RJqa7mv464W6F2Ab5FPdsDmSKVqfY=s64",
      "userId": "13683835722741163781"
     },
     "user_tz": 360
    },
    "id": "gUfXehsEUd00"
   },
   "outputs": [
    {
     "data": {
      "text/html": [
       "<div>\n",
       "<style scoped>\n",
       "    .dataframe tbody tr th:only-of-type {\n",
       "        vertical-align: middle;\n",
       "    }\n",
       "\n",
       "    .dataframe tbody tr th {\n",
       "        vertical-align: top;\n",
       "    }\n",
       "\n",
       "    .dataframe thead th {\n",
       "        text-align: right;\n",
       "    }\n",
       "</style>\n",
       "<table border=\"1\" class=\"dataframe\">\n",
       "  <thead>\n",
       "    <tr style=\"text-align: right;\">\n",
       "      <th></th>\n",
       "      <th>text</th>\n",
       "      <th>labels</th>\n",
       "    </tr>\n",
       "  </thead>\n",
       "  <tbody>\n",
       "    <tr>\n",
       "      <th>0</th>\n",
       "      <td>vote romney waystogetshot</td>\n",
       "      <td>1</td>\n",
       "    </tr>\n",
       "    <tr>\n",
       "      <th>1</th>\n",
       "      <td>waystogetshot voting romney</td>\n",
       "      <td>2</td>\n",
       "    </tr>\n",
       "    <tr>\n",
       "      <th>2</th>\n",
       "      <td>romney go stand china afraid go view</td>\n",
       "      <td>1</td>\n",
       "    </tr>\n",
       "    <tr>\n",
       "      <th>3</th>\n",
       "      <td>swing state poll woman push romney lead via</td>\n",
       "      <td>1</td>\n",
       "    </tr>\n",
       "    <tr>\n",
       "      <th>4</th>\n",
       "      <td>least job come back romney nba team outsource ...</td>\n",
       "      <td>2</td>\n",
       "    </tr>\n",
       "  </tbody>\n",
       "</table>\n",
       "</div>"
      ],
      "text/plain": [
       "                                                text  labels\n",
       "0                          vote romney waystogetshot       1\n",
       "1                        waystogetshot voting romney       2\n",
       "2               romney go stand china afraid go view       1\n",
       "3        swing state poll woman push romney lead via       1\n",
       "4  least job come back romney nba team outsource ...       2"
      ]
     },
     "execution_count": 23,
     "metadata": {},
     "output_type": "execute_result"
    }
   ],
   "source": [
    "val_pr_df.head()"
   ]
  },
  {
   "cell_type": "code",
   "execution_count": null,
   "metadata": {
    "executionInfo": {
     "elapsed": 52029,
     "status": "aborted",
     "timestamp": 1606773126863,
     "user": {
      "displayName": "Kalyan Kumar Paladugula",
      "photoUrl": "https://lh3.googleusercontent.com/a-/AOh14GhBypR7Wk5RJqa7mv464W6F2Ab5FPdsDmSKVqfY=s64",
      "userId": "13683835722741163781"
     },
     "user_tz": 360
    },
    "id": "8p0sdWWNQSqf"
   },
   "outputs": [],
   "source": []
  },
  {
   "cell_type": "code",
   "execution_count": 24,
   "metadata": {
    "executionInfo": {
     "elapsed": 52027,
     "status": "aborted",
     "timestamp": 1606773126864,
     "user": {
      "displayName": "Kalyan Kumar Paladugula",
      "photoUrl": "https://lh3.googleusercontent.com/a-/AOh14GhBypR7Wk5RJqa7mv464W6F2Ab5FPdsDmSKVqfY=s64",
      "userId": "13683835722741163781"
     },
     "user_tz": 360
    },
    "id": "XUlxykQWUd04"
   },
   "outputs": [],
   "source": [
    "train1_pr_df = pd.read_csv(os.path.join(data_path, 'Romney Training1 Data.csv'), usecols = [1,2],names= ['text', 'labels'], header  = 0).dropna()\n",
    "train1_pr_df['labels'] = train1_pr_df['labels'].apply(lambda x: 0 if x == 'Positive' else (2 if x == 'Negative' else 1))"
   ]
  },
  {
   "cell_type": "markdown",
   "metadata": {
    "id": "ILQXZJP8LKmr"
   },
   "source": [
    "### Converting into TF-IDF"
   ]
  },
  {
   "cell_type": "code",
   "execution_count": 25,
   "metadata": {
    "executionInfo": {
     "elapsed": 52025,
     "status": "aborted",
     "timestamp": 1606773126865,
     "user": {
      "displayName": "Kalyan Kumar Paladugula",
      "photoUrl": "https://lh3.googleusercontent.com/a-/AOh14GhBypR7Wk5RJqa7mv464W6F2Ab5FPdsDmSKVqfY=s64",
      "userId": "13683835722741163781"
     },
     "user_tz": 360
    },
    "id": "mXJwrtOtaCiQ"
   },
   "outputs": [],
   "source": [
    "def tf_idf(x):\n",
    "    vectorizer = TfidfVectorizer()\n",
    "    tfidf_matrix = vectorizer.fit_transform(x)\n",
    "    #print(tfidf_matrix)\n",
    "    x1 = tfidf_matrix.toarray()\n",
    "#     print(x1)\n",
    "    return x1"
   ]
  },
  {
   "cell_type": "code",
   "execution_count": 26,
   "metadata": {
    "executionInfo": {
     "elapsed": 52024,
     "status": "aborted",
     "timestamp": 1606773126866,
     "user": {
      "displayName": "Kalyan Kumar Paladugula",
      "photoUrl": "https://lh3.googleusercontent.com/a-/AOh14GhBypR7Wk5RJqa7mv464W6F2Ab5FPdsDmSKVqfY=s64",
      "userId": "13683835722741163781"
     },
     "user_tz": 360
    },
    "id": "04diRcvqT4s8"
   },
   "outputs": [],
   "source": [
    "def tf_idf2(x):\n",
    "    vectorizer = TfidfVectorizer()\n",
    "    tfidf_matrix = vectorizer.fit_transform(x)\n",
    "    #print(tfidf_matrix)\n",
    "    x1 = tfidf_matrix.toarray()\n",
    "#     print(x1)\n",
    "    return x1"
   ]
  },
  {
   "cell_type": "code",
   "execution_count": 27,
   "metadata": {
    "executionInfo": {
     "elapsed": 52022,
     "status": "aborted",
     "timestamp": 1606773126866,
     "user": {
      "displayName": "Kalyan Kumar Paladugula",
      "photoUrl": "https://lh3.googleusercontent.com/a-/AOh14GhBypR7Wk5RJqa7mv464W6F2Ab5FPdsDmSKVqfY=s64",
      "userId": "13683835722741163781"
     },
     "user_tz": 360
    },
    "id": "mFoRZ3E3RHaS"
   },
   "outputs": [],
   "source": [
    "\n",
    "vectorizer = TfidfVectorizer()\n",
    "tfidf_matrix = vectorizer.fit_transform(train_pr_df['text'])\n",
    "#print(tfidf_matrix)\n",
    "train_pr_tfidf = tfidf_matrix.toarray()\n",
    "\n"
   ]
  },
  {
   "cell_type": "code",
   "execution_count": 28,
   "metadata": {
    "executionInfo": {
     "elapsed": 52020,
     "status": "aborted",
     "timestamp": 1606773126867,
     "user": {
      "displayName": "Kalyan Kumar Paladugula",
      "photoUrl": "https://lh3.googleusercontent.com/a-/AOh14GhBypR7Wk5RJqa7mv464W6F2Ab5FPdsDmSKVqfY=s64",
      "userId": "13683835722741163781"
     },
     "user_tz": 360
    },
    "id": "b7Am3LulRQqm"
   },
   "outputs": [
    {
     "data": {
      "text/plain": [
       "(4517, 5765)"
      ]
     },
     "execution_count": 28,
     "metadata": {},
     "output_type": "execute_result"
    }
   ],
   "source": [
    "train_pr_tfidf.shape"
   ]
  },
  {
   "cell_type": "code",
   "execution_count": 29,
   "metadata": {
    "executionInfo": {
     "elapsed": 52018,
     "status": "aborted",
     "timestamp": 1606773126867,
     "user": {
      "displayName": "Kalyan Kumar Paladugula",
      "photoUrl": "https://lh3.googleusercontent.com/a-/AOh14GhBypR7Wk5RJqa7mv464W6F2Ab5FPdsDmSKVqfY=s64",
      "userId": "13683835722741163781"
     },
     "user_tz": 360
    },
    "id": "gGj4fIxoRcQk"
   },
   "outputs": [],
   "source": [
    "\n",
    "tfidf_matrix2 = vectorizer.transform(val_pr_df['text'])\n",
    "#print(tfidf_matrix)\n",
    "val_pr_tfidf = tfidf_matrix2.toarray()"
   ]
  },
  {
   "cell_type": "code",
   "execution_count": 30,
   "metadata": {
    "executionInfo": {
     "elapsed": 52015,
     "status": "aborted",
     "timestamp": 1606773126868,
     "user": {
      "displayName": "Kalyan Kumar Paladugula",
      "photoUrl": "https://lh3.googleusercontent.com/a-/AOh14GhBypR7Wk5RJqa7mv464W6F2Ab5FPdsDmSKVqfY=s64",
      "userId": "13683835722741163781"
     },
     "user_tz": 360
    },
    "id": "z07Cups5RcQk"
   },
   "outputs": [
    {
     "data": {
      "text/plain": [
       "(1130, 5765)"
      ]
     },
     "execution_count": 30,
     "metadata": {},
     "output_type": "execute_result"
    }
   ],
   "source": [
    "val_pr_tfidf.shape"
   ]
  },
  {
   "cell_type": "code",
   "execution_count": 31,
   "metadata": {
    "executionInfo": {
     "elapsed": 52013,
     "status": "aborted",
     "timestamp": 1606773126869,
     "user": {
      "displayName": "Kalyan Kumar Paladugula",
      "photoUrl": "https://lh3.googleusercontent.com/a-/AOh14GhBypR7Wk5RJqa7mv464W6F2Ab5FPdsDmSKVqfY=s64",
      "userId": "13683835722741163781"
     },
     "user_tz": 360
    },
    "id": "hM-Q2KTBaCiU"
   },
   "outputs": [],
   "source": [
    "vectorizer = TfidfVectorizer()\n",
    "tfidf_matrix3 = vectorizer.fit_transform(train1_pr_df['text'])\n",
    "#print(tfidf_matrix)\n",
    "train1_pr_tfidf = tfidf_matrix3.toarray()"
   ]
  },
  {
   "cell_type": "code",
   "execution_count": 32,
   "metadata": {
    "executionInfo": {
     "elapsed": 52010,
     "status": "aborted",
     "timestamp": 1606773126869,
     "user": {
      "displayName": "Kalyan Kumar Paladugula",
      "photoUrl": "https://lh3.googleusercontent.com/a-/AOh14GhBypR7Wk5RJqa7mv464W6F2Ab5FPdsDmSKVqfY=s64",
      "userId": "13683835722741163781"
     },
     "user_tz": 360
    },
    "id": "NimCgs87eUzF"
   },
   "outputs": [
    {
     "data": {
      "text/plain": [
       "(5647, 6544)"
      ]
     },
     "execution_count": 32,
     "metadata": {},
     "output_type": "execute_result"
    }
   ],
   "source": [
    "train1_pr_tfidf.shape"
   ]
  },
  {
   "cell_type": "code",
   "execution_count": 33,
   "metadata": {
    "executionInfo": {
     "elapsed": 52009,
     "status": "aborted",
     "timestamp": 1606773126870,
     "user": {
      "displayName": "Kalyan Kumar Paladugula",
      "photoUrl": "https://lh3.googleusercontent.com/a-/AOh14GhBypR7Wk5RJqa7mv464W6F2Ab5FPdsDmSKVqfY=s64",
      "userId": "13683835722741163781"
     },
     "user_tz": 360
    },
    "id": "gEc3NWz2lTPf"
   },
   "outputs": [],
   "source": [
    "def evaluation(labels, preds):\n",
    "\n",
    "  f1_temp = np.round(f1_score(labels, preds, average=None),3)\n",
    "\n",
    "  f1_Positive = f1_temp[0]\n",
    "  f1_Neutral = f1_temp[1]\n",
    "  f1_Negative = f1_temp[2]\n",
    "  accuracy = round(accuracy_score(labels, preds),3) \n",
    "  eval_score = round(mean([accuracy, f1_Positive, f1_Negative]),3) \n",
    "  return eval_score"
   ]
  },
  {
   "cell_type": "code",
   "execution_count": 34,
   "metadata": {
    "executionInfo": {
     "elapsed": 52006,
     "status": "aborted",
     "timestamp": 1606773126870,
     "user": {
      "displayName": "Kalyan Kumar Paladugula",
      "photoUrl": "https://lh3.googleusercontent.com/a-/AOh14GhBypR7Wk5RJqa7mv464W6F2Ab5FPdsDmSKVqfY=s64",
      "userId": "13683835722741163781"
     },
     "user_tz": 360
    },
    "id": "ACIKrVuXUd07"
   },
   "outputs": [
    {
     "data": {
      "text/html": [
       "<div>\n",
       "<style scoped>\n",
       "    .dataframe tbody tr th:only-of-type {\n",
       "        vertical-align: middle;\n",
       "    }\n",
       "\n",
       "    .dataframe tbody tr th {\n",
       "        vertical-align: top;\n",
       "    }\n",
       "\n",
       "    .dataframe thead th {\n",
       "        text-align: right;\n",
       "    }\n",
       "</style>\n",
       "<table border=\"1\" class=\"dataframe\">\n",
       "  <thead>\n",
       "    <tr style=\"text-align: right;\">\n",
       "      <th></th>\n",
       "      <th>text</th>\n",
       "      <th>labels</th>\n",
       "    </tr>\n",
       "  </thead>\n",
       "  <tbody>\n",
       "    <tr>\n",
       "      <th>0</th>\n",
       "      <td>insidious mitt romney bain help philip morris ...</td>\n",
       "      <td>2</td>\n",
       "    </tr>\n",
       "    <tr>\n",
       "      <th>1</th>\n",
       "      <td>mean like romney cheat primary</td>\n",
       "      <td>2</td>\n",
       "    </tr>\n",
       "    <tr>\n",
       "      <th>2</th>\n",
       "      <td>mitt romney still believe black president</td>\n",
       "      <td>2</td>\n",
       "    </tr>\n",
       "    <tr>\n",
       "      <th>3</th>\n",
       "      <td>romney tax plan deserve nd look secret one dif...</td>\n",
       "      <td>2</td>\n",
       "    </tr>\n",
       "    <tr>\n",
       "      <th>4</th>\n",
       "      <td>hope romney debate prepped people last time</td>\n",
       "      <td>0</td>\n",
       "    </tr>\n",
       "  </tbody>\n",
       "</table>\n",
       "</div>"
      ],
      "text/plain": [
       "                                                text  labels\n",
       "0  insidious mitt romney bain help philip morris ...       2\n",
       "1                     mean like romney cheat primary       2\n",
       "2          mitt romney still believe black president       2\n",
       "3  romney tax plan deserve nd look secret one dif...       2\n",
       "4        hope romney debate prepped people last time       0"
      ]
     },
     "execution_count": 34,
     "metadata": {},
     "output_type": "execute_result"
    }
   ],
   "source": [
    "train1_pr_df.head()"
   ]
  },
  {
   "cell_type": "markdown",
   "metadata": {
    "id": "MoVlA_IAUd1C"
   },
   "source": [
    "\n",
    "## Transformer"
   ]
  },
  {
   "cell_type": "code",
   "execution_count": 35,
   "metadata": {
    "executionInfo": {
     "elapsed": 52003,
     "status": "aborted",
     "timestamp": 1606773126871,
     "user": {
      "displayName": "Kalyan Kumar Paladugula",
      "photoUrl": "https://lh3.googleusercontent.com/a-/AOh14GhBypR7Wk5RJqa7mv464W6F2Ab5FPdsDmSKVqfY=s64",
      "userId": "13683835722741163781"
     },
     "user_tz": 360
    },
    "id": "0X56CAF1Jflu"
   },
   "outputs": [
    {
     "data": {
      "text/plain": [
       "{'max_length': 55, 'batch_size': 16}"
      ]
     },
     "execution_count": 35,
     "metadata": {},
     "output_type": "execute_result"
    }
   ],
   "source": [
    "{'max_length': 55, 'batch_size': 16}"
   ]
  },
  {
   "cell_type": "code",
   "execution_count": 36,
   "metadata": {
    "executionInfo": {
     "elapsed": 52002,
     "status": "aborted",
     "timestamp": 1606773126874,
     "user": {
      "displayName": "Kalyan Kumar Paladugula",
      "photoUrl": "https://lh3.googleusercontent.com/a-/AOh14GhBypR7Wk5RJqa7mv464W6F2Ab5FPdsDmSKVqfY=s64",
      "userId": "13683835722741163781"
     },
     "user_tz": 360
    },
    "id": "QSnOqcldrIAT"
   },
   "outputs": [],
   "source": [
    "def transformer_train(train_pr_df, max_seq_length, train_batch_size):\n",
    "  # max_length = 20\n",
    "  # batch_size = 32\n",
    "\n",
    "  print('Transformers')\n",
    "  par_dict = {'max_length': max_length, 'batch_size': batch_size}\n",
    "  print(par_dict)\n",
    "  model_args = ClassificationArgs(num_train_epochs=2, train_batch_size = train_batch_size, overwrite_output_dir=True, max_seq_length = max_seq_length)\n",
    "  model = ClassificationModel(model_type='roberta', model_name='cardiffnlp/twitter-roberta-base-sentiment', use_cuda=False, num_labels=3, args=model_args)\n",
    "  model.train_model(train_pr_df)\n",
    "  return model"
   ]
  },
  {
   "cell_type": "code",
   "execution_count": null,
   "metadata": {
    "executionInfo": {
     "elapsed": 52000,
     "status": "aborted",
     "timestamp": 1606773126875,
     "user": {
      "displayName": "Kalyan Kumar Paladugula",
      "photoUrl": "https://lh3.googleusercontent.com/a-/AOh14GhBypR7Wk5RJqa7mv464W6F2Ab5FPdsDmSKVqfY=s64",
      "userId": "13683835722741163781"
     },
     "user_tz": 360
    },
    "id": "vzaJI87XKG3s"
   },
   "outputs": [],
   "source": []
  },
  {
   "cell_type": "markdown",
   "metadata": {
    "id": "cxjiWCtvKHbr"
   },
   "source": [
    "### Logistic Regression"
   ]
  },
  {
   "cell_type": "code",
   "execution_count": 37,
   "metadata": {
    "executionInfo": {
     "elapsed": 51997,
     "status": "aborted",
     "timestamp": 1606773126875,
     "user": {
      "displayName": "Kalyan Kumar Paladugula",
      "photoUrl": "https://lh3.googleusercontent.com/a-/AOh14GhBypR7Wk5RJqa7mv464W6F2Ab5FPdsDmSKVqfY=s64",
      "userId": "13683835722741163781"
     },
     "user_tz": 360
    },
    "id": "rc_zGI5GKG8C"
   },
   "outputs": [
    {
     "data": {
      "text/plain": [
       "{'C': 0.8}"
      ]
     },
     "execution_count": 37,
     "metadata": {},
     "output_type": "execute_result"
    }
   ],
   "source": [
    "{'C': 0.8}"
   ]
  },
  {
   "cell_type": "code",
   "execution_count": 38,
   "metadata": {
    "executionInfo": {
     "elapsed": 51995,
     "status": "aborted",
     "timestamp": 1606773126876,
     "user": {
      "displayName": "Kalyan Kumar Paladugula",
      "photoUrl": "https://lh3.googleusercontent.com/a-/AOh14GhBypR7Wk5RJqa7mv464W6F2Ab5FPdsDmSKVqfY=s64",
      "userId": "13683835722741163781"
     },
     "user_tz": 360
    },
    "id": "p0mSjvrsKgMK"
   },
   "outputs": [],
   "source": [
    "def LR_train(train_pr_tfidf, train_pr_df,C):\n",
    "\n",
    "  print('Logistic Regression')\n",
    "  par_dict = {'C': C}\n",
    "  print(par_dict)\n",
    "  clf = LogisticRegression(C= C,class_weight='balanced',n_jobs =-1)\n",
    "  clf.fit(train_pr_tfidf,train_pr_df['labels'])\n",
    "  \n",
    "  return clf"
   ]
  },
  {
   "cell_type": "code",
   "execution_count": null,
   "metadata": {
    "executionInfo": {
     "elapsed": 51992,
     "status": "aborted",
     "timestamp": 1606773126876,
     "user": {
      "displayName": "Kalyan Kumar Paladugula",
      "photoUrl": "https://lh3.googleusercontent.com/a-/AOh14GhBypR7Wk5RJqa7mv464W6F2Ab5FPdsDmSKVqfY=s64",
      "userId": "13683835722741163781"
     },
     "user_tz": 360
    },
    "id": "nYh_zFYUCpT3"
   },
   "outputs": [],
   "source": []
  },
  {
   "cell_type": "markdown",
   "metadata": {
    "id": "Vj8ilxW-Cp69"
   },
   "source": [
    "### SVM"
   ]
  },
  {
   "cell_type": "code",
   "execution_count": 39,
   "metadata": {
    "executionInfo": {
     "elapsed": 51988,
     "status": "aborted",
     "timestamp": 1606773126876,
     "user": {
      "displayName": "Kalyan Kumar Paladugula",
      "photoUrl": "https://lh3.googleusercontent.com/a-/AOh14GhBypR7Wk5RJqa7mv464W6F2Ab5FPdsDmSKVqfY=s64",
      "userId": "13683835722741163781"
     },
     "user_tz": 360
    },
    "id": "yAc66ufmCpWk"
   },
   "outputs": [],
   "source": [
    "def SVM_train(train_pr_tfidf, train_pr_df, C, n):\n",
    "  pca = PCA(n_components=n)  \n",
    "  par_dict = {'C': C, 'n': n, 'kernel': 'rbf'}\n",
    "  print(par_dict)\n",
    "  x_pca1 = pca.fit_transform(train_pr_tfidf)\n",
    "  clf = SVC(C= C, kernel = 'rbf', class_weight='balanced')\n",
    "  model = clf.fit(x_pca1, train_pr_df['labels'])\n",
    "\n",
    "  return model\n",
    "\n",
    "  "
   ]
  },
  {
   "cell_type": "code",
   "execution_count": 41,
   "metadata": {
    "executionInfo": {
     "elapsed": 51987,
     "status": "aborted",
     "timestamp": 1606773126877,
     "user": {
      "displayName": "Kalyan Kumar Paladugula",
      "photoUrl": "https://lh3.googleusercontent.com/a-/AOh14GhBypR7Wk5RJqa7mv464W6F2Ab5FPdsDmSKVqfY=s64",
      "userId": "13683835722741163781"
     },
     "user_tz": 360
    },
    "id": "pkjOmbJhDn1x"
   },
   "outputs": [],
   "source": [
    "# y_pred_SVM= SVM_pred(train_pr_tfidf, train_pr_df, val_pr_tfidf, 1.53, 803)"
   ]
  },
  {
   "cell_type": "markdown",
   "metadata": {
    "id": "zcblpaAcKM3y"
   },
   "source": [
    "## Ensemble"
   ]
  },
  {
   "cell_type": "code",
   "execution_count": 43,
   "metadata": {
    "executionInfo": {
     "elapsed": 51982,
     "status": "aborted",
     "timestamp": 1606773126877,
     "user": {
      "displayName": "Kalyan Kumar Paladugula",
      "photoUrl": "https://lh3.googleusercontent.com/a-/AOh14GhBypR7Wk5RJqa7mv464W6F2Ab5FPdsDmSKVqfY=s64",
      "userId": "13683835722741163781"
     },
     "user_tz": 360
    },
    "id": "ePHH_ka0Jecm"
   },
   "outputs": [],
   "source": [
    "max_length = 35\n",
    "batch_size = 16\n",
    "C_LR = 0.51\n",
    "C_SVM = 1.53\n",
    "n_PCA = 803"
   ]
  },
  {
   "cell_type": "code",
   "execution_count": 44,
   "metadata": {},
   "outputs": [],
   "source": [
    "def train(train_pr_df, train_pr_tfidf,  max_length, batch_size, C_LR,C_SVM,n_PCA):\n",
    "    model_T = transformer_train(train_pr_df, max_length, batch_size)\n",
    "    model_LR = LR_train(train_pr_tfidf, train_pr_df, C_LR)\n",
    "    model_SVM= SVM_train(train_pr_tfidf, train_pr_df, C_SVM, n_PCA)\n",
    "    return  model_T, model_LR, model_SVM\n",
    "    "
   ]
  },
  {
   "cell_type": "code",
   "execution_count": 47,
   "metadata": {},
   "outputs": [
    {
     "name": "stdout",
     "output_type": "stream",
     "text": [
      "Transformers\n",
      "{'max_length': 35, 'batch_size': 16}\n"
     ]
    },
    {
     "name": "stderr",
     "output_type": "stream",
     "text": [
      "Some weights of RobertaForSequenceClassification were not initialized from the model checkpoint at cardiffnlp/twitter-roberta-base-sentiment and are newly initialized: ['roberta.pooler.dense.weight', 'roberta.pooler.dense.bias']\n",
      "You should probably TRAIN this model on a down-stream task to be able to use it for predictions and inference.\n"
     ]
    },
    {
     "data": {
      "application/vnd.jupyter.widget-view+json": {
       "model_id": "8deb673d9b0d4a5691c951872c082fc2",
       "version_major": 2,
       "version_minor": 0
      },
      "text/plain": [
       "HBox(children=(FloatProgress(value=0.0, max=4517.0), HTML(value='')))"
      ]
     },
     "metadata": {},
     "output_type": "display_data"
    },
    {
     "name": "stdout",
     "output_type": "stream",
     "text": [
      "\n"
     ]
    },
    {
     "data": {
      "application/vnd.jupyter.widget-view+json": {
       "model_id": "b29550ddc02e43089136cedb4b104fa8",
       "version_major": 2,
       "version_minor": 0
      },
      "text/plain": [
       "HBox(children=(FloatProgress(value=0.0, description='Epoch', max=2.0, style=ProgressStyle(description_width='i…"
      ]
     },
     "metadata": {},
     "output_type": "display_data"
    },
    {
     "data": {
      "application/vnd.jupyter.widget-view+json": {
       "model_id": "9a9b695c1f594a79979f9b93093b3931",
       "version_major": 2,
       "version_minor": 0
      },
      "text/plain": [
       "HBox(children=(FloatProgress(value=0.0, description='Running Epoch 0 of 2', max=283.0, style=ProgressStyle(des…"
      ]
     },
     "metadata": {},
     "output_type": "display_data"
    },
    {
     "name": "stdout",
     "output_type": "stream",
     "text": [
      "\n"
     ]
    },
    {
     "name": "stderr",
     "output_type": "stream",
     "text": [
      "C:\\Users\\kalya\\anaconda3\\lib\\site-packages\\torch\\optim\\lr_scheduler.py:216: UserWarning: Please also save or load the state of the optimizer when saving or loading the scheduler.\n",
      "  warnings.warn(SAVE_STATE_WARNING, UserWarning)\n"
     ]
    },
    {
     "data": {
      "application/vnd.jupyter.widget-view+json": {
       "model_id": "475058556db14890be07149fd02ccf8f",
       "version_major": 2,
       "version_minor": 0
      },
      "text/plain": [
       "HBox(children=(FloatProgress(value=0.0, description='Running Epoch 1 of 2', max=283.0, style=ProgressStyle(des…"
      ]
     },
     "metadata": {},
     "output_type": "display_data"
    },
    {
     "name": "stdout",
     "output_type": "stream",
     "text": [
      "\n",
      "\n",
      "Logistic Regression\n",
      "{'C': 0.51}\n",
      "{'C': 1.53, 'n': 803, 'kernel': 'rbf'}\n"
     ]
    }
   ],
   "source": [
    "model_T, model_LR, model_SVM = train(train_pr_df, train_pr_tfidf,  max_length, batch_size, C_LR,C_SVM,n_PCA)"
   ]
  },
  {
   "cell_type": "code",
   "execution_count": 50,
   "metadata": {
    "executionInfo": {
     "elapsed": 51980,
     "status": "aborted",
     "timestamp": 1606773126878,
     "user": {
      "displayName": "Kalyan Kumar Paladugula",
      "photoUrl": "https://lh3.googleusercontent.com/a-/AOh14GhBypR7Wk5RJqa7mv464W6F2Ab5FPdsDmSKVqfY=s64",
      "userId": "13683835722741163781"
     },
     "user_tz": 360
    },
    "id": "BTVMYzjwkWD2"
   },
   "outputs": [],
   "source": [
    "def pred(test_pr_df, test_pr_tfidf, model_T, model_LR, model_SVM):\n",
    "    \n",
    "    \n",
    "    y_pred_T= model_T.predict(test_pr_df['text'])[0]\n",
    "    \n",
    "\n",
    "    y_pred_LR = model_LR.predict(test_pr_tfidf)\n",
    "    \n",
    "  \n",
    "    x_pca_test = pca.transform(test_pr_tfidf)\n",
    "    y_pred = model_SVM.predict(x_pca_test)\n",
    "    \n",
    "    y_pred = np.round(1.3*y_pred_T + 0.3*y_pred_LR + 0.4*y_pred_SVM)\n",
    "    f1_temp = np.round(f1_score(test_pr_df['labels'], y_pred, average = None),3)\n",
    "\n",
    "    f1_Positive = f1_temp[0]\n",
    "    f1_Neutral = f1_temp[1]\n",
    "    f1_Negative = f1_temp[2]\n",
    "\n",
    "    accuracy = round(accuracy_score(test_pr_df['labels'], y_pred),3) \n",
    "    eval_score = round(mean([0.4*accuracy, 1.6*f1_Positive]),3)   \n",
    "    eval_dict = {'accuracy': accuracy, 'f1_pos': f1_Positive, 'f1_neu': f1_Neutral, 'f1_neg': f1_Negative, 'eval_score': eval_score}\n",
    "    print('\\n')\n",
    "    print(eval_dict)"
   ]
  },
  {
   "cell_type": "code",
   "execution_count": 51,
   "metadata": {
    "executionInfo": {
     "elapsed": 51975,
     "status": "aborted",
     "timestamp": 1606773126878,
     "user": {
      "displayName": "Kalyan Kumar Paladugula",
      "photoUrl": "https://lh3.googleusercontent.com/a-/AOh14GhBypR7Wk5RJqa7mv464W6F2Ab5FPdsDmSKVqfY=s64",
      "userId": "13683835722741163781"
     },
     "user_tz": 360
    },
    "id": "i67tuwnD3u5O"
   },
   "outputs": [
    {
     "data": {
      "application/vnd.jupyter.widget-view+json": {
       "model_id": "5bb670ee6f8a4a749797276321ed12cd",
       "version_major": 2,
       "version_minor": 0
      },
      "text/plain": [
       "HBox(children=(FloatProgress(value=0.0, max=1130.0), HTML(value='')))"
      ]
     },
     "metadata": {},
     "output_type": "display_data"
    },
    {
     "name": "stdout",
     "output_type": "stream",
     "text": [
      "\n"
     ]
    },
    {
     "data": {
      "application/vnd.jupyter.widget-view+json": {
       "model_id": "f351a50c2194461f990deec5bb12b3b6",
       "version_major": 2,
       "version_minor": 0
      },
      "text/plain": [
       "HBox(children=(FloatProgress(value=0.0, max=142.0), HTML(value='')))"
      ]
     },
     "metadata": {},
     "output_type": "display_data"
    },
    {
     "name": "stdout",
     "output_type": "stream",
     "text": [
      "\n"
     ]
    },
    {
     "ename": "NameError",
     "evalue": "name 'pca' is not defined",
     "output_type": "error",
     "traceback": [
      "\u001b[1;31m---------------------------------------------------------------------------\u001b[0m",
      "\u001b[1;31mNameError\u001b[0m                                 Traceback (most recent call last)",
      "\u001b[1;32m<ipython-input-51-cd182f3932c6>\u001b[0m in \u001b[0;36m<module>\u001b[1;34m\u001b[0m\n\u001b[1;32m----> 1\u001b[1;33m \u001b[0mpred\u001b[0m\u001b[1;33m(\u001b[0m\u001b[0mval_pr_df\u001b[0m\u001b[1;33m,\u001b[0m \u001b[0mval_pr_tfidf\u001b[0m\u001b[1;33m,\u001b[0m \u001b[0mmodel_T\u001b[0m\u001b[1;33m,\u001b[0m \u001b[0mmodel_LR\u001b[0m\u001b[1;33m,\u001b[0m \u001b[0mmodel_SVM\u001b[0m\u001b[1;33m)\u001b[0m\u001b[1;33m\u001b[0m\u001b[1;33m\u001b[0m\u001b[0m\n\u001b[0m",
      "\u001b[1;32m<ipython-input-50-44a437f77086>\u001b[0m in \u001b[0;36mpred\u001b[1;34m(test_pr_df, test_pr_tfidf, model_T, model_LR, model_SVM)\u001b[0m\n\u001b[0;32m      8\u001b[0m \u001b[1;33m\u001b[0m\u001b[0m\n\u001b[0;32m      9\u001b[0m \u001b[1;33m\u001b[0m\u001b[0m\n\u001b[1;32m---> 10\u001b[1;33m     \u001b[0mx_pca_test\u001b[0m \u001b[1;33m=\u001b[0m \u001b[0mpca\u001b[0m\u001b[1;33m.\u001b[0m\u001b[0mtransform\u001b[0m\u001b[1;33m(\u001b[0m\u001b[0mtest_pr_tfidf\u001b[0m\u001b[1;33m)\u001b[0m\u001b[1;33m\u001b[0m\u001b[1;33m\u001b[0m\u001b[0m\n\u001b[0m\u001b[0;32m     11\u001b[0m     \u001b[0my_pred\u001b[0m \u001b[1;33m=\u001b[0m \u001b[0mmodel_SVM\u001b[0m\u001b[1;33m.\u001b[0m\u001b[0mpredict\u001b[0m\u001b[1;33m(\u001b[0m\u001b[0mx_pca_test\u001b[0m\u001b[1;33m)\u001b[0m\u001b[1;33m\u001b[0m\u001b[1;33m\u001b[0m\u001b[0m\n\u001b[0;32m     12\u001b[0m \u001b[1;33m\u001b[0m\u001b[0m\n",
      "\u001b[1;31mNameError\u001b[0m: name 'pca' is not defined"
     ]
    }
   ],
   "source": [
    "pred(val_pr_df, val_pr_tfidf, model_T, model_LR, model_SVM)"
   ]
  },
  {
   "cell_type": "code",
   "execution_count": null,
   "metadata": {
    "executionInfo": {
     "elapsed": 51974,
     "status": "aborted",
     "timestamp": 1606773126879,
     "user": {
      "displayName": "Kalyan Kumar Paladugula",
      "photoUrl": "https://lh3.googleusercontent.com/a-/AOh14GhBypR7Wk5RJqa7mv464W6F2Ab5FPdsDmSKVqfY=s64",
      "userId": "13683835722741163781"
     },
     "user_tz": 360
    },
    "id": "sccZXVZy39s_"
   },
   "outputs": [],
   "source": []
  },
  {
   "cell_type": "code",
   "execution_count": null,
   "metadata": {
    "executionInfo": {
     "elapsed": 51971,
     "status": "aborted",
     "timestamp": 1606773126879,
     "user": {
      "displayName": "Kalyan Kumar Paladugula",
      "photoUrl": "https://lh3.googleusercontent.com/a-/AOh14GhBypR7Wk5RJqa7mv464W6F2Ab5FPdsDmSKVqfY=s64",
      "userId": "13683835722741163781"
     },
     "user_tz": 360
    },
    "id": "wZpLkeuOH1c1"
   },
   "outputs": [],
   "source": [
    "def ensemble2(train_pr_df, train_pr_tfidf, test_pr_df, test_pr_tfidf, max_length, batch_size, C):\n",
    "  y_pred = transformer_pred(train_pr_df, test_pr_df,max_length, batch_size)\n",
    "  # y_pred_LR = LR_pred(train_pr_tfidf, train_pr_df, test_pr_tfidf, C)\n",
    "  # y_pred = np.round(0.7*y_pred_T + 0.3*y_pred_LR)\n",
    "  f1_temp = np.round(f1_score(test_pr_df['labels'], y_pred, average = None),3)\n",
    "\n",
    "  f1_Positive = f1_temp[0]\n",
    "  f1_Neutral = f1_temp[1]\n",
    "  f1_Negative = f1_temp[2]\n",
    "\n",
    "  accuracy = round(accuracy_score(test_pr_df['labels'], y_pred),3) \n",
    "  eval_score = round(mean([0.4*accuracy, 1.6*f1_Positive]),3)   \n",
    "  eval_dict = {'accuracy': accuracy, 'f1_pos': f1_Positive, 'f1_neu': f1_Neutral, 'f1_neg': f1_Negative, 'eval_score': eval_score}\n",
    "  print('\\n')\n",
    "  print(eval_dict)"
   ]
  },
  {
   "cell_type": "code",
   "execution_count": null,
   "metadata": {
    "executionInfo": {
     "elapsed": 51969,
     "status": "aborted",
     "timestamp": 1606773126879,
     "user": {
      "displayName": "Kalyan Kumar Paladugula",
      "photoUrl": "https://lh3.googleusercontent.com/a-/AOh14GhBypR7Wk5RJqa7mv464W6F2Ab5FPdsDmSKVqfY=s64",
      "userId": "13683835722741163781"
     },
     "user_tz": 360
    },
    "id": "EqmMFyvoH1c1"
   },
   "outputs": [],
   "source": [
    "ensemble2(train_pr_df, train_pr_tfidf, val_pr_df, val_pr_tfidf, max_length, batch_size, C)"
   ]
  },
  {
   "cell_type": "code",
   "execution_count": null,
   "metadata": {
    "executionInfo": {
     "elapsed": 51967,
     "status": "aborted",
     "timestamp": 1606773126880,
     "user": {
      "displayName": "Kalyan Kumar Paladugula",
      "photoUrl": "https://lh3.googleusercontent.com/a-/AOh14GhBypR7Wk5RJqa7mv464W6F2Ab5FPdsDmSKVqfY=s64",
      "userId": "13683835722741163781"
     },
     "user_tz": 360
    },
    "id": "dWLI33dbRan7"
   },
   "outputs": [],
   "source": []
  },
  {
   "cell_type": "code",
   "execution_count": null,
   "metadata": {
    "executionInfo": {
     "elapsed": 51965,
     "status": "aborted",
     "timestamp": 1606773126880,
     "user": {
      "displayName": "Kalyan Kumar Paladugula",
      "photoUrl": "https://lh3.googleusercontent.com/a-/AOh14GhBypR7Wk5RJqa7mv464W6F2Ab5FPdsDmSKVqfY=s64",
      "userId": "13683835722741163781"
     },
     "user_tz": 360
    },
    "id": "LCCABMkXIwNf"
   },
   "outputs": [],
   "source": []
  },
  {
   "cell_type": "code",
   "execution_count": null,
   "metadata": {
    "executionInfo": {
     "elapsed": 51961,
     "status": "aborted",
     "timestamp": 1606773126880,
     "user": {
      "displayName": "Kalyan Kumar Paladugula",
      "photoUrl": "https://lh3.googleusercontent.com/a-/AOh14GhBypR7Wk5RJqa7mv464W6F2Ab5FPdsDmSKVqfY=s64",
      "userId": "13683835722741163781"
     },
     "user_tz": 360
    },
    "id": "5SDmdqOIIwlp"
   },
   "outputs": [],
   "source": [
    "def ensemble3(train_pr_df, train_pr_tfidf, test_pr_df, test_pr_tfidf, max_length, batch_size, C):\n",
    "  # y_pred = transformer_pred(train_pr_df, test_pr_df,max_length, batch_size)\n",
    "  y_pred = LR_pred(train_pr_tfidf, train_pr_df, test_pr_tfidf, C)\n",
    "  # y_pred = np.round(0.7*y_pred_T + 0.3*y_pred_LR)\n",
    "  f1_temp = np.round(f1_score(test_pr_df['labels'], y_pred, average = None),3)\n",
    "\n",
    "  f1_Positive = f1_temp[0]\n",
    "  f1_Neutral = f1_temp[1]\n",
    "  f1_Negative = f1_temp[2]\n",
    "\n",
    "  accuracy = round(accuracy_score(test_pr_df['labels'], y_pred),3) \n",
    "  eval_score = round(mean([0.4*accuracy, 1.6*f1_Positive]),3)   \n",
    "  eval_dict = {'accuracy': accuracy, 'f1_pos': f1_Positive, 'f1_neu': f1_Neutral, 'f1_neg': f1_Negative, 'eval_score': eval_score}\n",
    "  print('\\n')\n",
    "  print(eval_dict)"
   ]
  },
  {
   "cell_type": "code",
   "execution_count": null,
   "metadata": {
    "executionInfo": {
     "elapsed": 51959,
     "status": "aborted",
     "timestamp": 1606773126881,
     "user": {
      "displayName": "Kalyan Kumar Paladugula",
      "photoUrl": "https://lh3.googleusercontent.com/a-/AOh14GhBypR7Wk5RJqa7mv464W6F2Ab5FPdsDmSKVqfY=s64",
      "userId": "13683835722741163781"
     },
     "user_tz": 360
    },
    "id": "LC4byE4nIwlq"
   },
   "outputs": [],
   "source": [
    "ensemble3(train_pr_df, train_pr_tfidf, val_pr_df, val_pr_tfidf, max_length, batch_size, C)"
   ]
  },
  {
   "cell_type": "code",
   "execution_count": null,
   "metadata": {
    "executionInfo": {
     "elapsed": 51956,
     "status": "aborted",
     "timestamp": 1606773126881,
     "user": {
      "displayName": "Kalyan Kumar Paladugula",
      "photoUrl": "https://lh3.googleusercontent.com/a-/AOh14GhBypR7Wk5RJqa7mv464W6F2Ab5FPdsDmSKVqfY=s64",
      "userId": "13683835722741163781"
     },
     "user_tz": 360
    },
    "id": "chSAkwgYI1zb"
   },
   "outputs": [],
   "source": []
  }
 ],
 "metadata": {
  "accelerator": "GPU",
  "colab": {
   "collapsed_sections": [],
   "name": "Copy of Romney_Twitter_Sentiment_Analysis_Ensemble.ipynb",
   "provenance": []
  },
  "kernelspec": {
   "display_name": "Python 3",
   "language": "python",
   "name": "python3"
  },
  "language_info": {
   "codemirror_mode": {
    "name": "ipython",
    "version": 3
   },
   "file_extension": ".py",
   "mimetype": "text/x-python",
   "name": "python",
   "nbconvert_exporter": "python",
   "pygments_lexer": "ipython3",
   "version": "3.8.3"
  }
 },
 "nbformat": 4,
 "nbformat_minor": 4
}
