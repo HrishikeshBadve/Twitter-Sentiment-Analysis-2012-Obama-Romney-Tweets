{
 "cells": [
  {
   "cell_type": "code",
   "execution_count": 1,
   "metadata": {
    "colab": {
     "base_uri": "https://localhost:8080/"
    },
    "id": "78PhOL0jpZdY",
    "outputId": "5ef6feb8-a6f7-48dc-baf1-5109902d3f24"
   },
   "outputs": [
    {
     "name": "stdout",
     "output_type": "stream",
     "text": [
      "Mounted at /content/drive\n"
     ]
    }
   ],
   "source": [
    "# from google.colab import drive\n",
    "# drive.mount('/content/drive')"
   ]
  },
  {
   "cell_type": "code",
   "execution_count": 2,
   "metadata": {
    "colab": {
     "base_uri": "https://localhost:8080/"
    },
    "id": "AEM1ZS6vpu6b",
    "outputId": "df0ec57a-c45b-49e9-ef06-43d5ab03195c"
   },
   "outputs": [
    {
     "name": "stdout",
     "output_type": "stream",
     "text": [
      "/content/drive/My Drive/Research Project\n"
     ]
    }
   ],
   "source": [
    "# %cd /content/drive/My Drive/Research Project"
   ]
  },
  {
   "cell_type": "code",
   "execution_count": 3,
   "metadata": {
    "id": "QsHo75fupasE"
   },
   "outputs": [],
   "source": [
    "import pandas as pd\n",
    "import numpy as np\n",
    "import os\n",
    "# import src\n",
    "import matplotlib.pyplot as plt\n",
    "import seaborn as sns"
   ]
  },
  {
   "cell_type": "code",
   "execution_count": 4,
   "metadata": {
    "colab": {
     "base_uri": "https://localhost:8080/"
    },
    "id": "4ePRqI5M3qPi",
    "outputId": "7166afbe-e2ef-45ca-b8a9-d3552fd9274d"
   },
   "outputs": [],
   "source": [
    "# pip install -U mittens"
   ]
  },
  {
   "cell_type": "code",
   "execution_count": 5,
   "metadata": {
    "id": "hgktrAVlpZdb"
   },
   "outputs": [],
   "source": [
    "from sklearn.model_selection import train_test_split\n",
    "from sklearn.metrics import accuracy_score, precision_score, recall_score, f1_score\n",
    "from sklearn.feature_extraction.text import TfidfVectorizer\n",
    "from sklearn.model_selection import train_test_split, cross_val_score, KFold\n",
    "from statistics import mean, stdev, median, mode\n",
    "# With PCA\n",
    "from sklearn.decomposition import PCA\n",
    "\n",
    "from sklearn.feature_extraction.text import CountVectorizer\n",
    "# SVM\n",
    "from sklearn.svm import SVC\n",
    "from sklearn.naive_bayes import GaussianNB\n",
    "# KNN\n",
    "from sklearn.neighbors import KNeighborsClassifier\n",
    "from sklearn.ensemble import RandomForestClassifier\n",
    "\n",
    "from mittens import GloVe, Mittens"
   ]
  },
  {
   "cell_type": "code",
   "execution_count": 6,
   "metadata": {
    "colab": {
     "base_uri": "https://localhost:8080/"
    },
    "id": "NO6oNPy7px_h",
    "outputId": "2d590ef1-c608-4dd5-dbe2-119dc543ea04"
   },
   "outputs": [],
   "source": [
    "# pip install autocorrect"
   ]
  },
  {
   "cell_type": "code",
   "execution_count": 7,
   "metadata": {
    "id": "qXIBsqXjpZdd"
   },
   "outputs": [],
   "source": [
    "\n",
    "import nltk\n",
    "# nltk.download()\n",
    "import string\n",
    "from nltk.tokenize import word_tokenize\n",
    "import random\n",
    "import pickle\n",
    "from nltk.corpus import stopwords\n",
    "\n",
    "from autocorrect import Speller\n",
    "# from pycontractions import Contractions\n",
    "\n",
    "# from spellchecker import SpellChecker\n",
    "\n",
    "import re\n",
    "from nltk.corpus import wordnet\n",
    "from nltk.stem.wordnet import WordNetLemmatizer \n",
    "\n",
    "from hyperopt import fmin, tpe, hp"
   ]
  },
  {
   "cell_type": "code",
   "execution_count": 8,
   "metadata": {
    "colab": {
     "base_uri": "https://localhost:8080/"
    },
    "id": "BALelbZyNU02",
    "outputId": "b7e47a1f-4fb1-47a0-e855-f10034934aa2"
   },
   "outputs": [],
   "source": [
    "# nltk.download('all')"
   ]
  },
  {
   "cell_type": "code",
   "execution_count": null,
   "metadata": {
    "id": "0lim7c1rpZdf"
   },
   "outputs": [],
   "source": []
  },
  {
   "cell_type": "code",
   "execution_count": 9,
   "metadata": {
    "id": "w8gGSNnE_Ngv"
   },
   "outputs": [],
   "source": [
    "import tensorflow_addons as tfa\n",
    "\n",
    "from numpy import asarray\n",
    "from numpy import zeros\n",
    "from sklearn.utils import shuffle\n",
    "from sklearn.metrics import f1_score, precision_score, recall_score, accuracy_score\n",
    "\n",
    "import tensorflow as tf\n",
    "from tensorflow.keras.preprocessing.text import Tokenizer\n",
    "from tensorflow.keras.preprocessing.sequence import pad_sequences\n",
    "from tensorflow.keras.models import Sequential\n",
    "from tensorflow.keras.layers import Dense\n",
    "from tensorflow.keras.layers import Flatten, Dropout, MaxPool1D\n",
    "from tensorflow.keras import optimizers\n",
    "from tensorflow.keras.layers import Embedding, SimpleRNN, LSTM, GRU, Bidirectional\n",
    "import tensorflow.keras.backend as K"
   ]
  },
  {
   "cell_type": "code",
   "execution_count": 10,
   "metadata": {
    "id": "IUnMZe9zpZdh"
   },
   "outputs": [],
   "source": [
    "# nltk.download('all')"
   ]
  },
  {
   "cell_type": "code",
   "execution_count": null,
   "metadata": {
    "id": "cBTlpT5I_Nhp"
   },
   "outputs": [],
   "source": []
  },
  {
   "cell_type": "markdown",
   "metadata": {
    "id": "dugwt7lTaCiA"
   },
   "source": [
    "### Getting Data"
   ]
  },
  {
   "cell_type": "code",
   "execution_count": 11,
   "metadata": {
    "id": "AD9U00CVddNC"
   },
   "outputs": [],
   "source": [
    "data_path = r'C:\\Users\\kalya\\OneDrive - University of Illinois at Chicago\\!UIC\\!Semesters\\3rd Sem\\CS 583 Data Mining and Text Mining\\Research Project\\Data'"
   ]
  },
  {
   "cell_type": "code",
   "execution_count": null,
   "metadata": {
    "id": "96eAfNsDaiVd"
   },
   "outputs": [],
   "source": []
  },
  {
   "cell_type": "code",
   "execution_count": 22,
   "metadata": {
    "id": "kljiyU8TaCiF"
   },
   "outputs": [],
   "source": [
    "obama_train_pr_df = pd.read_csv(os.path.join(data_path, 'Obama Training Data.csv'), usecols = [1,2])\n",
    "# romney_train_pr_df = pd.read_csv(os.path.join(data_path, 'Romney Training Data.csv'), usecols = [1,2])\n",
    "\n",
    "obama_val_pr_df = pd.read_csv(os.path.join(data_path, 'Obama Validation Data.csv'), usecols = [1,2])\n",
    "# romney_val_pr_df = pd.read_csv(os.path.join(data_path, 'Romney Validation Data.csv'), usecols = [1,2])"
   ]
  },
  {
   "cell_type": "code",
   "execution_count": 23,
   "metadata": {
    "colab": {
     "base_uri": "https://localhost:8080/",
     "height": 204
    },
    "id": "mcLnGHdPaCiI",
    "outputId": "173fe46d-f71f-4d97-f16b-d26cdad70c7d"
   },
   "outputs": [
    {
     "data": {
      "text/html": [
       "<div>\n",
       "<style scoped>\n",
       "    .dataframe tbody tr th:only-of-type {\n",
       "        vertical-align: middle;\n",
       "    }\n",
       "\n",
       "    .dataframe tbody tr th {\n",
       "        vertical-align: top;\n",
       "    }\n",
       "\n",
       "    .dataframe thead th {\n",
       "        text-align: right;\n",
       "    }\n",
       "</style>\n",
       "<table border=\"1\" class=\"dataframe\">\n",
       "  <thead>\n",
       "    <tr style=\"text-align: right;\">\n",
       "      <th></th>\n",
       "      <th>Doc Text</th>\n",
       "      <th>Sentiment</th>\n",
       "    </tr>\n",
       "  </thead>\n",
       "  <tbody>\n",
       "    <tr>\n",
       "      <th>0</th>\n",
       "      <td>obama need b remove dangerous white house czar...</td>\n",
       "      <td>Negative</td>\n",
       "    </tr>\n",
       "    <tr>\n",
       "      <th>1</th>\n",
       "      <td>sidenote obama profile sexy back debate</td>\n",
       "      <td>Positive</td>\n",
       "    </tr>\n",
       "    <tr>\n",
       "      <th>2</th>\n",
       "      <td>hillary take bullet obama n buck still fall</td>\n",
       "      <td>Negative</td>\n",
       "    </tr>\n",
       "    <tr>\n",
       "      <th>3</th>\n",
       "      <td>morgan freeman obama best commercial ever need...</td>\n",
       "      <td>Positive</td>\n",
       "    </tr>\n",
       "    <tr>\n",
       "      <th>4</th>\n",
       "      <td>bitch like obama bitch want food stamp lmao</td>\n",
       "      <td>Neutral</td>\n",
       "    </tr>\n",
       "  </tbody>\n",
       "</table>\n",
       "</div>"
      ],
      "text/plain": [
       "                                            Doc Text Sentiment\n",
       "0  obama need b remove dangerous white house czar...  Negative\n",
       "1            sidenote obama profile sexy back debate  Positive\n",
       "2        hillary take bullet obama n buck still fall  Negative\n",
       "3  morgan freeman obama best commercial ever need...  Positive\n",
       "4        bitch like obama bitch want food stamp lmao   Neutral"
      ]
     },
     "execution_count": 23,
     "metadata": {},
     "output_type": "execute_result"
    }
   ],
   "source": [
    "obama_train_pr_df.head()"
   ]
  },
  {
   "cell_type": "code",
   "execution_count": 24,
   "metadata": {},
   "outputs": [
    {
     "data": {
      "text/html": [
       "<div>\n",
       "<style scoped>\n",
       "    .dataframe tbody tr th:only-of-type {\n",
       "        vertical-align: middle;\n",
       "    }\n",
       "\n",
       "    .dataframe tbody tr th {\n",
       "        vertical-align: top;\n",
       "    }\n",
       "\n",
       "    .dataframe thead th {\n",
       "        text-align: right;\n",
       "    }\n",
       "</style>\n",
       "<table border=\"1\" class=\"dataframe\">\n",
       "  <thead>\n",
       "    <tr style=\"text-align: right;\">\n",
       "      <th></th>\n",
       "      <th>Doc Text</th>\n",
       "      <th>Sentiment</th>\n",
       "    </tr>\n",
       "  </thead>\n",
       "  <tbody>\n",
       "    <tr>\n",
       "      <th>0</th>\n",
       "      <td>hell obama can not even take care one border p...</td>\n",
       "      <td>Negative</td>\n",
       "    </tr>\n",
       "    <tr>\n",
       "      <th>1</th>\n",
       "      <td>obama save auto industry enough say team obama</td>\n",
       "      <td>Positive</td>\n",
       "    </tr>\n",
       "    <tr>\n",
       "      <th>2</th>\n",
       "      <td>great obama hope take today sport section cheat</td>\n",
       "      <td>Negative</td>\n",
       "    </tr>\n",
       "    <tr>\n",
       "      <th>3</th>\n",
       "      <td>appreciate obama capitalisizes fact black</td>\n",
       "      <td>Negative</td>\n",
       "    </tr>\n",
       "    <tr>\n",
       "      <th>4</th>\n",
       "      <td>ann romney michelle obama dress second debate ...</td>\n",
       "      <td>Neutral</td>\n",
       "    </tr>\n",
       "  </tbody>\n",
       "</table>\n",
       "</div>"
      ],
      "text/plain": [
       "                                            Doc Text Sentiment\n",
       "0  hell obama can not even take care one border p...  Negative\n",
       "1     obama save auto industry enough say team obama  Positive\n",
       "2    great obama hope take today sport section cheat  Negative\n",
       "3          appreciate obama capitalisizes fact black  Negative\n",
       "4  ann romney michelle obama dress second debate ...   Neutral"
      ]
     },
     "execution_count": 24,
     "metadata": {},
     "output_type": "execute_result"
    }
   ],
   "source": [
    "obama_val_pr_df.head()"
   ]
  },
  {
   "cell_type": "code",
   "execution_count": 25,
   "metadata": {
    "id": "XORvLV2iaCiM"
   },
   "outputs": [],
   "source": [
    "obama_train_pr_df = obama_train_pr_df.dropna()\n",
    "# romney_train_pr_df = romney_train_pr_df.dropna()"
   ]
  },
  {
   "cell_type": "code",
   "execution_count": 28,
   "metadata": {
    "id": "l4qdpS83daOj"
   },
   "outputs": [],
   "source": [
    "obama_train1_pr_df = pd.read_csv(os.path.join(data_path, 'Obama Training1 Data.csv'), usecols = [1,2])"
   ]
  },
  {
   "cell_type": "code",
   "execution_count": 29,
   "metadata": {},
   "outputs": [
    {
     "data": {
      "text/html": [
       "<div>\n",
       "<style scoped>\n",
       "    .dataframe tbody tr th:only-of-type {\n",
       "        vertical-align: middle;\n",
       "    }\n",
       "\n",
       "    .dataframe tbody tr th {\n",
       "        vertical-align: top;\n",
       "    }\n",
       "\n",
       "    .dataframe thead th {\n",
       "        text-align: right;\n",
       "    }\n",
       "</style>\n",
       "<table border=\"1\" class=\"dataframe\">\n",
       "  <thead>\n",
       "    <tr style=\"text-align: right;\">\n",
       "      <th></th>\n",
       "      <th>Doc Text</th>\n",
       "      <th>Sentiment</th>\n",
       "    </tr>\n",
       "  </thead>\n",
       "  <tbody>\n",
       "    <tr>\n",
       "      <th>0</th>\n",
       "      <td>kirkpatrick wear baseball cap embroider obama ...</td>\n",
       "      <td>Neutral</td>\n",
       "    </tr>\n",
       "    <tr>\n",
       "      <th>1</th>\n",
       "      <td>obama debate cracker as cracker tonight tune t...</td>\n",
       "      <td>Positive</td>\n",
       "    </tr>\n",
       "    <tr>\n",
       "      <th>2</th>\n",
       "      <td>miss point afraid understand big picture dont ...</td>\n",
       "      <td>Neutral</td>\n",
       "    </tr>\n",
       "    <tr>\n",
       "      <th>3</th>\n",
       "      <td>raise democrat leave party year ago lifetime n...</td>\n",
       "      <td>Negative</td>\n",
       "    </tr>\n",
       "    <tr>\n",
       "      <th>4</th>\n",
       "      <td>obama camp can not afford low expectation toni...</td>\n",
       "      <td>Neutral</td>\n",
       "    </tr>\n",
       "  </tbody>\n",
       "</table>\n",
       "</div>"
      ],
      "text/plain": [
       "                                            Doc Text Sentiment\n",
       "0  kirkpatrick wear baseball cap embroider obama ...   Neutral\n",
       "1  obama debate cracker as cracker tonight tune t...  Positive\n",
       "2  miss point afraid understand big picture dont ...   Neutral\n",
       "3  raise democrat leave party year ago lifetime n...  Negative\n",
       "4  obama camp can not afford low expectation toni...   Neutral"
      ]
     },
     "execution_count": 29,
     "metadata": {},
     "output_type": "execute_result"
    }
   ],
   "source": [
    "obama_train1_pr_df.head()"
   ]
  },
  {
   "cell_type": "code",
   "execution_count": 30,
   "metadata": {},
   "outputs": [],
   "source": [
    "obama_train1_pr_df = obama_train1_pr_df.dropna()"
   ]
  },
  {
   "cell_type": "code",
   "execution_count": null,
   "metadata": {},
   "outputs": [],
   "source": []
  },
  {
   "cell_type": "code",
   "execution_count": 26,
   "metadata": {
    "id": "Nt4Q-LLu_Nh6"
   },
   "outputs": [],
   "source": [
    "def one_hot(data):\n",
    "    data = np.asarray(data)\n",
    "    temp = np.zeros((len(data),3))\n",
    "#     print(data[0])\n",
    "    for i in range(len(temp)):\n",
    "        if data[i] == 'Negative':\n",
    "            temp[i][2] = 1 ## Negative sentiment third neuron\n",
    "        elif data[i] == 'Neutral':\n",
    "            temp[i][1] = 1 ## Neutral sentiment second neuron  \n",
    "        else:\n",
    "            temp[i][0] = 1 ## Positive sentiment first neuron \n",
    "\n",
    "    return temp\n",
    "    \n",
    "    \n"
   ]
  },
  {
   "cell_type": "code",
   "execution_count": 27,
   "metadata": {
    "id": "ETvx1WoKfrfk"
   },
   "outputs": [],
   "source": [
    "def pred(x):\n",
    "    temp = []\n",
    "    for i in x:\n",
    "        m = np.argmax(i)\n",
    "        if m == 0:\n",
    "            temp.append('Positive')\n",
    "        elif m == 1:\n",
    "            temp.append('Neutral')\n",
    "        else:\n",
    "            temp.append('Negative')\n",
    "    return temp"
   ]
  },
  {
   "cell_type": "markdown",
   "metadata": {
    "id": "wmGshHslpZeH"
   },
   "source": [
    "## Building Glove Dictionary"
   ]
  },
  {
   "cell_type": "code",
   "execution_count": 63,
   "metadata": {
    "id": "YU-SxaOZ_Nh9"
   },
   "outputs": [],
   "source": [
    "embeddings = {}\n",
    "with open(os.path.join(data_path,\"glove.twitter.27B.200d.txt\"), 'r', encoding=\"utf-8\") as file:\n",
    "    for line in file:\n",
    "        values = line.split()\n",
    "        word = values[0]\n",
    "        vector = asarray(values[1:], dtype='float32')\n",
    "        embeddings[word] = vector"
   ]
  },
  {
   "cell_type": "markdown",
   "metadata": {
    "id": "or3hmQvdpZeJ"
   },
   "source": [
    "## Embedding Matrix Function"
   ]
  },
  {
   "cell_type": "code",
   "execution_count": 64,
   "metadata": {
    "id": "wBG3Kq7EpZeJ"
   },
   "outputs": [],
   "source": [
    "def emb_matrix(t,embeddings, we_dim):\n",
    "    # creating a embedding matrix for the words in training data, which will be used as weight matrix for embedding layer\n",
    "    vocab_size = len(t.word_index) + 1    \n",
    "    embedding_matrix = zeros((vocab_size, we_dim))\n",
    "    for word, i in t.word_index.items():\n",
    "        embedding_vector = embeddings.get(word)\n",
    "        if embedding_vector is not None:\n",
    "            embedding_matrix[i] = embedding_vector\n",
    "    return embedding_matrix, vocab_size"
   ]
  },
  {
   "cell_type": "code",
   "execution_count": null,
   "metadata": {
    "id": "9kT9ZAXi_NiC"
   },
   "outputs": [],
   "source": []
  },
  {
   "cell_type": "markdown",
   "metadata": {
    "id": "MgK6d3Qy_NiF"
   },
   "source": [
    "## Fine tuning the word embeddings of 300 dimensions using mittens library\n",
    "\n"
   ]
  },
  {
   "cell_type": "markdown",
   "metadata": {
    "id": "VqwJmPT-_NiF"
   },
   "source": [
    "## Used the code for finetuning from the following link:\n",
    "### https://towardsdatascience.com/fine-tune-glove-embeddings-using-mittens-89b5f3fe4c39"
   ]
  },
  {
   "cell_type": "code",
   "execution_count": 65,
   "metadata": {
    "id": "HRwhIKRT_NiF"
   },
   "outputs": [],
   "source": [
    "def finetune(training): \n",
    "    training_tokens = [word_tokenize(i) for i in training['Doc Text']]\n",
    "    #training_tokens\n",
    "\n",
    "    oov = [j for i in training_tokens for j in i if j not in embeddings.keys()]\n",
    "    print(len(oov))\n",
    "\n",
    "    corp_vocab = list(set(oov))\n",
    "\n",
    "    cv = CountVectorizer(ngram_range=(1,1), vocabulary=corp_vocab)\n",
    "    trr =''\n",
    "    for i in training_tokens:\n",
    "        for j in i:\n",
    "            trr+= j\n",
    "            trr += ' '\n",
    "\n",
    "    # print(trr)\n",
    "    # print(z)\n",
    "    X = cv.fit_transform([trr])\n",
    "    Xc = (X.T * X)\n",
    "    Xc.setdiag(0)\n",
    "    coocc_ar = Xc.toarray()\n",
    "\n",
    "    mittens_model = Mittens(n=200, max_iter=1000)\n",
    "\n",
    "    new_embeddings = mittens_model.fit(\n",
    "      coocc_ar,\n",
    "      vocab=corp_vocab,\n",
    "      initial_embedding_dict= embeddings)\n",
    "\n",
    "    new_embeddings = dict(zip(corp_vocab, new_embeddings))\n",
    "    return training_tokens, new_embeddings\n",
    "  \n"
   ]
  },
  {
   "cell_type": "code",
   "execution_count": 66,
   "metadata": {
    "colab": {
     "base_uri": "https://localhost:8080/"
    },
    "id": "MB2Nd-Kr_NiH",
    "outputId": "f67a7ffe-aa55-497d-8a84-5f0438889b40"
   },
   "outputs": [
    {
     "name": "stdout",
     "output_type": "stream",
     "text": [
      "738\n"
     ]
    },
    {
     "name": "stderr",
     "output_type": "stream",
     "text": [
      "C:\\Users\\kalya\\anaconda3\\lib\\site-packages\\tensorflow\\python\\client\\session.py:1751: UserWarning: An interactive session is already active. This can cause out-of-memory errors in some cases. You must explicitly call `InteractiveSession.close()` to release resources held by the other session(s).\n",
      "  warnings.warn('An interactive session is already active. This can '\n",
      "Iteration 1000: loss: 0.016246378421783447"
     ]
    }
   ],
   "source": [
    "embeddings2= embeddings.copy()\n",
    "\n",
    "training_tokens, new_embeddings = finetune(obama_train_pr_df)\n",
    "embeddings2.update(new_embeddings)"
   ]
  },
  {
   "cell_type": "code",
   "execution_count": 67,
   "metadata": {
    "colab": {
     "base_uri": "https://localhost:8080/"
    },
    "id": "spGvX_Cg_NiI",
    "outputId": "1034e7f8-712b-4ca7-94cf-1ce609bf1493"
   },
   "outputs": [
    {
     "name": "stdout",
     "output_type": "stream",
     "text": [
      "0\n"
     ]
    }
   ],
   "source": [
    "oov2 = [j for i in training_tokens for j in i if j not in embeddings2.keys()]\n",
    "print(len(oov2))"
   ]
  },
  {
   "cell_type": "code",
   "execution_count": null,
   "metadata": {
    "id": "ir2jPLOS_NiK"
   },
   "outputs": [],
   "source": []
  },
  {
   "cell_type": "markdown",
   "metadata": {
    "id": "ldH6dPIM_NiL"
   },
   "source": [
    "## Custom F1 value"
   ]
  },
  {
   "cell_type": "code",
   "execution_count": 68,
   "metadata": {
    "id": "9Q5Q1HVs_NiM"
   },
   "outputs": [],
   "source": [
    "def f1_value(y_true, y_pred): #taken from old keras source code\n",
    "    true_positives = K.sum(K.round(K.clip(y_true * y_pred, 0, 1)))\n",
    "    possible_positives = K.sum(K.round(K.clip(y_true, 0, 1)))\n",
    "    predicted_positives = K.sum(K.round(K.clip(y_pred, 0, 1)))\n",
    "    precision = true_positives / (predicted_positives + K.epsilon())\n",
    "    recall = true_positives / (possible_positives + K.epsilon())\n",
    "    f1_val = 2*(precision*recall)/(precision+recall+K.epsilon())\n",
    "    return f1_val"
   ]
  },
  {
   "cell_type": "markdown",
   "metadata": {
    "id": "3VHQfx6SpZeN"
   },
   "source": [
    "## Building Vanilla RNN, LSTM, and GRU models"
   ]
  },
  {
   "cell_type": "code",
   "execution_count": 69,
   "metadata": {
    "id": "sNbzJtMWpZeN"
   },
   "outputs": [],
   "source": [
    "def model_vanilla_rnn(embedding_matrix, noh,  we_dim, vocab_size, max_length, adam_optimizer, activation, Dropout_rate, kernel_regularizer_coef, activity_regularizer_coef):\n",
    "\n",
    "    model = Sequential()\n",
    "    e = Embedding(vocab_size, we_dim, weights=[embedding_matrix], input_length=max_length, trainable = False)\n",
    "    model.add(e)\n",
    "    model.add(Bidirectional(SimpleRNN(units = noh, activation = activation, dropout=0.2, kernel_regularizer=tf.keras.regularizers.L1(kernel_regularizer_coef), activity_regularizer=tf.keras.regularizers.L2(activity_regularizer_coef))))\n",
    "    model.add(Dropout(Dropout_rate))\n",
    "    model.add(Dense(3, activation='softmax', kernel_regularizer=tf.keras.regularizers.L1(kernel_regularizer_coef), activity_regularizer=tf.keras.regularizers.L2(activity_regularizer_coef)))\n",
    "    model.compile(optimizer=adam_optimizer, loss='categorical_crossentropy', metrics=[f1_value])\n",
    "#     print(model.summary())\n",
    "    return model\n"
   ]
  },
  {
   "cell_type": "code",
   "execution_count": 70,
   "metadata": {
    "id": "D69lMKSLpZeP"
   },
   "outputs": [],
   "source": [
    "def model_lstm(embedding_matrix, noh,  we_dim, vocab_size, max_length, adam_optimizer, activation, Dropout_rate, kernel_regularizer_coef, activity_regularizer_coef):\n",
    "\n",
    "    model = Sequential()\n",
    "    e = Embedding(vocab_size, we_dim, weights=[embedding_matrix], input_length=max_length, trainable = False)\n",
    "    model.add(e)\n",
    "    model.add(Bidirectional(LSTM(units = noh, activation = activation, dropout=0.2, kernel_regularizer=tf.keras.regularizers.L1(kernel_regularizer_coef), activity_regularizer=tf.keras.regularizers.L2(activity_regularizer_coef))))\n",
    "    model.add(Dropout(Dropout_rate))\n",
    "    model.add(Dense(3, activation='softmax', kernel_regularizer=tf.keras.regularizers.L1(kernel_regularizer_coef), activity_regularizer=tf.keras.regularizers.L2(activity_regularizer_coef)))\n",
    "    model.compile(optimizer=adam_optimizer, loss='categorical_crossentropy', metrics=[f1_value])\n",
    "#     print(model.summary())\n",
    "    return model\n"
   ]
  },
  {
   "cell_type": "code",
   "execution_count": 71,
   "metadata": {
    "id": "tDL6HFQYpZeQ"
   },
   "outputs": [],
   "source": [
    "def model_gru(embedding_matrix, noh,  we_dim, vocab_size, max_length, adam_optimizer, activation, Dropout_rate, kernel_regularizer_coef, activity_regularizer_coef):\n",
    "\n",
    "    model = Sequential()\n",
    "    e = Embedding(vocab_size, we_dim, weights=[embedding_matrix], input_length=max_length, trainable = False)\n",
    "    model.add(e)\n",
    "    model.add(Bidirectional(GRU(units = noh, activation = activation, dropout=0.2, kernel_regularizer=tf.keras.regularizers.L1(kernel_regularizer_coef), activity_regularizer=tf.keras.regularizers.L2(activity_regularizer_coef))))\n",
    "    model.add(Dropout(Dropout_rate))\n",
    "    model.add(Dense(3, activation='softmax', kernel_regularizer=tf.keras.regularizers.L1(kernel_regularizer_coef), activity_regularizer=tf.keras.regularizers.L2(activity_regularizer_coef)))\n",
    "    model.compile(optimizer=adam_optimizer, loss='categorical_crossentropy', metrics=[f1_value])\n",
    "#     print(model.summary())\n",
    "    return model\n"
   ]
  },
  {
   "cell_type": "code",
   "execution_count": null,
   "metadata": {
    "id": "42FDB3zmpZeS"
   },
   "outputs": [],
   "source": []
  },
  {
   "cell_type": "code",
   "execution_count": null,
   "metadata": {
    "id": "5ZHXpH9_Tg9Q"
   },
   "outputs": [],
   "source": []
  },
  {
   "cell_type": "code",
   "execution_count": 46,
   "metadata": {
    "id": "ZsQN3txgThFD"
   },
   "outputs": [],
   "source": [
    "obama_train2_pr_df, obama_val_pr_df = train_test_split(obama_train_pr_df, test_size = 0.2)"
   ]
  },
  {
   "cell_type": "code",
   "execution_count": 47,
   "metadata": {
    "colab": {
     "base_uri": "https://localhost:8080/"
    },
    "id": "u5oc67yzQ2-Z",
    "outputId": "0b374181-2608-46f3-de3b-6750eb36e2bf"
   },
   "outputs": [
    {
     "name": "stdout",
     "output_type": "stream",
     "text": [
      "<class 'pandas.core.frame.DataFrame'>\n",
      "Int64Index: 4376 entries, 3018 to 939\n",
      "Data columns (total 2 columns):\n",
      " #   Column     Non-Null Count  Dtype \n",
      "---  ------     --------------  ----- \n",
      " 0   Doc Text   4376 non-null   object\n",
      " 1   Sentiment  4376 non-null   object\n",
      "dtypes: object(2)\n",
      "memory usage: 102.6+ KB\n"
     ]
    }
   ],
   "source": [
    "obama_train2_pr_df.info()"
   ]
  },
  {
   "cell_type": "code",
   "execution_count": 36,
   "metadata": {
    "colab": {
     "base_uri": "https://localhost:8080/"
    },
    "id": "z9AxyCspT10S",
    "outputId": "038f97e2-1608-4b3e-b003-c64c230c704e"
   },
   "outputs": [
    {
     "ename": "NameError",
     "evalue": "name 'obama_val_pr_df' is not defined",
     "output_type": "error",
     "traceback": [
      "\u001b[1;31m---------------------------------------------------------------------------\u001b[0m",
      "\u001b[1;31mNameError\u001b[0m                                 Traceback (most recent call last)",
      "\u001b[1;32m<ipython-input-36-a909fb7cdcb6>\u001b[0m in \u001b[0;36m<module>\u001b[1;34m\u001b[0m\n\u001b[1;32m----> 1\u001b[1;33m \u001b[0mobama_val_pr_df\u001b[0m\u001b[1;33m.\u001b[0m\u001b[0minfo\u001b[0m\u001b[1;33m(\u001b[0m\u001b[1;33m)\u001b[0m\u001b[1;33m\u001b[0m\u001b[1;33m\u001b[0m\u001b[0m\n\u001b[0m",
      "\u001b[1;31mNameError\u001b[0m: name 'obama_val_pr_df' is not defined"
     ]
    }
   ],
   "source": [
    "obama_val_pr_df.info()"
   ]
  },
  {
   "cell_type": "code",
   "execution_count": 85,
   "metadata": {
    "colab": {
     "base_uri": "https://localhost:8080/"
    },
    "id": "YR6ArxHZUA0H",
    "outputId": "16604f19-aa08-4d11-f63c-a3dbff428785"
   },
   "outputs": [
    {
     "name": "stdout",
     "output_type": "stream",
     "text": [
      "Train on 4376 samples\n",
      "Epoch 1/2\n",
      "4376/4376 - 6s - loss: 6.4114 - f1_value: 0.3803\n",
      "Epoch 2/2\n",
      "4376/4376 - 5s - loss: 3.8594 - f1_value: 0.4854\n",
      "{'f1_pos': 0.551, 'f1_neu': 0.345, 'f1_neg': 0.634}\n"
     ]
    }
   ],
   "source": [
    "max_length = 20\n",
    "epochs = 2\n",
    "batch_size = 64\n",
    "learning_rate = 0.001\n",
    "we_dim = 200\n",
    "\n",
    "tokenise_tf = Tokenizer()\n",
    "tokenise_tf.fit_on_texts(obama_train2_pr_df['Doc Text'])   \n",
    "encoded_train = tokenise_tf.texts_to_sequences(obama_train2_pr_df['Doc Text'])\n",
    "training_padded = pad_sequences(encoded_train, maxlen=max_length, padding='post', truncating = 'pre')\n",
    "embedding_matrix, vocab_size = emb_matrix(tokenise_tf, embeddings2,we_dim)\n",
    "\n",
    "encoded_validation = tokenise_tf.texts_to_sequences(obama_val_pr_df['Doc Text'])\n",
    "validation_padded = pad_sequences(encoded_validation, maxlen=max_length, padding='post', truncating = 'pre')\n",
    "\n",
    "adam_optimizer = optimizers.Adam(learning_rate=learning_rate)\n",
    "model = model_vanilla_rnn(embedding_matrix, 300, we_dim, vocab_size, max_length, adam_optimizer, 'tanh', 0.2, 0.001, 0.001)\n",
    "history = model.fit(training_padded, one_hot(obama_train2_pr_df['Sentiment']), epochs=epochs, verbose=2, batch_size=batch_size, shuffle =True)\n",
    "y_pred_temp = model.predict(validation_padded)\n",
    "y_pred = pred(y_pred_temp)\n",
    "f1_list= np.round(f1_score(obama_val_pr_df['Sentiment'], y_pred, average = None),3)\n",
    "accuracy = accuracy_score(obama_val_pr_df['Sentiment'], y_pred)\n",
    "f1_dict = {'f1_pos': f1_list[2], 'f1_neu': f1_list[1], 'f1_neg': f1_list[0]}\n",
    "# print([f1_list[2],f1_list[1],f1_list[0]])\n",
    "print(f1_dict)\n",
    "f1 = mean([accuracy, f1_list[2], f1_list[0]])\n"
   ]
  },
  {
   "cell_type": "code",
   "execution_count": null,
   "metadata": {
    "colab": {
     "base_uri": "https://localhost:8080/"
    },
    "id": "Dzh3dE1gU0Yf",
    "outputId": "4d5b15db-2941-4a20-8456-bb03c052e18f"
   },
   "outputs": [
    {
     "name": "stdout",
     "output_type": "stream",
     "text": [
      "  0%|          | 0/15 [00:00<?, ?it/s, best loss: ?]WARNING:tensorflow:Layer gru_20 will not use cuDNN kernel since it doesn't meet the cuDNN kernel criteria. It will use generic GPU kernel as fallback when running on GPU\n",
      "WARNING:tensorflow:Layer gru_20 will not use cuDNN kernel since it doesn't meet the cuDNN kernel criteria. It will use generic GPU kernel as fallback when running on GPU\n",
      "WARNING:tensorflow:Layer gru_20 will not use cuDNN kernel since it doesn't meet the cuDNN kernel criteria. It will use generic GPU kernel as fallback when running on GPU\n",
      "{'accuracy': 0.338, 'f1_pos': 0.101, 'f1_neu': 0.495, 'f1_neg': 0.0}\n",
      "  7%|▋         | 1/15 [01:32<21:30, 92.15s/it, best loss: -0.14633333333333334]WARNING:tensorflow:Layer gru_21 will not use cuDNN kernel since it doesn't meet the cuDNN kernel criteria. It will use generic GPU kernel as fallback when running on GPU\n",
      "WARNING:tensorflow:Layer gru_21 will not use cuDNN kernel since it doesn't meet the cuDNN kernel criteria. It will use generic GPU kernel as fallback when running on GPU\n",
      "WARNING:tensorflow:Layer gru_21 will not use cuDNN kernel since it doesn't meet the cuDNN kernel criteria. It will use generic GPU kernel as fallback when running on GPU\n",
      "{'accuracy': 0.551, 'f1_pos': 0.584, 'f1_neu': 0.533, 'f1_neg': 0.542}\n",
      " 13%|█▎        | 2/15 [06:03<31:35, 145.84s/it, best loss: -0.559]             WARNING:tensorflow:Layer gru_22 will not use cuDNN kernel since it doesn't meet the cuDNN kernel criteria. It will use generic GPU kernel as fallback when running on GPU\n",
      "WARNING:tensorflow:Layer gru_22 will not use cuDNN kernel since it doesn't meet the cuDNN kernel criteria. It will use generic GPU kernel as fallback when running on GPU\n",
      "WARNING:tensorflow:Layer gru_22 will not use cuDNN kernel since it doesn't meet the cuDNN kernel criteria. It will use generic GPU kernel as fallback when running on GPU\n",
      "{'accuracy': 0.565, 'f1_pos': 0.598, 'f1_neu': 0.505, 'f1_neg': 0.588}\n",
      " 20%|██        | 3/15 [08:32<29:23, 146.93s/it, best loss: -0.5836666666666667]WARNING:tensorflow:Layer gru_23 will not use cuDNN kernel since it doesn't meet the cuDNN kernel criteria. It will use generic GPU kernel as fallback when running on GPU\n",
      "WARNING:tensorflow:Layer gru_23 will not use cuDNN kernel since it doesn't meet the cuDNN kernel criteria. It will use generic GPU kernel as fallback when running on GPU\n",
      "WARNING:tensorflow:Layer gru_23 will not use cuDNN kernel since it doesn't meet the cuDNN kernel criteria. It will use generic GPU kernel as fallback when running on GPU\n"
     ]
    }
   ],
   "source": [
    "def objective_func(args):\n",
    "    max_length = args['max_length']\n",
    "    batch_size = args['batch_size']\n",
    "    learning_rate = args['learning_rate']\n",
    "    epochs = args['epochs']\n",
    "    em_dim = args['em_dim']\n",
    "\n",
    "    \n",
    "    encoded_train = tokenise_tf.texts_to_sequences(obama_train_pr_df['Doc Text'])\n",
    "    training_padded = pad_sequences(encoded_train, maxlen=max_length, padding='post', truncating = 'pre')\n",
    "    embedding_matrix, vocab_size = emb_matrix(tokenise_tf, embeddings2,we_dim)\n",
    "\n",
    "    encoded_validation = tokenise_tf.texts_to_sequences(obama_val_pr_df['Doc Text'])\n",
    "    validation_padded = pad_sequences(encoded_validation, maxlen=max_length, padding='post', truncating = 'pre')\n",
    "\n",
    "    adam_optimizer = optimizers.Adam(learning_rate=learning_rate)\n",
    "    model = model_gru(embedding_matrix, em_dim, we_dim, vocab_size, max_length, adam_optimizer, 'tanh', 0.2, 0.001, 0.001)\n",
    "    history = model.fit(training_padded, one_hot(obama_train_pr_df['Sentiment']), epochs=epochs, verbose=0, batch_size=batch_size, shuffle =True)\n",
    "    y_pred_temp = model.predict(validation_padded)\n",
    "    y_pred = pred(y_pred_temp)\n",
    "    f1_list= np.round(f1_score(obama_val_pr_df['Sentiment'], y_pred, average = None),3)\n",
    "    accuracy = round(accuracy_score(obama_val_pr_df['Sentiment'], y_pred),3)\n",
    "    eval_dict = {'accuracy': accuracy, 'f1_pos': f1_list[2], 'f1_neu': f1_list[1], 'f1_neg': f1_list[0]}\n",
    "    # print([f1_list[2],f1_list[1],f1_list[0]])\n",
    "    print('\\n')\n",
    "    print(eval_dict)\n",
    "    f1 = mean([accuracy, f1_list[2], f1_list[0]])\n",
    "\n",
    "\n",
    "    # loss, f1 = model.evaluate(validation_padded, one_hot(obama_val['Sentiment']))\n",
    "#     f1 = history.history['f1_value'][-1]\n",
    "   \n",
    "    return - (f1)\n",
    "\n",
    "space = {'max_length': hp.choice('max_length',range(4,60)),  \n",
    "        'batch_size': hp.choice('batch_size', [32, 64, 128]),\n",
    "         'epochs': hp.choice('epochs',range(5,30)), \n",
    "         'learning_rate': hp.uniform('learning_rate', 0,0.1),\n",
    "         'em_dim': hp.choice('em_dim', [50, 100, 200])\n",
    "        }\n",
    "                                \n",
    "                                \n",
    "tokenise_tf = Tokenizer()\n",
    "tokenise_tf.fit_on_texts(obama_train2_pr_df['Doc Text'])                                \n",
    "best_gru = fmin(objective_func, space, algo=tpe.suggest, max_evals=15)\n",
    "print(best_gru)"
   ]
  },
  {
   "cell_type": "markdown",
   "metadata": {
    "id": "hnDrYVDC_Nib"
   },
   "source": [
    "## Building models for obama tweets"
   ]
  },
  {
   "cell_type": "markdown",
   "metadata": {
    "id": "HLDi0elvjHkC"
   },
   "source": [
    "## Training the Model"
   ]
  },
  {
   "cell_type": "markdown",
   "metadata": {
    "id": "SBp3ntnMpZeX"
   },
   "source": [
    "## Using Hyperopt library to tune the Hyperparameters. "
   ]
  },
  {
   "cell_type": "markdown",
   "metadata": {
    "id": "iD2A19Iy42R1"
   },
   "source": [
    "### Cross Valid Function for LSTM"
   ]
  },
  {
   "cell_type": "code",
   "execution_count": 72,
   "metadata": {
    "id": "GTx5aKtXaCkP"
   },
   "outputs": [],
   "source": [
    "def cross_valid_lstm(X,y,epochs,batch_size,max_length, we_dim, learning_rate):\n",
    "    f1_Positive  =[]\n",
    "    f1_Neutral =[]\n",
    "    f1_Negative =[]\n",
    "    acc =[]\n",
    "    cv = KFold(n_splits=5,shuffle=True)\n",
    "    for train_index, val_index in cv.split(X):\n",
    "    #     print(\"Train Index: \", train_index, \"\\n\")\n",
    "    #     print(\"Test Index: \", test_index)\n",
    "    #     print(X.iloc[train_index])\n",
    "    #     print(f)\n",
    "\n",
    "        X_train1, X_val, y_train1, y_val = X.iloc[train_index], X.iloc[val_index], y.iloc[train_index], y.iloc[val_index]\n",
    "        tokenise_tf = Tokenizer()\n",
    "        tokenise_tf.fit_on_texts(X_train1) \n",
    "    \n",
    "        encoded_train = tokenise_tf.texts_to_sequences(X_train1)\n",
    "        training_padded = pad_sequences(encoded_train, maxlen=max_length, padding='post', truncating = 'pre')\n",
    "        embedding_matrix, vocab_size = emb_matrix(tokenise_tf, embeddings2,we_dim)\n",
    "\n",
    "        encoded_validation = tokenise_tf.texts_to_sequences(X_val)\n",
    "        validation_padded = pad_sequences(encoded_validation, maxlen=max_length, padding='post', truncating = 'pre')\n",
    "        adam_optimizer = optimizers.Adam(learning_rate=learning_rate)\n",
    "        model = model_lstm(embedding_matrix, 300, we_dim, vocab_size, max_length, adam_optimizer, 'tanh', 0.2, 0.001, 0.001)        \n",
    "        history = model.fit(training_padded, one_hot(y_train1), epochs=epochs, verbose=0, batch_size=batch_size, shuffle =True)\n",
    "        y_pred_temp = model.predict(validation_padded)\n",
    "        y_pred = pred(y_pred_temp)\n",
    "\n",
    "        f1_temp = f1_score(y_val, y_pred, average = None)\n",
    "\n",
    "        f1_Positive.append(f1_temp[2])\n",
    "        f1_Neutral.append(f1_temp[1])\n",
    "        f1_Negative.append(f1_temp[0])\n",
    "\n",
    "        acc.append(round(accuracy_score(y_val, y_pred),3))\n",
    "\n",
    "    return round(mean(acc),3), round(mean(f1_Positive),3), round(mean(f1_Neutral),3), round(mean(f1_Negative),3)"
   ]
  },
  {
   "cell_type": "markdown",
   "metadata": {
    "id": "JECfQFe446Ke"
   },
   "source": [
    "### Cross Valid Function for GRU"
   ]
  },
  {
   "cell_type": "code",
   "execution_count": 73,
   "metadata": {
    "id": "MHbmJeGS4Uan"
   },
   "outputs": [],
   "source": [
    "def cross_valid_gru(X,y,epochs,batch_size,max_length, em_dim, we_dim, learning_rate):\n",
    "    f1_Positive  =[]\n",
    "    f1_Neutral =[]\n",
    "    f1_Negative =[]\n",
    "    acc =[]\n",
    "    cv = KFold(n_splits=5,shuffle=True)\n",
    "    for train_index, val_index in cv.split(X):\n",
    "    #     print(\"Train Index: \", train_index, \"\\n\")\n",
    "    #     print(\"Test Index: \", test_index)\n",
    "    #     print(X.iloc[train_index])\n",
    "    #     print(f)\n",
    "\n",
    "        X_train1, X_val, y_train1, y_val = X.iloc[train_index], X.iloc[val_index], y.iloc[train_index], y.iloc[val_index]\n",
    "        tokenise_tf = Tokenizer()\n",
    "        tokenise_tf.fit_on_texts(X_train1) \n",
    "    \n",
    "        encoded_train = tokenise_tf.texts_to_sequences(X_train1)\n",
    "        training_padded = pad_sequences(encoded_train, maxlen=max_length, padding='post', truncating = 'pre')\n",
    "        embedding_matrix, vocab_size = emb_matrix(tokenise_tf, embeddings2,we_dim)\n",
    "\n",
    "        encoded_validation = tokenise_tf.texts_to_sequences(X_val)\n",
    "        validation_padded = pad_sequences(encoded_validation, maxlen=max_length, padding='post', truncating = 'pre')\n",
    "        adam_optimizer = optimizers.Adam(learning_rate=learning_rate)\n",
    "        model = model_gru(embedding_matrix, em_dim, we_dim, vocab_size, max_length, adam_optimizer, 'tanh', 0.2, 0.001, 0.001)        \n",
    "        history = model.fit(training_padded, one_hot(y_train1), epochs=epochs, verbose=0, batch_size=batch_size, shuffle =True)\n",
    "        y_pred_temp = model.predict(validation_padded)\n",
    "        y_pred = pred(y_pred_temp)\n",
    "\n",
    "        f1_temp = f1_score(y_val, y_pred, average = None)\n",
    "\n",
    "        f1_Positive.append(f1_temp[2])\n",
    "        f1_Neutral.append(f1_temp[1])\n",
    "        f1_Negative.append(f1_temp[0])\n",
    "\n",
    "        acc.append(round(accuracy_score(y_val, y_pred),3))\n",
    "\n",
    "    return round(mean(acc),3), round(mean(f1_Positive),3), round(mean(f1_Neutral),3), round(mean(f1_Negative),3)"
   ]
  },
  {
   "cell_type": "code",
   "execution_count": 74,
   "metadata": {
    "id": "r6qsr1PKaCkS"
   },
   "outputs": [],
   "source": [
    "# max_length = 8\n",
    "# epochs = 1\n",
    "# batch_size = 64\n",
    "# learning_rate = 0.001\n",
    "# we_dim = 200\n",
    "# em_dim = 200\n",
    "\n",
    "# # accuracy, f1_Positive, f1_Neutral, f1_Negative = cross_valid(obama_train_pr_df['Doc Text'],obama_train_pr_df['Sentiment'], epochs,batch_size,max_length, em_dim, we_dim, learning_rate)\n",
    "# temp = cross_valid(obama_train_pr_df['Doc Text'],obama_train_pr_df['Sentiment'], epochs,batch_size,max_length, em_dim, we_dim, learning_rate)\n",
    "# temp\n",
    "\n"
   ]
  },
  {
   "cell_type": "code",
   "execution_count": 75,
   "metadata": {
    "id": "TitWsucZ6C18"
   },
   "outputs": [],
   "source": [
    "# import warnings\n",
    "# warnings.filterwarnings('ignore');"
   ]
  },
  {
   "cell_type": "markdown",
   "metadata": {
    "id": "wa5Tzpa85DTd"
   },
   "source": [
    "### Tuning Hyperparameters of GRU with Cross Valid GRU"
   ]
  },
  {
   "cell_type": "code",
   "execution_count": null,
   "metadata": {
    "colab": {
     "base_uri": "https://localhost:8080/",
     "height": 496
    },
    "id": "6PBOzWHwaCkU",
    "outputId": "134aefe2-a325-40eb-fe6c-17e1bd465c56"
   },
   "outputs": [
    {
     "name": "stdout",
     "output_type": "stream",
     "text": [
      "{'accuracy': 0.425, 'f1_pos': 0.367, 'f1_neu': 0.311, 'f1_neg': 0.403, 'f1_eval': 0.398}\n",
      "{'accuracy': 0.575, 'f1_pos': 0.59, 'f1_neu': 0.493, 'f1_neg': 0.621, 'f1_eval': 0.595}\n",
      "{'accuracy': 0.516, 'f1_pos': 0.522, 'f1_neu': 0.448, 'f1_neg': 0.565, 'f1_eval': 0.534}\n",
      "{'accuracy': 0.555, 'f1_pos': 0.566, 'f1_neu': 0.514, 'f1_neg': 0.577, 'f1_eval': 0.566}\n",
      "{'accuracy': 0.474, 'f1_pos': 0.419, 'f1_neu': 0.398, 'f1_neg': 0.471, 'f1_eval': 0.455}\n",
      "{'accuracy': 0.477, 'f1_pos': 0.413, 'f1_neu': 0.366, 'f1_neg': 0.52, 'f1_eval': 0.47}\n",
      " 30%|███       | 6/20 [7:12:29<26:21:45, 6779.00s/trial, best loss: -0.595]"
     ]
    }
   ],
   "source": [
    "def objective_func_GRU(args):\n",
    "    max_length = args['max_length']\n",
    "    batch_size = args['batch_size']\n",
    "    learning_rate = args['learning_rate']\n",
    "    epochs = args['epochs']\n",
    "    em_dim = args['em_dim']\n",
    "\n",
    "    accuracy, f1_Positive, f1_Neutral, f1_Negative = cross_valid_gru(obama_train1_pr_df['Doc Text'],obama_train1_pr_df['Sentiment'], epochs,batch_size,max_length, em_dim, we_dim, learning_rate)\n",
    "    f1 = round(mean([accuracy, f1_Positive, f1_Negative]),3)    \n",
    "    eval_dict = {'accuracy': accuracy, 'f1_pos': f1_Positive, 'f1_neu': f1_Neutral, 'f1_neg': f1_Negative, 'f1_eval': f1}\n",
    "    print('\\n')\n",
    "    print(eval_dict)\n",
    "\n",
    "    return -(f1)\n",
    "\n",
    "space = {'max_length': hp.choice('max_length',range(4,60)),  \n",
    "        'batch_size': hp.choice('batch_size', [32, 64, 128]),\n",
    "         'epochs': hp.choice('epochs',range(5,30)), \n",
    "         'learning_rate': hp.uniform('learning_rate', 0,0.1),\n",
    "         'em_dim': hp.choice('em_dim', [50, 100, 200])\n",
    "        }                     \n",
    "                                \n",
    "we_dim = 200                               \n",
    "best_GRU_cv = fmin(objective_func_GRU, space, algo=tpe.suggest, max_evals=20)\n",
    "print(best_GRU_cv)"
   ]
  },
  {
   "cell_type": "markdown",
   "metadata": {
    "id": "bxq3SGbN5bST"
   },
   "source": [
    "### Tuning Hyperparameters of LSTM with Cross Valid LSTM"
   ]
  },
  {
   "cell_type": "code",
   "execution_count": null,
   "metadata": {
    "id": "Jx7bgJXn5eu_"
   },
   "outputs": [],
   "source": [
    "def objective_func_LSTM(args):\n",
    "    max_length = args['max_length']\n",
    "    batch_size = args['batch_size']\n",
    "    learning_rate = args['learning_rate']\n",
    "    epochs = args['epochs']\n",
    "    em_dim = args['em_dim']\n",
    "\n",
    "    accuracy, f1_Positive, f1_Neutral, f1_Negative = cross_valid_lstm(obama_train1_pr_df['Doc Text'],obama_train1_pr_df['Sentiment'], epochs,batch_size,max_length, em_dim, we_dim, learning_rate)\n",
    "    f1 = round(mean([accuracy, f1_Positive, f1_Negative]),3)    \n",
    "    eval_dict = {'accuracy': accuracy, 'f1_pos': f1_Positive, 'f1_neu': f1_Neutral, 'f1_neg': f1_Negative, 'f1_eval': f1}\n",
    "    print('\\n')\n",
    "    print(eval_dict)\n",
    "\n",
    "    return -(f1)\n",
    "\n",
    "space = {'max_length': hp.choice('max_length',range(4,60)),  \n",
    "        'batch_size': hp.choice('batch_size', [32, 64, 128]),\n",
    "         'epochs': hp.choice('epochs',range(5,30)), \n",
    "         'learning_rate': hp.uniform('learning_rate', 0,0.1),\n",
    "         'em_dim': hp.choice('em_dim', [50, 100, 200])\n",
    "        }                       \n",
    "                                \n",
    "we_dim = 200                                \n",
    "best_LSTM_cv = fmin(objective_func_LSTM, space, algo=tpe.suggest, max_evals=20)\n",
    "print(best_LSTM_cv)"
   ]
  },
  {
   "cell_type": "code",
   "execution_count": null,
   "metadata": {
    "id": "GhZTgQGmaCkW"
   },
   "outputs": [],
   "source": []
  },
  {
   "cell_type": "code",
   "execution_count": null,
   "metadata": {
    "colab": {
     "base_uri": "https://localhost:8080/",
     "height": 51
    },
    "id": "Am8LqqY96ghg",
    "outputId": "dc3efc76-9e4e-40fa-dc3e-de60f686d3fe"
   },
   "outputs": [
    {
     "name": "stdout",
     "output_type": "stream",
     "text": [
      "100%|██████████| 20/20 [29:00<00:00, 87.03s/it, best loss: -0.55] \n",
      "{'batch_size': 1, 'epochs': 1, 'learning_rate': 0.0018559993912219612, 'max_length': 3}\n"
     ]
    }
   ],
   "source": [
    "def objective_func(args):\n",
    "    max_length = args['max_length']\n",
    "    batch_size = args['batch_size']\n",
    "    learning_rate = args['learning_rate']\n",
    "    epochs = args['epochs']\n",
    "\n",
    "    \n",
    "    encoded_train = tokenise_tf.texts_to_sequences(obama_train['Doc Text'])\n",
    "    training_padded = pad_sequences(encoded_train, maxlen=max_length, padding='post', truncating = 'pre')\n",
    "    embedding_matrix, vocab_size = emb_matrix(tokenise_tf, embeddings2)\n",
    "\n",
    "    encoded_validation = tokenise_tf.texts_to_sequences(obama_val['Doc Text'])\n",
    "    validation_padded = pad_sequences(encoded_validation, maxlen=max_length, padding='post', truncating = 'pre')\n",
    "\n",
    "    adam_optimizer = optimizers.Adam(learning_rate=learning_rate)\n",
    "    model = model_vanilla_rnn(embedding_matrix, 300, vocab_size, max_length, adam_optimizer, 'tanh', 0.2, 0.001, 0.001)\n",
    "\n",
    "    history = model.fit(training_padded, one_hot(obama_train['Sentiment']), epochs=epochs, verbose=0, batch_size=batch_size, shuffle =True)\n",
    "    y_pred_temp = model.predict(validation_padded)\n",
    "    y_pred = pred(y_pred_temp)\n",
    "    f1= f1_score(obama_val['Sentiment'], y_pred, average = 'macro')\n",
    "    # loss, f1 = model.evaluate(validation_padded, one_hot(obama_val['Sentiment']))\n",
    "#     f1 = history.history['f1_value'][-1]\n",
    "   \n",
    "    return -round(f1,2)\n",
    "\n",
    "space = {'max_length': hp.choice('max_length',range(4,20)),  \n",
    "        'batch_size': hp.choice('batch_size', [32, 64, 128]),\n",
    "         'epochs': hp.choice('epochs',range(10,30)), \n",
    "         'learning_rate': hp.uniform('learning_rate', 0,0.002)\n",
    "        }\n",
    "                                \n",
    "                                \n",
    "tokenise_tf = Tokenizer()\n",
    "tokenise_tf.fit_on_texts(obama_train['Doc Text'])                                \n",
    "best_vanilla_rnn = fmin(objective_func, space, algo=tpe.suggest, max_evals=20)\n",
    "print(best_vanilla_rnn)"
   ]
  },
  {
   "cell_type": "code",
   "execution_count": null,
   "metadata": {
    "colab": {
     "base_uri": "https://localhost:8080/",
     "height": 221
    },
    "id": "jfD4GJ3tNQbo",
    "outputId": "676ee689-d0f4-4169-a819-990b7d3e9d5b"
   },
   "outputs": [
    {
     "name": "stdout",
     "output_type": "stream",
     "text": [
      "Train on 4376 samples\n",
      "Epoch 1/5\n",
      "4376/4376 [==============================] - 2s 431us/sample - loss: 8.9841\n",
      "Epoch 2/5\n",
      "4376/4376 [==============================] - 2s 418us/sample - loss: 6.2251\n",
      "Epoch 3/5\n",
      "4376/4376 [==============================] - 2s 417us/sample - loss: 4.1734\n",
      "Epoch 4/5\n",
      "4376/4376 [==============================] - 2s 424us/sample - loss: 2.7909\n",
      "Epoch 5/5\n",
      "4376/4376 [==============================] - 2s 428us/sample - loss: 2.0136\n",
      "0.49177330895795246\n"
     ]
    }
   ],
   "source": [
    "max_length = 5\n",
    "epochs = 5\n",
    "batch_size = 64\n",
    "learning_rate = 0.0007711038235329859\n",
    "\n",
    "tokenise_tf = Tokenizer()\n",
    "tokenise_tf.fit_on_texts(obama_train['Doc Text'])   \n",
    "encoded_train = tokenise_tf.texts_to_sequences(obama_train['Doc Text'])\n",
    "training_padded = pad_sequences(encoded_train, maxlen=max_length, padding='post', truncating = 'pre')\n",
    "embedding_matrix, vocab_size = emb_matrix(tokenise_tf, embeddings2)\n",
    "\n",
    "encoded_validation = tokenise_tf.texts_to_sequences(obama_val['Doc Text'])\n",
    "validation_padded = pad_sequences(encoded_validation, maxlen=max_length, padding='post', truncating = 'pre')\n",
    "\n",
    "adam_optimizer = optimizers.Adam(learning_rate=learning_rate)\n",
    "model = model_vanilla_rnn(embedding_matrix, 300, vocab_size, max_length, adam_optimizer, 'tanh', 0.2, 0.001, 0.001)\n",
    "\n",
    "history = model.fit(training_padded, one_hot(obama_train['Sentiment']), epochs=epochs, verbose=1, batch_size=batch_size, shuffle =True)\n",
    "y_pred_temp = model.predict(validation_padded)\n",
    "y_pred = pred(y_pred_temp)\n",
    "acc= accuracy_score(obama_val['Sentiment'], y_pred)\n",
    "print(acc)\n",
    "\n",
    "\n"
   ]
  },
  {
   "cell_type": "markdown",
   "metadata": {
    "id": "c6vO3cE8h-Np"
   },
   "source": [
    "# For LSTM rnn, the best hyper parameters are:\n",
    "# 'batch_size': 128, 'epochs': 10, 'learning_rate': 0.002, 'max_length': 50"
   ]
  },
  {
   "cell_type": "code",
   "execution_count": null,
   "metadata": {
    "id": "Cf5oOkX5h_15"
   },
   "outputs": [],
   "source": []
  },
  {
   "cell_type": "markdown",
   "metadata": {
    "id": "illGwOwGiO_y"
   },
   "source": [
    "# For GRU rnn, the best hyper parameters are:\n",
    "# 'batch_size': 64, 'epochs': 7, 'learning_rate': 0.0006, 'max_length': 11"
   ]
  },
  {
   "cell_type": "code",
   "execution_count": null,
   "metadata": {
    "id": "hTooPqJ3pZej"
   },
   "outputs": [],
   "source": []
  },
  {
   "cell_type": "code",
   "execution_count": null,
   "metadata": {
    "id": "SmX0YNPUQDjL"
   },
   "outputs": [],
   "source": []
  }
 ],
 "metadata": {
  "accelerator": "GPU",
  "colab": {
   "collapsed_sections": [],
   "name": "Twitter_Sentiment_Analysis_RNN.ipynb",
   "provenance": []
  },
  "kernelspec": {
   "display_name": "Python 3",
   "language": "python",
   "name": "python3"
  },
  "language_info": {
   "codemirror_mode": {
    "name": "ipython",
    "version": 3
   },
   "file_extension": ".py",
   "mimetype": "text/x-python",
   "name": "python",
   "nbconvert_exporter": "python",
   "pygments_lexer": "ipython3",
   "version": "3.8.3"
  }
 },
 "nbformat": 4,
 "nbformat_minor": 4
}
