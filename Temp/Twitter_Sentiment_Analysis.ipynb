{
 "cells": [
  {
   "cell_type": "code",
   "execution_count": 1,
   "metadata": {
    "colab": {
     "base_uri": "https://localhost:8080/",
     "height": 34
    },
    "id": "78PhOL0jpZdY",
    "outputId": "6124ddac-12b3-4c90-a339-0955e768fe27"
   },
   "outputs": [],
   "source": [
    "# from google.colab import drive\n",
    "# drive.mount('/content/drive')"
   ]
  },
  {
   "cell_type": "code",
   "execution_count": 2,
   "metadata": {
    "colab": {
     "base_uri": "https://localhost:8080/",
     "height": 34
    },
    "id": "AEM1ZS6vpu6b",
    "outputId": "3234a3f2-2e50-4aab-b2cb-5471aecbbbfb"
   },
   "outputs": [],
   "source": [
    "# %cd /content/drive/My Drive/Research Project"
   ]
  },
  {
   "cell_type": "code",
   "execution_count": 1,
   "metadata": {
    "id": "QsHo75fupasE"
   },
   "outputs": [],
   "source": [
    "import pandas as pd\n",
    "import numpy as np\n",
    "import os\n",
    "# import src\n",
    "import matplotlib.pyplot as plt\n",
    "import seaborn as sns"
   ]
  },
  {
   "cell_type": "code",
   "execution_count": 2,
   "metadata": {
    "colab": {
     "base_uri": "https://localhost:8080/",
     "height": 102
    },
    "id": "4ePRqI5M3qPi",
    "outputId": "8ad9ddeb-992d-4bcf-94bf-f2837047c172"
   },
   "outputs": [],
   "source": [
    "# pip install -U mittens"
   ]
  },
  {
   "cell_type": "code",
   "execution_count": 53,
   "metadata": {
    "id": "hgktrAVlpZdb"
   },
   "outputs": [],
   "source": [
    "from sklearn.model_selection import train_test_split\n",
    "from sklearn.metrics import accuracy_score, precision_score, recall_score, f1_score\n",
    "from sklearn.feature_extraction.text import TfidfVectorizer\n",
    "from sklearn.model_selection import train_test_split, cross_val_score, KFold\n",
    "from statistics import mean, stdev, median, mode\n",
    "# With PCA\n",
    "from sklearn.decomposition import PCA\n",
    "\n",
    "from sklearn.feature_extraction.text import CountVectorizer\n",
    "# SVM\n",
    "from sklearn.svm import SVC\n",
    "from sklearn.naive_bayes import GaussianNB\n",
    "# KNN\n",
    "from sklearn.neighbors import KNeighborsClassifier\n",
    "from sklearn.ensemble import RandomForestClassifier\n",
    "\n",
    "from mittens import GloVe, Mittens"
   ]
  },
  {
   "cell_type": "code",
   "execution_count": 4,
   "metadata": {
    "colab": {
     "base_uri": "https://localhost:8080/",
     "height": 187
    },
    "id": "NO6oNPy7px_h",
    "outputId": "4377da64-01a1-4ab7-fddc-5313864d4e17"
   },
   "outputs": [],
   "source": [
    "# pip install autocorrect"
   ]
  },
  {
   "cell_type": "code",
   "execution_count": 5,
   "metadata": {
    "id": "qXIBsqXjpZdd"
   },
   "outputs": [],
   "source": [
    "\n",
    "import nltk\n",
    "# nltk.download()\n",
    "import string\n",
    "from nltk.tokenize import word_tokenize\n",
    "import random\n",
    "import pickle\n",
    "from nltk.corpus import stopwords\n",
    "\n",
    "from autocorrect import Speller\n",
    "# from pycontractions import Contractions\n",
    "\n",
    "# from spellchecker import SpellChecker\n",
    "\n",
    "import re\n",
    "from nltk.corpus import wordnet\n",
    "from nltk.stem.wordnet import WordNetLemmatizer \n",
    "\n",
    "from hyperopt import fmin, tpe, hp"
   ]
  },
  {
   "cell_type": "code",
   "execution_count": 6,
   "metadata": {
    "colab": {
     "base_uri": "https://localhost:8080/",
     "height": 1000
    },
    "id": "BALelbZyNU02",
    "outputId": "94729d0d-6f6f-4fc1-9429-54f952e33f91"
   },
   "outputs": [],
   "source": [
    "# nltk.download('all')"
   ]
  },
  {
   "cell_type": "code",
   "execution_count": null,
   "metadata": {
    "id": "0lim7c1rpZdf"
   },
   "outputs": [],
   "source": []
  },
  {
   "cell_type": "code",
   "execution_count": 7,
   "metadata": {
    "id": "w8gGSNnE_Ngv"
   },
   "outputs": [],
   "source": [
    "import tensorflow_addons as tfa\n",
    "\n",
    "from numpy import asarray\n",
    "from numpy import zeros\n",
    "from sklearn.utils import shuffle\n",
    "from sklearn.metrics import f1_score, precision_score, recall_score, accuracy_score\n",
    "\n",
    "import tensorflow as tf\n",
    "from tensorflow.keras.preprocessing.text import Tokenizer\n",
    "from tensorflow.keras.preprocessing.sequence import pad_sequences\n",
    "from tensorflow.keras.models import Sequential\n",
    "from tensorflow.keras.layers import Dense\n",
    "from tensorflow.keras.layers import Flatten, Dropout, MaxPool1D\n",
    "from tensorflow.keras import optimizers\n",
    "from tensorflow.keras.layers import Embedding, SimpleRNN, LSTM, GRU, Bidirectional\n",
    "import tensorflow.keras.backend as K"
   ]
  },
  {
   "cell_type": "code",
   "execution_count": 8,
   "metadata": {
    "id": "IUnMZe9zpZdh"
   },
   "outputs": [],
   "source": [
    "# nltk.download('all')"
   ]
  },
  {
   "cell_type": "code",
   "execution_count": 9,
   "metadata": {
    "id": "CCe7BteZpZdj"
   },
   "outputs": [],
   "source": [
    "# # Load your favorite word2vec model\n",
    "# cont = Contractions('https://s3.amazonaws.com/dl4j-distribution/GoogleNews-vectors-negative300.bin.gz')\n",
    "# text = \"we're\"\n",
    "# text = list(cont.expand_texts([text], precise=True))[0]"
   ]
  },
  {
   "cell_type": "code",
   "execution_count": 10,
   "metadata": {
    "id": "jBMsohUhpZdl"
   },
   "outputs": [],
   "source": [
    "def conv_dataframes(pos_path, neg_path):\n",
    "    with open(pos_path,'r',encoding='latin1') as f:\n",
    "        data_p = f.readlines()\n",
    "#     print(data_p[11])\n",
    "    with open(neg_path,'r',encoding='latin1') as f:\n",
    "        data_n = f.readlines()\n",
    "    pos_data = shuffle(pd.DataFrame(data_p, columns = [\"Doc Text\"]))\n",
    "#     pos_data['Sentiment'] = 1\n",
    "#     pos_data.columns = [\"Doc Text\", \"Sentiment\"]\n",
    "    neg_data = shuffle(pd.DataFrame(data_n, columns = [\"Doc Text\"]))\n",
    "#     neg_data['Sentiment'] = -1\n",
    "#     neg_data.columns = [\"Doc Text\", \"Sentiment\"]\n",
    "    return pos_data, neg_data\n"
   ]
  },
  {
   "cell_type": "markdown",
   "metadata": {
    "id": "3hr-TspWpZdn"
   },
   "source": [
    "## The code for pos tagging and lemmatize sentence is fron the following link:\n",
    " ### https://medium.com/@gaurav5430/using-nltk-for-lemmatizing-sentences-c1bfff963258"
   ]
  },
  {
   "cell_type": "code",
   "execution_count": 11,
   "metadata": {
    "id": "CmfT_d2dpZdn"
   },
   "outputs": [],
   "source": [
    "# function to convert nltk tag to wordnet tag\n",
    "def nltk_tag_to_wordnet_tag(nltk_tag):\n",
    "    if nltk_tag.startswith('J'):\n",
    "        return wordnet.ADJ\n",
    "    elif nltk_tag.startswith('V'):\n",
    "        return wordnet.VERB\n",
    "    elif nltk_tag.startswith('N'):\n",
    "        return wordnet.NOUN\n",
    "    elif nltk_tag.startswith('R'):\n",
    "        return wordnet.ADV\n",
    "    else:          \n",
    "        return None"
   ]
  },
  {
   "cell_type": "code",
   "execution_count": 12,
   "metadata": {
    "id": "UJso8xCYpZdq"
   },
   "outputs": [],
   "source": [
    "def lemmatize_sentence(sentence):\n",
    "    #tokenize the sentence and find the POS tag for each token\n",
    "    nltk_tagged = nltk.pos_tag(nltk.word_tokenize(sentence))  \n",
    "    #tuple of (token, wordnet_tag)\n",
    "    wordnet_tagged = map(lambda x: (x[0], nltk_tag_to_wordnet_tag(x[1])), nltk_tagged)\n",
    "#     print(wordnet_tagged)\n",
    "    lemmatized_sentence = []\n",
    "    for word, tag in wordnet_tagged:\n",
    "        if tag is None:\n",
    "            #if there is no available tag, append the token as is\n",
    "            lemmatized_sentence.append(word)\n",
    "        else:        \n",
    "            #else use the tag to lemmatize the token\n",
    "            lemmatized_sentence.append(lemmatizer.lemmatize(word, tag))\n",
    "#         if tag is not None:\n",
    "#             lemmatized_sentence.append(lemmatizer.lemmatize(word, tag)) \n",
    "\n",
    "    return \" \".join(lemmatized_sentence)"
   ]
  },
  {
   "cell_type": "code",
   "execution_count": 13,
   "metadata": {
    "id": "eioAEw_bpZdr"
   },
   "outputs": [],
   "source": [
    "# print(lemmatizer.lemmatize(\"I am loving it\")) #I am loving it\n",
    "# print(lemmatizer.lemmatize(\"loving\")) #loving\n",
    "# print(lemmatizer.lemmatize(\"loving\", \"v\")) #love\n",
    "# print(lemmatize_sentence(\"I am loving it\")) #I be love it"
   ]
  },
  {
   "cell_type": "code",
   "execution_count": 14,
   "metadata": {
    "id": "0yxaZ3DHpZdt"
   },
   "outputs": [],
   "source": [
    "def text_preprocessing(data):\n",
    "    \n",
    "    # This method replaces two or more consecutive letters with the same character to something shorter. For example, gooooooood becomes good.\n",
    "    def replaceTwoOrMore(s):\n",
    "        #look for 2 or more repetitions of character\n",
    "        pattern = re.compile(r\"(.)\\1{1,}\", re.DOTALL) \n",
    "        return pattern.sub(r\"\\1\\1\", s)\n",
    "\n",
    "    # This method converts camel cased words into space delimited words.\n",
    "    # For example: ThisIsASentence will be changed to This Is A Sentence\n",
    "    def convertCamelCase(word):\n",
    "        return re.sub(\"([a-z])([A-Z])\",\"\\g<1> \\g<2>\",word)\n",
    "\n",
    "    # Read a flat file containing some abbreviations and their expansions in pipe separated format\n",
    "    # Use these abbreviations to replace text in the tweets as part of Preprocessing\n",
    "    \n",
    "    def readAbbrFile(abb_path):\n",
    "        global abbr_dict\n",
    "        abbr_dict ={}\n",
    "        f = open(abb_path)\n",
    "        lines = f.readlines()\n",
    "        f.close()\n",
    "        for i in lines:\n",
    "            tmp = i.split('|')\n",
    "            abbr_dict[tmp[0]] = tmp[1]\n",
    "\n",
    "        return abbr_dict\n",
    "  \n",
    "    # This function checks the dictionary containing abbreviations and their meanings as (key,value) pairs\n",
    "    # and replaces the key with the corresponding value\n",
    "    def replaceAbbr(s):\n",
    "#         temp =[]\n",
    "#         for word in s.split():\n",
    "#             if word.lower() in abbr_dict.keys():\n",
    "# #                 print('t')                \n",
    "#                 temp.append(abbr_dict[word.lower()])\n",
    "#             else:\n",
    "#                 temp.append(word)\n",
    "        temp = \" \".join([abbr_dict[word.lower()] if word.lower() in abbr_dict.keys() else word for word in s.split()])\n",
    "        return temp\n",
    "    #end\n",
    "\n",
    "    def readcontractions(contra_path):\n",
    "        global contra_dict\n",
    "        contra_dict ={}\n",
    "        f = open(contra_path)\n",
    "        lines = f.readlines()\n",
    "        f.close()\n",
    "        for i in lines:\n",
    "            try: \n",
    "                tmp = i.replace('\"', '').replace(',', '').replace('\\n', ' ').split(':')\n",
    "                contra_dict[tmp[0]] = tmp[1]\n",
    "            except:\n",
    "                print(tmp)\n",
    "                print(z)\n",
    "\n",
    "        return contra_dict\n",
    "    \n",
    "    # This function checks the dictionary containing abbreviations and their meanings as (key,value) pairs\n",
    "    # and replaces the key with the corresponding value\n",
    "    def replacecontra(s):\n",
    "        temp = \" \".join([contra_dict[word.lower()] if word.lower() in contra_dict.keys() else word for word in s.split()])\n",
    "        return temp\n",
    "    #end    \n",
    "    \n",
    "\n",
    "    abb_path = os.path.join(data_path,\"abbrevations.txt\")\n",
    "    abbr_dict = readAbbrFile(abb_path)\n",
    "    \n",
    "    contra_path = os.path.join(data_path,\"contractions.txt\")\n",
    "    contra_dict = readcontractions(contra_path)\n",
    "    \n",
    "    data[\"Doc Text\"] = data[\"Doc Text\"].apply(lambda x: x.lower())\n",
    "    data[\"Doc Text\"] = data[\"Doc Text\"].apply(lambda x: replaceAbbr(x))\n",
    "    data[\"Doc Text\"] = data[\"Doc Text\"].apply(lambda x: replacecontra(x))\n",
    "\n",
    "    data[\"Doc Text\"] = data[\"Doc Text\"].str.replace('\\w+:\\/{2}[\\d\\w-]+(\\.[\\d\\w-]+)*(?:(?:\\/[^\\s/]*))*',' ') #remove URL\n",
    "    data[\"Doc Text\"] = data[\"Doc Text\"].str.replace('(\\s)@\\w+', ' ') #remove usernames\n",
    "    data[\"Doc Text\"] = data[\"Doc Text\"].str.replace('@\\w+', ' ') #remove usernames\n",
    "    data[\"Doc Text\"] = data[\"Doc Text\"].str.replace('<[^<]+?>', ' ') #remove HTML tags\n",
    "    data[\"Doc Text\"] = data[\"Doc Text\"].str.replace('[<>!#@$:.,%\\?-]+', ' ') #remove punctuation and special characters\n",
    "    \n",
    "    data[\"Doc Text\"] = data[\"Doc Text\"].str.replace('\\d+', ' ') # removing the words with more than 1 digit\n",
    "    data[\"Doc Text\"] = data[\"Doc Text\"].str.replace('\\n\\n', ' ')\n",
    "    data[\"Doc Text\"] = data[\"Doc Text\"].str.replace('\\n', ' ') # removing new line characters\n",
    "    data[\"Doc Text\"] = data[\"Doc Text\"].str.replace('[^\\w\\s]',' ')\n",
    "#     data[\"Doc Text\"] = data[\"Doc Text\"].str.replace('\\s+[a-zA-Z]\\s+',' ')\n",
    "#     data[\"Doc Text\"] = data[\"Doc Text\"].str.replace('\\^[a-zA-Z]\\s+',' ')\n",
    "    data[\"Doc Text\"] = data[\"Doc Text\"].str.replace('\\s+',' ')  \n",
    "\n",
    "    \n",
    "    data[\"Doc Text\"] = data[\"Doc Text\"].apply(lambda x: replaceTwoOrMore(x))\n",
    "    data[\"Doc Text\"] = data[\"Doc Text\"].apply(lambda x: convertCamelCase(x))\n",
    "\n",
    "    # Remove stop words from text\n",
    "    data[\"Doc Text\"] = data[\"Doc Text\"].apply(lambda x: \" \".join([word for word in x.split() if word not in stop_list]))\n",
    "    \n",
    "#     data[\"Doc Text\"] = data[\"Doc Text\"].apply(lambda x: \" \".join([lemmatizer.lemmatize(y) for y in x.split()]))\n",
    "    data[\"Doc Text\"] = data[\"Doc Text\"].apply(lambda x: lemmatize_sentence(x))\n",
    "\n",
    "    return data"
   ]
  },
  {
   "cell_type": "code",
   "execution_count": 15,
   "metadata": {
    "id": "7duAi2av_Ng-",
    "outputId": "8cac8bc2-0d0c-4aac-8a8b-d2ceeb7dab71"
   },
   "outputs": [
    {
     "data": {
      "text/plain": [
       "'k k  k'"
      ]
     },
     "execution_count": 15,
     "metadata": {},
     "output_type": "execute_result"
    }
   ],
   "source": [
    "st = 'k k  k'\n",
    "st.replace('\\s+','')\n",
    "st.replace('\\n\\n', '')\n",
    "st.replace('[^\\w\\s]','')\n",
    "st.replace('\\s+[a-zA-Z]\\s+','')\n",
    "st.replace('\\^[a-zA-Z]\\s+','')"
   ]
  },
  {
   "cell_type": "code",
   "execution_count": 16,
   "metadata": {
    "id": "DgyAcMZRpZdv"
   },
   "outputs": [],
   "source": [
    "def create_vocab(data1, data2):\n",
    "    temp1 = text_preprocessing(data1)\n",
    "    temp2 = text_preprocessing(data2)\n",
    "#     temp_pos2 = np.asarray([word_tokenize(re.sub(r\"\\b[a-zA-Z]\\b\", \" \",i)) for i in temp_pos['Doc Text']])\n",
    "#     temp_neg2 = np.asarray([word_tokenize(re.sub(r\"\\b[a-zA-Z]\\b\", \" \",i)) for i in temp_neg['Doc Text']]) \n",
    "#     temp_pos[\"Doc Text Tokens\"] = temp_pos2 \n",
    "#     temp_neg[\"Doc Text Tokens\"] = temp_neg2\n",
    "    return temp1, temp2"
   ]
  },
  {
   "cell_type": "code",
   "execution_count": 19,
   "metadata": {
    "id": "YcIgGnBHpZd1"
   },
   "outputs": [],
   "source": [
    "data_path = r'C:\\Users\\kalya\\OneDrive - University of Illinois at Chicago\\!UIC\\!Semesters\\3rd Sem\\CS 583 Data Mining and Text Mining\\Research Project\\Data'\n",
    "trainFile = os.path.join(data_path,\"training-Obama-Romney-tweets.xlsx\")\n",
    "obama_train_temp = pd.read_excel(trainFile, sheet_name = 'Obama', header = None, skiprows =[0,1], usecols= [3,4], names =['Doc Text', 'Sentiment'])\n",
    "romney_train_temp = pd.read_excel(trainFile, sheet_name = 'Romney', header = None, skiprows =[0,1], usecols= [3,4], names =['Doc Text', 'Sentiment'])\n",
    "\n"
   ]
  },
  {
   "cell_type": "code",
   "execution_count": 66,
   "metadata": {
    "colab": {
     "base_uri": "https://localhost:8080/",
     "height": 36
    },
    "id": "Aoo2NCbGpZd3",
    "outputId": "ff9514b3-a449-4c9e-a214-d3e144fe9ed8"
   },
   "outputs": [
    {
     "data": {
      "text/html": [
       "<div>\n",
       "<style scoped>\n",
       "    .dataframe tbody tr th:only-of-type {\n",
       "        vertical-align: middle;\n",
       "    }\n",
       "\n",
       "    .dataframe tbody tr th {\n",
       "        vertical-align: top;\n",
       "    }\n",
       "\n",
       "    .dataframe thead th {\n",
       "        text-align: right;\n",
       "    }\n",
       "</style>\n",
       "<table border=\"1\" class=\"dataframe\">\n",
       "  <thead>\n",
       "    <tr style=\"text-align: right;\">\n",
       "      <th></th>\n",
       "      <th>Doc Text</th>\n",
       "      <th>Sentiment</th>\n",
       "    </tr>\n",
       "  </thead>\n",
       "  <tbody>\n",
       "    <tr>\n",
       "      <th>0</th>\n",
       "      <td>Kirkpatrick, who wore a baseball cap embroider...</td>\n",
       "      <td>0</td>\n",
       "    </tr>\n",
       "    <tr>\n",
       "      <th>1</th>\n",
       "      <td>Question: If &lt;e&gt;Romney&lt;/e&gt; and &lt;e&gt;Obama&lt;/e&gt; ha...</td>\n",
       "      <td>2</td>\n",
       "    </tr>\n",
       "    <tr>\n",
       "      <th>2</th>\n",
       "      <td>#&lt;e&gt;obama&lt;/e&gt; debates that Cracker Ass Cracker...</td>\n",
       "      <td>1</td>\n",
       "    </tr>\n",
       "    <tr>\n",
       "      <th>3</th>\n",
       "      <td>RT @davewiner Slate: Blame &lt;e&gt;Obama&lt;/e&gt; for fo...</td>\n",
       "      <td>2</td>\n",
       "    </tr>\n",
       "    <tr>\n",
       "      <th>4</th>\n",
       "      <td>@Hollivan @hereistheanswer  Youre missing the ...</td>\n",
       "      <td>0</td>\n",
       "    </tr>\n",
       "  </tbody>\n",
       "</table>\n",
       "</div>"
      ],
      "text/plain": [
       "                                            Doc Text Sentiment\n",
       "0  Kirkpatrick, who wore a baseball cap embroider...         0\n",
       "1  Question: If <e>Romney</e> and <e>Obama</e> ha...         2\n",
       "2  #<e>obama</e> debates that Cracker Ass Cracker...         1\n",
       "3  RT @davewiner Slate: Blame <e>Obama</e> for fo...         2\n",
       "4  @Hollivan @hereistheanswer  Youre missing the ...         0"
      ]
     },
     "execution_count": 66,
     "metadata": {},
     "output_type": "execute_result"
    }
   ],
   "source": [
    "obama_train_temp.head()"
   ]
  },
  {
   "cell_type": "code",
   "execution_count": 67,
   "metadata": {
    "id": "ESw9o5h7_NhH",
    "outputId": "e7e18e93-a3d4-41a0-e0ea-63aa4cfb1ce2"
   },
   "outputs": [
    {
     "data": {
      "text/html": [
       "<div>\n",
       "<style scoped>\n",
       "    .dataframe tbody tr th:only-of-type {\n",
       "        vertical-align: middle;\n",
       "    }\n",
       "\n",
       "    .dataframe tbody tr th {\n",
       "        vertical-align: top;\n",
       "    }\n",
       "\n",
       "    .dataframe thead th {\n",
       "        text-align: right;\n",
       "    }\n",
       "</style>\n",
       "<table border=\"1\" class=\"dataframe\">\n",
       "  <thead>\n",
       "    <tr style=\"text-align: right;\">\n",
       "      <th></th>\n",
       "      <th>Doc Text</th>\n",
       "      <th>Sentiment</th>\n",
       "    </tr>\n",
       "  </thead>\n",
       "  <tbody>\n",
       "    <tr>\n",
       "      <th>0</th>\n",
       "      <td>Insidious!&lt;e&gt;Mitt Romney&lt;/e&gt;'s Bain Helped Phi...</td>\n",
       "      <td>-1</td>\n",
       "    </tr>\n",
       "    <tr>\n",
       "      <th>1</th>\n",
       "      <td>Senior &lt;e&gt;Romney&lt;/e&gt; Advisor Claims &lt;e&gt;Obama&lt;/...</td>\n",
       "      <td>2</td>\n",
       "    </tr>\n",
       "    <tr>\n",
       "      <th>2</th>\n",
       "      <td>.@WardBrenda @shortwave8669 @allanbourdius you...</td>\n",
       "      <td>-1</td>\n",
       "    </tr>\n",
       "    <tr>\n",
       "      <th>3</th>\n",
       "      <td>&lt;e&gt;Mitt Romney&lt;/e&gt; still doesn't &lt;a&gt;believe&lt;/a...</td>\n",
       "      <td>-1</td>\n",
       "    </tr>\n",
       "    <tr>\n",
       "      <th>4</th>\n",
       "      <td>&lt;e&gt;Romney&lt;/e&gt;'s &lt;a&gt;tax plan&lt;/a&gt; deserves a 2nd...</td>\n",
       "      <td>-1</td>\n",
       "    </tr>\n",
       "  </tbody>\n",
       "</table>\n",
       "</div>"
      ],
      "text/plain": [
       "                                            Doc Text Sentiment\n",
       "0  Insidious!<e>Mitt Romney</e>'s Bain Helped Phi...        -1\n",
       "1  Senior <e>Romney</e> Advisor Claims <e>Obama</...         2\n",
       "2  .@WardBrenda @shortwave8669 @allanbourdius you...        -1\n",
       "3  <e>Mitt Romney</e> still doesn't <a>believe</a...        -1\n",
       "4  <e>Romney</e>'s <a>tax plan</a> deserves a 2nd...        -1"
      ]
     },
     "execution_count": 67,
     "metadata": {},
     "output_type": "execute_result"
    }
   ],
   "source": [
    "romney_train_temp.head()"
   ]
  },
  {
   "cell_type": "markdown",
   "metadata": {
    "id": "L3fSFxgW_NhI"
   },
   "source": [
    "## Removing datapoints with mixed sentiment"
   ]
  },
  {
   "cell_type": "code",
   "execution_count": 68,
   "metadata": {
    "id": "W-c-9PNk_NhJ",
    "outputId": "e41582e4-b4bd-46ca-f0b3-14240470614c"
   },
   "outputs": [
    {
     "data": {
      "text/html": [
       "<div>\n",
       "<style scoped>\n",
       "    .dataframe tbody tr th:only-of-type {\n",
       "        vertical-align: middle;\n",
       "    }\n",
       "\n",
       "    .dataframe tbody tr th {\n",
       "        vertical-align: top;\n",
       "    }\n",
       "\n",
       "    .dataframe thead th {\n",
       "        text-align: right;\n",
       "    }\n",
       "</style>\n",
       "<table border=\"1\" class=\"dataframe\">\n",
       "  <thead>\n",
       "    <tr style=\"text-align: right;\">\n",
       "      <th></th>\n",
       "      <th>Doc Text</th>\n",
       "      <th>Sentiment</th>\n",
       "    </tr>\n",
       "  </thead>\n",
       "  <tbody>\n",
       "    <tr>\n",
       "      <th>0</th>\n",
       "      <td>Kirkpatrick, who wore a baseball cap embroider...</td>\n",
       "      <td>0</td>\n",
       "    </tr>\n",
       "    <tr>\n",
       "      <th>2</th>\n",
       "      <td>#&lt;e&gt;obama&lt;/e&gt; debates that Cracker Ass Cracker...</td>\n",
       "      <td>1</td>\n",
       "    </tr>\n",
       "    <tr>\n",
       "      <th>4</th>\n",
       "      <td>@Hollivan @hereistheanswer  Youre missing the ...</td>\n",
       "      <td>0</td>\n",
       "    </tr>\n",
       "    <tr>\n",
       "      <th>6</th>\n",
       "      <td>I was raised as a Democrat  left the party yea...</td>\n",
       "      <td>-1</td>\n",
       "    </tr>\n",
       "    <tr>\n",
       "      <th>7</th>\n",
       "      <td>The &lt;e&gt;Obama camp&lt;/e&gt; can't afford to lower ex...</td>\n",
       "      <td>0</td>\n",
       "    </tr>\n",
       "  </tbody>\n",
       "</table>\n",
       "</div>"
      ],
      "text/plain": [
       "                                            Doc Text Sentiment\n",
       "0  Kirkpatrick, who wore a baseball cap embroider...         0\n",
       "2  #<e>obama</e> debates that Cracker Ass Cracker...         1\n",
       "4  @Hollivan @hereistheanswer  Youre missing the ...         0\n",
       "6  I was raised as a Democrat  left the party yea...        -1\n",
       "7  The <e>Obama camp</e> can't afford to lower ex...         0"
      ]
     },
     "execution_count": 68,
     "metadata": {},
     "output_type": "execute_result"
    }
   ],
   "source": [
    "obama_train = obama_train_temp[obama_train_temp['Sentiment'] .isin((1,-1,0))]\n",
    "obama_train.head()"
   ]
  },
  {
   "cell_type": "code",
   "execution_count": 69,
   "metadata": {
    "id": "8-cpEizR_NhL",
    "outputId": "4d0a45c9-2f1f-416b-9ed6-004dc1fb8b51"
   },
   "outputs": [
    {
     "data": {
      "text/html": [
       "<div>\n",
       "<style scoped>\n",
       "    .dataframe tbody tr th:only-of-type {\n",
       "        vertical-align: middle;\n",
       "    }\n",
       "\n",
       "    .dataframe tbody tr th {\n",
       "        vertical-align: top;\n",
       "    }\n",
       "\n",
       "    .dataframe thead th {\n",
       "        text-align: right;\n",
       "    }\n",
       "</style>\n",
       "<table border=\"1\" class=\"dataframe\">\n",
       "  <thead>\n",
       "    <tr style=\"text-align: right;\">\n",
       "      <th></th>\n",
       "      <th>Doc Text</th>\n",
       "      <th>Sentiment</th>\n",
       "    </tr>\n",
       "  </thead>\n",
       "  <tbody>\n",
       "    <tr>\n",
       "      <th>0</th>\n",
       "      <td>Insidious!&lt;e&gt;Mitt Romney&lt;/e&gt;'s Bain Helped Phi...</td>\n",
       "      <td>-1</td>\n",
       "    </tr>\n",
       "    <tr>\n",
       "      <th>2</th>\n",
       "      <td>.@WardBrenda @shortwave8669 @allanbourdius you...</td>\n",
       "      <td>-1</td>\n",
       "    </tr>\n",
       "    <tr>\n",
       "      <th>3</th>\n",
       "      <td>&lt;e&gt;Mitt Romney&lt;/e&gt; still doesn't &lt;a&gt;believe&lt;/a...</td>\n",
       "      <td>-1</td>\n",
       "    </tr>\n",
       "    <tr>\n",
       "      <th>4</th>\n",
       "      <td>&lt;e&gt;Romney&lt;/e&gt;'s &lt;a&gt;tax plan&lt;/a&gt; deserves a 2nd...</td>\n",
       "      <td>-1</td>\n",
       "    </tr>\n",
       "    <tr>\n",
       "      <th>5</th>\n",
       "      <td>Hope &lt;e&gt;Romney&lt;/e&gt; debate prepped w/ the same ...</td>\n",
       "      <td>1</td>\n",
       "    </tr>\n",
       "  </tbody>\n",
       "</table>\n",
       "</div>"
      ],
      "text/plain": [
       "                                            Doc Text Sentiment\n",
       "0  Insidious!<e>Mitt Romney</e>'s Bain Helped Phi...        -1\n",
       "2  .@WardBrenda @shortwave8669 @allanbourdius you...        -1\n",
       "3  <e>Mitt Romney</e> still doesn't <a>believe</a...        -1\n",
       "4  <e>Romney</e>'s <a>tax plan</a> deserves a 2nd...        -1\n",
       "5  Hope <e>Romney</e> debate prepped w/ the same ...         1"
      ]
     },
     "execution_count": 69,
     "metadata": {},
     "output_type": "execute_result"
    }
   ],
   "source": [
    "romney_train = romney_train_temp[romney_train_temp['Sentiment'] .isin((1,-1,0))]\n",
    "romney_train.head()"
   ]
  },
  {
   "cell_type": "markdown",
   "metadata": {
    "id": "VZ0Xu4VZ_NhN"
   },
   "source": [
    "# Dropping missing values"
   ]
  },
  {
   "cell_type": "code",
   "execution_count": 70,
   "metadata": {
    "id": "j6WQ-4zw_NhO"
   },
   "outputs": [],
   "source": [
    "obama_train = obama_train.dropna()\n",
    "romney_train = romney_train.dropna()"
   ]
  },
  {
   "cell_type": "markdown",
   "metadata": {
    "id": "epYfA3Vg_NhQ"
   },
   "source": [
    "## Data Analysis"
   ]
  },
  {
   "cell_type": "code",
   "execution_count": 71,
   "metadata": {
    "id": "gW_pnLsm_NhQ",
    "outputId": "8c8f3c85-5317-474d-a0a8-a82f5c280779"
   },
   "outputs": [
    {
     "data": {
      "text/plain": [
       "-1    1922\n",
       " 0    1895\n",
       " 1    1653\n",
       "Name: Sentiment, dtype: int64"
      ]
     },
     "execution_count": 71,
     "metadata": {},
     "output_type": "execute_result"
    }
   ],
   "source": [
    "obama_train_DA = obama_train['Sentiment'].value_counts()\n",
    "obama_train_DA"
   ]
  },
  {
   "cell_type": "code",
   "execution_count": 72,
   "metadata": {
    "id": "RE1FsDeu_NhT",
    "outputId": "273ddcd9-24eb-4537-9c26-4b2c4fab26ef"
   },
   "outputs": [
    {
     "data": {
      "text/plain": [
       "<BarContainer object of 3 artists>"
      ]
     },
     "execution_count": 72,
     "metadata": {},
     "output_type": "execute_result"
    },
    {
     "data": {
      "image/png": "[encoded data removed]",
      "text/plain": [
       "<Figure size 432x288 with 1 Axes>"
      ]
     },
     "metadata": {
      "needs_background": "light"
     },
     "output_type": "display_data"
    }
   ],
   "source": [
    "plt.bar(height = obama_train_DA, x = ['-1', '0', '1'], color = ['r', 'c', 'g'])"
   ]
  },
  {
   "cell_type": "code",
   "execution_count": 73,
   "metadata": {
    "id": "T1_gyDU9_NhV",
    "outputId": "4ca273ed-1f9e-4d6e-c9fb-a55f743de3fb"
   },
   "outputs": [
    {
     "data": {
      "text/plain": [
       "-1    2893\n",
       " 0    1680\n",
       " 1    1075\n",
       "Name: Sentiment, dtype: int64"
      ]
     },
     "execution_count": 73,
     "metadata": {},
     "output_type": "execute_result"
    }
   ],
   "source": [
    "romney_train_DA = romney_train['Sentiment'].value_counts()\n",
    "romney_train_DA"
   ]
  },
  {
   "cell_type": "code",
   "execution_count": 74,
   "metadata": {
    "id": "7Alvh5jk_NhW",
    "outputId": "aeb017c0-982e-4669-aab5-f8781e9a77ee"
   },
   "outputs": [
    {
     "data": {
      "text/plain": [
       "<BarContainer object of 3 artists>"
      ]
     },
     "execution_count": 74,
     "metadata": {},
     "output_type": "execute_result"
    },
    {
     "data": {
      "image/png": "[encoded data removed]",
      "text/plain": [
       "<Figure size 432x288 with 1 Axes>"
      ]
     },
     "metadata": {
      "needs_background": "light"
     },
     "output_type": "display_data"
    }
   ],
   "source": [
    "plt.bar(height = romney_train_DA, x = ['-1', '0', '1'], color = ['r', 'c', 'g'])"
   ]
  },
  {
   "cell_type": "markdown",
   "metadata": {
    "id": "LagE7x_6_NhY"
   },
   "source": [
    "# Romney data is very imbalanced\n",
    "# So, its better to select the best model with respect to F1 Score"
   ]
  },
  {
   "cell_type": "code",
   "execution_count": null,
   "metadata": {
    "id": "05yRKXM4_NhY"
   },
   "outputs": [],
   "source": []
  },
  {
   "cell_type": "markdown",
   "metadata": {
    "id": "2j9EdPb9_Nha"
   },
   "source": [
    "## Preprocessing the data"
   ]
  },
  {
   "cell_type": "code",
   "execution_count": 75,
   "metadata": {
    "id": "Qsh4tjZk_Nhb"
   },
   "outputs": [],
   "source": [
    "# hm_lines = 5331\n",
    "\n",
    "# tokenizer = nltk.RegexpTokenizer(r\"\\w+\")\n",
    "# spell = Speller(lang='en')\n",
    "# # spell = SpellChecker()\n",
    "\n",
    "# stop_words = set(stopwords.words('english'))\n",
    "stop_list = stopwords.words('english')\n",
    "stop_list.extend(['rt', 'retweet', 'e'])\n",
    "\n",
    "lemmatizer = WordNetLemmatizer() "
   ]
  },
  {
   "cell_type": "code",
   "execution_count": 76,
   "metadata": {
    "id": "yZD3LoJ1_Nhe"
   },
   "outputs": [],
   "source": [
    "obama_train_pr, romney_train_pr = create_vocab(obama_train, romney_train)"
   ]
  },
  {
   "cell_type": "code",
   "execution_count": 77,
   "metadata": {
    "id": "Dt3d1UQV_Nhg",
    "outputId": "7e1f41e2-e776-4a8b-a822-74d9076321af"
   },
   "outputs": [
    {
     "data": {
      "text/html": [
       "<div>\n",
       "<style scoped>\n",
       "    .dataframe tbody tr th:only-of-type {\n",
       "        vertical-align: middle;\n",
       "    }\n",
       "\n",
       "    .dataframe tbody tr th {\n",
       "        vertical-align: top;\n",
       "    }\n",
       "\n",
       "    .dataframe thead th {\n",
       "        text-align: right;\n",
       "    }\n",
       "</style>\n",
       "<table border=\"1\" class=\"dataframe\">\n",
       "  <thead>\n",
       "    <tr style=\"text-align: right;\">\n",
       "      <th></th>\n",
       "      <th>Doc Text</th>\n",
       "      <th>Sentiment</th>\n",
       "    </tr>\n",
       "  </thead>\n",
       "  <tbody>\n",
       "    <tr>\n",
       "      <th>0</th>\n",
       "      <td>kirkpatrick wear baseball cap embroider obama ...</td>\n",
       "      <td>0</td>\n",
       "    </tr>\n",
       "    <tr>\n",
       "      <th>2</th>\n",
       "      <td>obama debate cracker as cracker tonight tune t...</td>\n",
       "      <td>1</td>\n",
       "    </tr>\n",
       "    <tr>\n",
       "      <th>4</th>\n",
       "      <td>miss point afraid understand big picture dont ...</td>\n",
       "      <td>0</td>\n",
       "    </tr>\n",
       "    <tr>\n",
       "      <th>6</th>\n",
       "      <td>raise democrat leave party year ago lifetime n...</td>\n",
       "      <td>-1</td>\n",
       "    </tr>\n",
       "    <tr>\n",
       "      <th>7</th>\n",
       "      <td>obama camp can not afford low expectation toni...</td>\n",
       "      <td>0</td>\n",
       "    </tr>\n",
       "  </tbody>\n",
       "</table>\n",
       "</div>"
      ],
      "text/plain": [
       "                                            Doc Text Sentiment\n",
       "0  kirkpatrick wear baseball cap embroider obama ...         0\n",
       "2  obama debate cracker as cracker tonight tune t...         1\n",
       "4  miss point afraid understand big picture dont ...         0\n",
       "6  raise democrat leave party year ago lifetime n...        -1\n",
       "7  obama camp can not afford low expectation toni...         0"
      ]
     },
     "execution_count": 77,
     "metadata": {},
     "output_type": "execute_result"
    }
   ],
   "source": [
    "obama_train_pr.head()"
   ]
  },
  {
   "cell_type": "code",
   "execution_count": 78,
   "metadata": {
    "id": "7dIaA7p2_Nhh"
   },
   "outputs": [],
   "source": [
    "obama_train_pr['Sentiment'] = obama_train_pr['Sentiment'].apply(lambda x: 'Positive' if x == 1 else ('Negative' if x == -1 else 'Neutral'))"
   ]
  },
  {
   "cell_type": "code",
   "execution_count": 79,
   "metadata": {
    "id": "cvFTC2P0_Nhj",
    "outputId": "db43eeb5-5682-47b0-b9d7-08261a27422a"
   },
   "outputs": [
    {
     "data": {
      "text/html": [
       "<div>\n",
       "<style scoped>\n",
       "    .dataframe tbody tr th:only-of-type {\n",
       "        vertical-align: middle;\n",
       "    }\n",
       "\n",
       "    .dataframe tbody tr th {\n",
       "        vertical-align: top;\n",
       "    }\n",
       "\n",
       "    .dataframe thead th {\n",
       "        text-align: right;\n",
       "    }\n",
       "</style>\n",
       "<table border=\"1\" class=\"dataframe\">\n",
       "  <thead>\n",
       "    <tr style=\"text-align: right;\">\n",
       "      <th></th>\n",
       "      <th>Doc Text</th>\n",
       "      <th>Sentiment</th>\n",
       "    </tr>\n",
       "  </thead>\n",
       "  <tbody>\n",
       "    <tr>\n",
       "      <th>0</th>\n",
       "      <td>kirkpatrick wear baseball cap embroider obama ...</td>\n",
       "      <td>Neutral</td>\n",
       "    </tr>\n",
       "    <tr>\n",
       "      <th>2</th>\n",
       "      <td>obama debate cracker as cracker tonight tune t...</td>\n",
       "      <td>Positive</td>\n",
       "    </tr>\n",
       "    <tr>\n",
       "      <th>4</th>\n",
       "      <td>miss point afraid understand big picture dont ...</td>\n",
       "      <td>Neutral</td>\n",
       "    </tr>\n",
       "    <tr>\n",
       "      <th>6</th>\n",
       "      <td>raise democrat leave party year ago lifetime n...</td>\n",
       "      <td>Negative</td>\n",
       "    </tr>\n",
       "    <tr>\n",
       "      <th>7</th>\n",
       "      <td>obama camp can not afford low expectation toni...</td>\n",
       "      <td>Neutral</td>\n",
       "    </tr>\n",
       "  </tbody>\n",
       "</table>\n",
       "</div>"
      ],
      "text/plain": [
       "                                            Doc Text Sentiment\n",
       "0  kirkpatrick wear baseball cap embroider obama ...   Neutral\n",
       "2  obama debate cracker as cracker tonight tune t...  Positive\n",
       "4  miss point afraid understand big picture dont ...   Neutral\n",
       "6  raise democrat leave party year ago lifetime n...  Negative\n",
       "7  obama camp can not afford low expectation toni...   Neutral"
      ]
     },
     "execution_count": 79,
     "metadata": {},
     "output_type": "execute_result"
    }
   ],
   "source": [
    "obama_train_pr.head()"
   ]
  },
  {
   "cell_type": "code",
   "execution_count": 80,
   "metadata": {
    "id": "ngjoZsf1_Nhk",
    "outputId": "f4faedde-ebea-4669-c4ae-8b3167a116da"
   },
   "outputs": [
    {
     "data": {
      "text/html": [
       "<div>\n",
       "<style scoped>\n",
       "    .dataframe tbody tr th:only-of-type {\n",
       "        vertical-align: middle;\n",
       "    }\n",
       "\n",
       "    .dataframe tbody tr th {\n",
       "        vertical-align: top;\n",
       "    }\n",
       "\n",
       "    .dataframe thead th {\n",
       "        text-align: right;\n",
       "    }\n",
       "</style>\n",
       "<table border=\"1\" class=\"dataframe\">\n",
       "  <thead>\n",
       "    <tr style=\"text-align: right;\">\n",
       "      <th></th>\n",
       "      <th>Doc Text</th>\n",
       "      <th>Sentiment</th>\n",
       "    </tr>\n",
       "  </thead>\n",
       "  <tbody>\n",
       "    <tr>\n",
       "      <th>0</th>\n",
       "      <td>insidious mitt romney bain help philip morris ...</td>\n",
       "      <td>-1</td>\n",
       "    </tr>\n",
       "    <tr>\n",
       "      <th>2</th>\n",
       "      <td>mean like romney cheat primary</td>\n",
       "      <td>-1</td>\n",
       "    </tr>\n",
       "    <tr>\n",
       "      <th>3</th>\n",
       "      <td>mitt romney still believe black president</td>\n",
       "      <td>-1</td>\n",
       "    </tr>\n",
       "    <tr>\n",
       "      <th>4</th>\n",
       "      <td>romney tax plan deserve nd look secret one dif...</td>\n",
       "      <td>-1</td>\n",
       "    </tr>\n",
       "    <tr>\n",
       "      <th>5</th>\n",
       "      <td>hope romney debate prepped people last time</td>\n",
       "      <td>1</td>\n",
       "    </tr>\n",
       "  </tbody>\n",
       "</table>\n",
       "</div>"
      ],
      "text/plain": [
       "                                            Doc Text Sentiment\n",
       "0  insidious mitt romney bain help philip morris ...        -1\n",
       "2                     mean like romney cheat primary        -1\n",
       "3          mitt romney still believe black president        -1\n",
       "4  romney tax plan deserve nd look secret one dif...        -1\n",
       "5        hope romney debate prepped people last time         1"
      ]
     },
     "execution_count": 80,
     "metadata": {},
     "output_type": "execute_result"
    }
   ],
   "source": [
    "romney_train_pr.head()"
   ]
  },
  {
   "cell_type": "code",
   "execution_count": 81,
   "metadata": {
    "id": "BX_1EBR3_Nhm"
   },
   "outputs": [],
   "source": [
    "romney_train_pr['Sentiment'] = romney_train_pr['Sentiment'].apply(lambda x: 'Positive' if x == 1 else ('Negative' if x == -1 else 'Neutral'))"
   ]
  },
  {
   "cell_type": "code",
   "execution_count": 82,
   "metadata": {
    "id": "PT1k9oGj_Nho",
    "outputId": "432925e6-6ad6-4ed8-ac06-4e63bf4f003d"
   },
   "outputs": [
    {
     "data": {
      "text/html": [
       "<div>\n",
       "<style scoped>\n",
       "    .dataframe tbody tr th:only-of-type {\n",
       "        vertical-align: middle;\n",
       "    }\n",
       "\n",
       "    .dataframe tbody tr th {\n",
       "        vertical-align: top;\n",
       "    }\n",
       "\n",
       "    .dataframe thead th {\n",
       "        text-align: right;\n",
       "    }\n",
       "</style>\n",
       "<table border=\"1\" class=\"dataframe\">\n",
       "  <thead>\n",
       "    <tr style=\"text-align: right;\">\n",
       "      <th></th>\n",
       "      <th>Doc Text</th>\n",
       "      <th>Sentiment</th>\n",
       "    </tr>\n",
       "  </thead>\n",
       "  <tbody>\n",
       "    <tr>\n",
       "      <th>0</th>\n",
       "      <td>insidious mitt romney bain help philip morris ...</td>\n",
       "      <td>Negative</td>\n",
       "    </tr>\n",
       "    <tr>\n",
       "      <th>2</th>\n",
       "      <td>mean like romney cheat primary</td>\n",
       "      <td>Negative</td>\n",
       "    </tr>\n",
       "    <tr>\n",
       "      <th>3</th>\n",
       "      <td>mitt romney still believe black president</td>\n",
       "      <td>Negative</td>\n",
       "    </tr>\n",
       "    <tr>\n",
       "      <th>4</th>\n",
       "      <td>romney tax plan deserve nd look secret one dif...</td>\n",
       "      <td>Negative</td>\n",
       "    </tr>\n",
       "    <tr>\n",
       "      <th>5</th>\n",
       "      <td>hope romney debate prepped people last time</td>\n",
       "      <td>Positive</td>\n",
       "    </tr>\n",
       "  </tbody>\n",
       "</table>\n",
       "</div>"
      ],
      "text/plain": [
       "                                            Doc Text Sentiment\n",
       "0  insidious mitt romney bain help philip morris ...  Negative\n",
       "2                     mean like romney cheat primary  Negative\n",
       "3          mitt romney still believe black president  Negative\n",
       "4  romney tax plan deserve nd look secret one dif...  Negative\n",
       "5        hope romney debate prepped people last time  Positive"
      ]
     },
     "execution_count": 82,
     "metadata": {},
     "output_type": "execute_result"
    }
   ],
   "source": [
    "romney_train_pr.head()"
   ]
  },
  {
   "cell_type": "code",
   "execution_count": null,
   "metadata": {
    "id": "cBTlpT5I_Nhp"
   },
   "outputs": [],
   "source": []
  },
  {
   "cell_type": "markdown",
   "metadata": {
    "id": "8nyt2ltYpZd5"
   },
   "source": [
    "\n",
    "## Building Machine Learning Models"
   ]
  },
  {
   "cell_type": "code",
   "execution_count": 17,
   "metadata": {},
   "outputs": [],
   "source": [
    "# obama_train_pr.to_csv(os.path.join(data_path, 'Obama Training1 Data.csv'))\n",
    "# romney_train_pr.to_csv(os.path.join(data_path, 'Romney Training1 Data.csv'))"
   ]
  },
  {
   "cell_type": "code",
   "execution_count": 20,
   "metadata": {},
   "outputs": [],
   "source": [
    "obama_train_pr_df = pd.read_csv(os.path.join(data_path, 'Obama Training1 Data.csv'), usecols = [1,2])\n",
    "romney_train_pr_df = pd.read_csv(os.path.join(data_path, 'Romney Training1 Data.csv'), usecols = [1,2])"
   ]
  },
  {
   "cell_type": "code",
   "execution_count": 21,
   "metadata": {},
   "outputs": [
    {
     "data": {
      "text/html": [
       "<div>\n",
       "<style scoped>\n",
       "    .dataframe tbody tr th:only-of-type {\n",
       "        vertical-align: middle;\n",
       "    }\n",
       "\n",
       "    .dataframe tbody tr th {\n",
       "        vertical-align: top;\n",
       "    }\n",
       "\n",
       "    .dataframe thead th {\n",
       "        text-align: right;\n",
       "    }\n",
       "</style>\n",
       "<table border=\"1\" class=\"dataframe\">\n",
       "  <thead>\n",
       "    <tr style=\"text-align: right;\">\n",
       "      <th></th>\n",
       "      <th>Doc Text</th>\n",
       "      <th>Sentiment</th>\n",
       "    </tr>\n",
       "  </thead>\n",
       "  <tbody>\n",
       "    <tr>\n",
       "      <th>0</th>\n",
       "      <td>kirkpatrick wear baseball cap embroider obama ...</td>\n",
       "      <td>Neutral</td>\n",
       "    </tr>\n",
       "    <tr>\n",
       "      <th>1</th>\n",
       "      <td>obama debate cracker as cracker tonight tune t...</td>\n",
       "      <td>Positive</td>\n",
       "    </tr>\n",
       "    <tr>\n",
       "      <th>2</th>\n",
       "      <td>miss point afraid understand big picture dont ...</td>\n",
       "      <td>Neutral</td>\n",
       "    </tr>\n",
       "    <tr>\n",
       "      <th>3</th>\n",
       "      <td>raise democrat leave party year ago lifetime n...</td>\n",
       "      <td>Negative</td>\n",
       "    </tr>\n",
       "    <tr>\n",
       "      <th>4</th>\n",
       "      <td>obama camp can not afford low expectation toni...</td>\n",
       "      <td>Neutral</td>\n",
       "    </tr>\n",
       "  </tbody>\n",
       "</table>\n",
       "</div>"
      ],
      "text/plain": [
       "                                            Doc Text Sentiment\n",
       "0  kirkpatrick wear baseball cap embroider obama ...   Neutral\n",
       "1  obama debate cracker as cracker tonight tune t...  Positive\n",
       "2  miss point afraid understand big picture dont ...   Neutral\n",
       "3  raise democrat leave party year ago lifetime n...  Negative\n",
       "4  obama camp can not afford low expectation toni...   Neutral"
      ]
     },
     "execution_count": 21,
     "metadata": {},
     "output_type": "execute_result"
    }
   ],
   "source": [
    "obama_train_pr_df.head()"
   ]
  },
  {
   "cell_type": "code",
   "execution_count": 22,
   "metadata": {},
   "outputs": [],
   "source": [
    "obama_train_pr_df = obama_train_pr_df.dropna()\n",
    "romney_train_pr_df = romney_train_pr_df.dropna()"
   ]
  },
  {
   "cell_type": "code",
   "execution_count": 23,
   "metadata": {},
   "outputs": [],
   "source": [
    "def tf_idf(x):\n",
    "    vectorizer = TfidfVectorizer()\n",
    "    tfidf_matrix = vectorizer.fit_transform(x)\n",
    "    #print(tfidf_matrix)\n",
    "    x1 = tfidf_matrix.toarray()\n",
    "#     print(x1)\n",
    "    return x1"
   ]
  },
  {
   "cell_type": "code",
   "execution_count": 24,
   "metadata": {},
   "outputs": [],
   "source": [
    "obama_train_pr_tfidf = tf_idf(obama_train_pr_df['Doc Text'])\n",
    "romney_train_pr_tfidf = tf_idf(romney_train_pr_df['Doc Text'])"
   ]
  },
  {
   "cell_type": "code",
   "execution_count": 104,
   "metadata": {},
   "outputs": [
    {
     "name": "stdout",
     "output_type": "stream",
     "text": [
      "100%|██████████| 20/20 [01:15<00:00,  3.76s/trial, best loss: -0.47506789074000444]\n",
      "{'C': 10.988358566458993, 'degree': 0, 'gamma': 2, 'kernel': 1, 'n': 6}\n"
     ]
    }
   ],
   "source": [
    "# With PCA, Bayesian Optimization, and SVM\n",
    "\n",
    "def objective_func(args):\n",
    "    C = args['C']\n",
    "    pca = PCA(n_components=args['n'])\n",
    "    kernel = args['kernel']\n",
    "    gamma = args['gamma']\n",
    "    degree = args['degree']\n",
    "    x_pca1 = pca.fit_transform(obama_train_pr_tfidf)\n",
    "\n",
    " \n",
    "    clf = SVC(C= C, kernel = kernel, gamma=gamma, degree=degree)\n",
    "    temp = obama_train_pr_df['Sentiment'].apply(lambda x: 1 if x == 'Positive' else (3 if x == 'Negative' else 2))\n",
    "#     error = 1-(cross_val_score(clf, x_pca1, temp, cv = 5, scoring = 'f1_macro'))\n",
    "#     f1 = mean(error) + stdev(error) \n",
    "    #print(f1)\n",
    "    temp_f1 = cross_val_score(clf, x_pca1, temp, cv = 5, scoring = 'f1_macro')\n",
    "    f1 = mean(temp_f1)\n",
    "    return -(f1)\n",
    "space = {'C': hp.uniform('C', 0.1,20),\n",
    "         'n': hp.choice('n', np.arange(3,10, step =1)),\n",
    "        'kernel': hp.choice('kernel', ['poly', 'rbf', 'sigmoid']), \n",
    "        'gamma': hp.choice('gamma',range(1,4)),\n",
    "         'degree' : hp.choice('degree',range(1,4))}\n",
    "                                \n",
    "                                \n",
    "                                \n",
    "best_classifier = fmin(objective_func, space, algo=tpe.suggest, max_evals=20)\n",
    "print(best_classifier)"
   ]
  },
  {
   "cell_type": "code",
   "execution_count": null,
   "metadata": {},
   "outputs": [
    {
     "name": "stdout",
     "output_type": "stream",
     "text": [
      "  0%|          | 0/20 [00:00<?, ?trial/s, best loss=?]"
     ]
    }
   ],
   "source": [
    "# With PCA, Bayesian Optimization, and SVM\n",
    "\n",
    "def objective_func(args):\n",
    "    C = args['C']\n",
    "\n",
    "    kernel = args['kernel']\n",
    "    gamma = args['gamma']\n",
    "    degree = args['degree']\n",
    "    \n",
    "#     pca = PCA(n_components=args['n'])\n",
    "#     x_pca1 = pca.fit_transform(obama_train_pr_tfidf)\n",
    "\n",
    " \n",
    "    clf = SVC(C= C, kernel = kernel, gamma=gamma, degree=degree)\n",
    "#     error = 1-(cross_val_score(clf, x_pca1, temp, cv = 5, scoring = 'f1_macro'))\n",
    "#     f1 = mean(error) + stdev(error) \n",
    "    #print(f1)\n",
    "    temp = obama_train_pr_df['Sentiment'].apply(lambda x: 1 if x == 'Positive' else (3 if x == 'Negative' else 2))\n",
    "    temp_f1 = cross_val_score(clf, obama_train_pr_tfidf, temp, cv = 5, scoring = 'f1_macro')\n",
    "    f1 = mean(temp_f1)\n",
    "    return -(f1)\n",
    "space = {'C': hp.uniform('C', 0.1,20),\n",
    "#          'n': hp.choice('n', np.arange(3,10, step =1)),\n",
    "        'kernel': hp.choice('kernel', ['poly', 'rbf', 'sigmoid']), \n",
    "        'gamma': hp.choice('gamma',range(1,4)),\n",
    "         'degree' : hp.choice('degree',range(1,4))}\n",
    "                                \n",
    "                                \n",
    "                                \n",
    "best_classifier = fmin(objective_func, space, algo=tpe.suggest, max_evals=20)\n",
    "print(best_classifier)"
   ]
  },
  {
   "cell_type": "code",
   "execution_count": null,
   "metadata": {},
   "outputs": [],
   "source": []
  },
  {
   "cell_type": "code",
   "execution_count": 26,
   "metadata": {},
   "outputs": [
    {
     "name": "stdout",
     "output_type": "stream",
     "text": [
      "100%|██████████| 30/30 [09:58<00:00, 19.95s/trial, best loss: -0.552838844792619] \n",
      "{'max_depth': 44, 'min_samples_leaf': 0, 'min_samples_split': 9, 'n_estimators': 48}\n"
     ]
    }
   ],
   "source": [
    "# With Bayesian Optimization, and Random Forest\n",
    "\n",
    "def objective_func(args):\n",
    "    n_estimators = args['n_estimators']\n",
    "    max_depth = args['max_depth']\n",
    "    min_samples_split = args['min_samples_split']\n",
    "    min_samples_leaf = args['min_samples_leaf']\n",
    "#     pca = PCA(n_components=args['n'])\n",
    "#     x_pca1 = pca.fit_transform(obama_train_pr_tfidf)\n",
    "\n",
    " \n",
    "    clf = RandomForestClassifier(n_estimators = n_estimators, max_depth = max_depth, min_samples_leaf=min_samples_leaf, min_samples_split=min_samples_split, n_jobs = -1)\n",
    "    \n",
    "    temp = obama_train_pr_df['Sentiment'].apply(lambda x: 1 if x == 'Positive' else (3 if x == 'Negative' else 2))\n",
    "    temp_f1 = cross_val_score(clf, obama_train_pr_tfidf, temp, cv = 5, scoring = 'f1_macro')\n",
    "    f1 = mean(temp_f1)\n",
    "    return -(f1)\n",
    "space = {'n_estimators': hp.choice('n_estimators', np.arange(20,101, step =1)), \n",
    "         'max_depth': hp.choice('max_depth', np.arange(20,101, step =1)), \n",
    "#         'criterion': hp.choice('criterion',['gini', 'entropy']),\n",
    "#         'max_features': hp.choice('max_features', ['auto', 'sqrt']),\n",
    "        'min_samples_split': hp.choice('min_samples_split', np.arange(2,12, step =1)),\n",
    "         'min_samples_leaf' : hp.choice('min_samples_leaf',np.arange(1,12, step =1))\n",
    "#         'n': hp.choice('n', np.arange(3,20, step =1))\n",
    "        }\n",
    "                                \n",
    "                                \n",
    "                                \n",
    "best_classifier = fmin(objective_func, space, algo=tpe.suggest, max_evals=30)\n",
    "print(best_classifier)"
   ]
  },
  {
   "cell_type": "code",
   "execution_count": 107,
   "metadata": {},
   "outputs": [
    {
     "name": "stdout",
     "output_type": "stream",
     "text": [
      "0.44473092670012715\n"
     ]
    }
   ],
   "source": [
    "pca2 = PCA(n_components=3)\n",
    "x_pca2 = pca2.fit_transform(obama_train_pr_tfidf)\n",
    "gb = GaussianNB()\n",
    "print(cross_val_score(gb, obama_train_pr_tfidf,obama_train_pr_df['Sentiment'], cv = 5, scoring = 'f1_macro').mean())"
   ]
  },
  {
   "cell_type": "code",
   "execution_count": null,
   "metadata": {},
   "outputs": [],
   "source": []
  },
  {
   "cell_type": "code",
   "execution_count": 30,
   "metadata": {},
   "outputs": [
    {
     "name": "stdout",
     "output_type": "stream",
     "text": [
      " 20%|██        | 6/30 [16:41<1:06:47, 166.99s/trial, best loss: -0.47666691430168934]\n"
     ]
    },
    {
     "ename": "KeyboardInterrupt",
     "evalue": "",
     "output_type": "error",
     "traceback": [
      "\u001b[1;31m---------------------------------------------------------------------------\u001b[0m",
      "\u001b[1;31mKeyboardInterrupt\u001b[0m                         Traceback (most recent call last)",
      "\u001b[1;32m<ipython-input-30-d60b61969293>\u001b[0m in \u001b[0;36m<module>\u001b[1;34m\u001b[0m\n\u001b[0;32m     15\u001b[0m         'n': hp.choice('n', np.arange(3,10, step =1))}\n\u001b[0;32m     16\u001b[0m \u001b[1;33m\u001b[0m\u001b[0m\n\u001b[1;32m---> 17\u001b[1;33m \u001b[0mbest_classifier\u001b[0m \u001b[1;33m=\u001b[0m \u001b[0mfmin\u001b[0m\u001b[1;33m(\u001b[0m\u001b[0mobjective_func\u001b[0m\u001b[1;33m,\u001b[0m \u001b[0mspace\u001b[0m\u001b[1;33m,\u001b[0m \u001b[0malgo\u001b[0m\u001b[1;33m=\u001b[0m\u001b[0mtpe\u001b[0m\u001b[1;33m.\u001b[0m\u001b[0msuggest\u001b[0m\u001b[1;33m,\u001b[0m \u001b[0mmax_evals\u001b[0m\u001b[1;33m=\u001b[0m\u001b[1;36m30\u001b[0m\u001b[1;33m)\u001b[0m\u001b[1;33m\u001b[0m\u001b[1;33m\u001b[0m\u001b[0m\n\u001b[0m\u001b[0;32m     18\u001b[0m \u001b[0mprint\u001b[0m\u001b[1;33m(\u001b[0m\u001b[0mbest_classifier\u001b[0m\u001b[1;33m)\u001b[0m\u001b[1;33m\u001b[0m\u001b[1;33m\u001b[0m\u001b[0m\n",
      "\u001b[1;32m~\\anaconda3\\lib\\site-packages\\hyperopt\\fmin.py\u001b[0m in \u001b[0;36mfmin\u001b[1;34m(fn, space, algo, max_evals, timeout, loss_threshold, trials, rstate, allow_trials_fmin, pass_expr_memo_ctrl, catch_eval_exceptions, verbose, return_argmin, points_to_evaluate, max_queue_len, show_progressbar)\u001b[0m\n\u001b[0;32m    507\u001b[0m \u001b[1;33m\u001b[0m\u001b[0m\n\u001b[0;32m    508\u001b[0m     \u001b[1;31m# next line is where the fmin is actually executed\u001b[0m\u001b[1;33m\u001b[0m\u001b[1;33m\u001b[0m\u001b[1;33m\u001b[0m\u001b[0m\n\u001b[1;32m--> 509\u001b[1;33m     \u001b[0mrval\u001b[0m\u001b[1;33m.\u001b[0m\u001b[0mexhaust\u001b[0m\u001b[1;33m(\u001b[0m\u001b[1;33m)\u001b[0m\u001b[1;33m\u001b[0m\u001b[1;33m\u001b[0m\u001b[0m\n\u001b[0m\u001b[0;32m    510\u001b[0m \u001b[1;33m\u001b[0m\u001b[0m\n\u001b[0;32m    511\u001b[0m     \u001b[1;32mif\u001b[0m \u001b[0mreturn_argmin\u001b[0m\u001b[1;33m:\u001b[0m\u001b[1;33m\u001b[0m\u001b[1;33m\u001b[0m\u001b[0m\n",
      "\u001b[1;32m~\\anaconda3\\lib\\site-packages\\hyperopt\\fmin.py\u001b[0m in \u001b[0;36mexhaust\u001b[1;34m(self)\u001b[0m\n\u001b[0;32m    328\u001b[0m     \u001b[1;32mdef\u001b[0m \u001b[0mexhaust\u001b[0m\u001b[1;33m(\u001b[0m\u001b[0mself\u001b[0m\u001b[1;33m)\u001b[0m\u001b[1;33m:\u001b[0m\u001b[1;33m\u001b[0m\u001b[1;33m\u001b[0m\u001b[0m\n\u001b[0;32m    329\u001b[0m         \u001b[0mn_done\u001b[0m \u001b[1;33m=\u001b[0m \u001b[0mlen\u001b[0m\u001b[1;33m(\u001b[0m\u001b[0mself\u001b[0m\u001b[1;33m.\u001b[0m\u001b[0mtrials\u001b[0m\u001b[1;33m)\u001b[0m\u001b[1;33m\u001b[0m\u001b[1;33m\u001b[0m\u001b[0m\n\u001b[1;32m--> 330\u001b[1;33m         \u001b[0mself\u001b[0m\u001b[1;33m.\u001b[0m\u001b[0mrun\u001b[0m\u001b[1;33m(\u001b[0m\u001b[0mself\u001b[0m\u001b[1;33m.\u001b[0m\u001b[0mmax_evals\u001b[0m \u001b[1;33m-\u001b[0m \u001b[0mn_done\u001b[0m\u001b[1;33m,\u001b[0m \u001b[0mblock_until_done\u001b[0m\u001b[1;33m=\u001b[0m\u001b[0mself\u001b[0m\u001b[1;33m.\u001b[0m\u001b[0masynchronous\u001b[0m\u001b[1;33m)\u001b[0m\u001b[1;33m\u001b[0m\u001b[1;33m\u001b[0m\u001b[0m\n\u001b[0m\u001b[0;32m    331\u001b[0m         \u001b[0mself\u001b[0m\u001b[1;33m.\u001b[0m\u001b[0mtrials\u001b[0m\u001b[1;33m.\u001b[0m\u001b[0mrefresh\u001b[0m\u001b[1;33m(\u001b[0m\u001b[1;33m)\u001b[0m\u001b[1;33m\u001b[0m\u001b[1;33m\u001b[0m\u001b[0m\n\u001b[0;32m    332\u001b[0m         \u001b[1;32mreturn\u001b[0m \u001b[0mself\u001b[0m\u001b[1;33m\u001b[0m\u001b[1;33m\u001b[0m\u001b[0m\n",
      "\u001b[1;32m~\\anaconda3\\lib\\site-packages\\hyperopt\\fmin.py\u001b[0m in \u001b[0;36mrun\u001b[1;34m(self, N, block_until_done)\u001b[0m\n\u001b[0;32m    284\u001b[0m                 \u001b[1;32melse\u001b[0m\u001b[1;33m:\u001b[0m\u001b[1;33m\u001b[0m\u001b[1;33m\u001b[0m\u001b[0m\n\u001b[0;32m    285\u001b[0m                     \u001b[1;31m# -- loop over trials and do the jobs directly\u001b[0m\u001b[1;33m\u001b[0m\u001b[1;33m\u001b[0m\u001b[1;33m\u001b[0m\u001b[0m\n\u001b[1;32m--> 286\u001b[1;33m                     \u001b[0mself\u001b[0m\u001b[1;33m.\u001b[0m\u001b[0mserial_evaluate\u001b[0m\u001b[1;33m(\u001b[0m\u001b[1;33m)\u001b[0m\u001b[1;33m\u001b[0m\u001b[1;33m\u001b[0m\u001b[0m\n\u001b[0m\u001b[0;32m    287\u001b[0m \u001b[1;33m\u001b[0m\u001b[0m\n\u001b[0;32m    288\u001b[0m                 \u001b[0mself\u001b[0m\u001b[1;33m.\u001b[0m\u001b[0mtrials\u001b[0m\u001b[1;33m.\u001b[0m\u001b[0mrefresh\u001b[0m\u001b[1;33m(\u001b[0m\u001b[1;33m)\u001b[0m\u001b[1;33m\u001b[0m\u001b[1;33m\u001b[0m\u001b[0m\n",
      "\u001b[1;32m~\\anaconda3\\lib\\site-packages\\hyperopt\\fmin.py\u001b[0m in \u001b[0;36mserial_evaluate\u001b[1;34m(self, N)\u001b[0m\n\u001b[0;32m    163\u001b[0m                 \u001b[0mctrl\u001b[0m \u001b[1;33m=\u001b[0m \u001b[0mbase\u001b[0m\u001b[1;33m.\u001b[0m\u001b[0mCtrl\u001b[0m\u001b[1;33m(\u001b[0m\u001b[0mself\u001b[0m\u001b[1;33m.\u001b[0m\u001b[0mtrials\u001b[0m\u001b[1;33m,\u001b[0m \u001b[0mcurrent_trial\u001b[0m\u001b[1;33m=\u001b[0m\u001b[0mtrial\u001b[0m\u001b[1;33m)\u001b[0m\u001b[1;33m\u001b[0m\u001b[1;33m\u001b[0m\u001b[0m\n\u001b[0;32m    164\u001b[0m                 \u001b[1;32mtry\u001b[0m\u001b[1;33m:\u001b[0m\u001b[1;33m\u001b[0m\u001b[1;33m\u001b[0m\u001b[0m\n\u001b[1;32m--> 165\u001b[1;33m                     \u001b[0mresult\u001b[0m \u001b[1;33m=\u001b[0m \u001b[0mself\u001b[0m\u001b[1;33m.\u001b[0m\u001b[0mdomain\u001b[0m\u001b[1;33m.\u001b[0m\u001b[0mevaluate\u001b[0m\u001b[1;33m(\u001b[0m\u001b[0mspec\u001b[0m\u001b[1;33m,\u001b[0m \u001b[0mctrl\u001b[0m\u001b[1;33m)\u001b[0m\u001b[1;33m\u001b[0m\u001b[1;33m\u001b[0m\u001b[0m\n\u001b[0m\u001b[0;32m    166\u001b[0m                 \u001b[1;32mexcept\u001b[0m \u001b[0mException\u001b[0m \u001b[1;32mas\u001b[0m \u001b[0me\u001b[0m\u001b[1;33m:\u001b[0m\u001b[1;33m\u001b[0m\u001b[1;33m\u001b[0m\u001b[0m\n\u001b[0;32m    167\u001b[0m                     \u001b[0mlogger\u001b[0m\u001b[1;33m.\u001b[0m\u001b[0merror\u001b[0m\u001b[1;33m(\u001b[0m\u001b[1;34m\"job exception: %s\"\u001b[0m \u001b[1;33m%\u001b[0m \u001b[0mstr\u001b[0m\u001b[1;33m(\u001b[0m\u001b[0me\u001b[0m\u001b[1;33m)\u001b[0m\u001b[1;33m)\u001b[0m\u001b[1;33m\u001b[0m\u001b[1;33m\u001b[0m\u001b[0m\n",
      "\u001b[1;32m~\\anaconda3\\lib\\site-packages\\hyperopt\\base.py\u001b[0m in \u001b[0;36mevaluate\u001b[1;34m(self, config, ctrl, attach_attachments)\u001b[0m\n\u001b[0;32m    892\u001b[0m                 \u001b[0mprint_node_on_error\u001b[0m\u001b[1;33m=\u001b[0m\u001b[0mself\u001b[0m\u001b[1;33m.\u001b[0m\u001b[0mrec_eval_print_node_on_error\u001b[0m\u001b[1;33m,\u001b[0m\u001b[1;33m\u001b[0m\u001b[1;33m\u001b[0m\u001b[0m\n\u001b[0;32m    893\u001b[0m             )\n\u001b[1;32m--> 894\u001b[1;33m             \u001b[0mrval\u001b[0m \u001b[1;33m=\u001b[0m \u001b[0mself\u001b[0m\u001b[1;33m.\u001b[0m\u001b[0mfn\u001b[0m\u001b[1;33m(\u001b[0m\u001b[0mpyll_rval\u001b[0m\u001b[1;33m)\u001b[0m\u001b[1;33m\u001b[0m\u001b[1;33m\u001b[0m\u001b[0m\n\u001b[0m\u001b[0;32m    895\u001b[0m \u001b[1;33m\u001b[0m\u001b[0m\n\u001b[0;32m    896\u001b[0m         \u001b[1;32mif\u001b[0m \u001b[0misinstance\u001b[0m\u001b[1;33m(\u001b[0m\u001b[0mrval\u001b[0m\u001b[1;33m,\u001b[0m \u001b[1;33m(\u001b[0m\u001b[0mfloat\u001b[0m\u001b[1;33m,\u001b[0m \u001b[0mint\u001b[0m\u001b[1;33m,\u001b[0m \u001b[0mnp\u001b[0m\u001b[1;33m.\u001b[0m\u001b[0mnumber\u001b[0m\u001b[1;33m)\u001b[0m\u001b[1;33m)\u001b[0m\u001b[1;33m:\u001b[0m\u001b[1;33m\u001b[0m\u001b[1;33m\u001b[0m\u001b[0m\n",
      "\u001b[1;32m<ipython-input-30-d60b61969293>\u001b[0m in \u001b[0;36mobjective_func\u001b[1;34m(args)\u001b[0m\n\u001b[0;32m      8\u001b[0m     \u001b[0mclf\u001b[0m \u001b[1;33m=\u001b[0m \u001b[0mKNeighborsClassifier\u001b[0m\u001b[1;33m(\u001b[0m\u001b[0mn_neighbors\u001b[0m\u001b[1;33m=\u001b[0m\u001b[0mn_neighbors\u001b[0m\u001b[1;33m,\u001b[0m \u001b[0mmetric\u001b[0m\u001b[1;33m=\u001b[0m\u001b[0mmetric\u001b[0m\u001b[1;33m,\u001b[0m \u001b[0mn_jobs\u001b[0m \u001b[1;33m=\u001b[0m \u001b[1;33m-\u001b[0m\u001b[1;36m1\u001b[0m\u001b[1;33m)\u001b[0m\u001b[1;33m\u001b[0m\u001b[1;33m\u001b[0m\u001b[0m\n\u001b[0;32m      9\u001b[0m     \u001b[0mtemp\u001b[0m \u001b[1;33m=\u001b[0m \u001b[0mobama_train_pr_df\u001b[0m\u001b[1;33m[\u001b[0m\u001b[1;34m'Sentiment'\u001b[0m\u001b[1;33m]\u001b[0m\u001b[1;33m.\u001b[0m\u001b[0mapply\u001b[0m\u001b[1;33m(\u001b[0m\u001b[1;32mlambda\u001b[0m \u001b[0mx\u001b[0m\u001b[1;33m:\u001b[0m \u001b[1;36m1\u001b[0m \u001b[1;32mif\u001b[0m \u001b[0mx\u001b[0m \u001b[1;33m==\u001b[0m \u001b[1;34m'Positive'\u001b[0m \u001b[1;32melse\u001b[0m \u001b[1;33m(\u001b[0m\u001b[1;36m3\u001b[0m \u001b[1;32mif\u001b[0m \u001b[0mx\u001b[0m \u001b[1;33m==\u001b[0m \u001b[1;34m'Negative'\u001b[0m \u001b[1;32melse\u001b[0m \u001b[1;36m2\u001b[0m\u001b[1;33m)\u001b[0m\u001b[1;33m)\u001b[0m\u001b[1;33m\u001b[0m\u001b[1;33m\u001b[0m\u001b[0m\n\u001b[1;32m---> 10\u001b[1;33m     \u001b[0mtemp_f1\u001b[0m \u001b[1;33m=\u001b[0m \u001b[0mcross_val_score\u001b[0m\u001b[1;33m(\u001b[0m\u001b[0mclf\u001b[0m\u001b[1;33m,\u001b[0m \u001b[0mobama_train_pr_tfidf\u001b[0m\u001b[1;33m,\u001b[0m \u001b[0mtemp\u001b[0m\u001b[1;33m,\u001b[0m \u001b[0mcv\u001b[0m \u001b[1;33m=\u001b[0m \u001b[1;36m5\u001b[0m\u001b[1;33m,\u001b[0m \u001b[0mscoring\u001b[0m \u001b[1;33m=\u001b[0m \u001b[1;34m'f1_macro'\u001b[0m\u001b[1;33m)\u001b[0m\u001b[1;33m\u001b[0m\u001b[1;33m\u001b[0m\u001b[0m\n\u001b[0m\u001b[0;32m     11\u001b[0m     \u001b[0mf1\u001b[0m \u001b[1;33m=\u001b[0m \u001b[0mmean\u001b[0m\u001b[1;33m(\u001b[0m\u001b[0mtemp_f1\u001b[0m\u001b[1;33m)\u001b[0m\u001b[1;33m\u001b[0m\u001b[1;33m\u001b[0m\u001b[0m\n\u001b[0;32m     12\u001b[0m     \u001b[1;32mreturn\u001b[0m \u001b[1;33m-\u001b[0m\u001b[1;33m(\u001b[0m\u001b[0mf1\u001b[0m\u001b[1;33m)\u001b[0m\u001b[1;33m\u001b[0m\u001b[1;33m\u001b[0m\u001b[0m\n",
      "\u001b[1;32m~\\anaconda3\\lib\\site-packages\\sklearn\\model_selection\\_validation.py\u001b[0m in \u001b[0;36mcross_val_score\u001b[1;34m(estimator, X, y, groups, scoring, cv, n_jobs, verbose, fit_params, pre_dispatch, error_score)\u001b[0m\n\u001b[0;32m    388\u001b[0m                                 \u001b[0mfit_params\u001b[0m\u001b[1;33m=\u001b[0m\u001b[0mfit_params\u001b[0m\u001b[1;33m,\u001b[0m\u001b[1;33m\u001b[0m\u001b[1;33m\u001b[0m\u001b[0m\n\u001b[0;32m    389\u001b[0m                                 \u001b[0mpre_dispatch\u001b[0m\u001b[1;33m=\u001b[0m\u001b[0mpre_dispatch\u001b[0m\u001b[1;33m,\u001b[0m\u001b[1;33m\u001b[0m\u001b[1;33m\u001b[0m\u001b[0m\n\u001b[1;32m--> 390\u001b[1;33m                                 error_score=error_score)\n\u001b[0m\u001b[0;32m    391\u001b[0m     \u001b[1;32mreturn\u001b[0m \u001b[0mcv_results\u001b[0m\u001b[1;33m[\u001b[0m\u001b[1;34m'test_score'\u001b[0m\u001b[1;33m]\u001b[0m\u001b[1;33m\u001b[0m\u001b[1;33m\u001b[0m\u001b[0m\n\u001b[0;32m    392\u001b[0m \u001b[1;33m\u001b[0m\u001b[0m\n",
      "\u001b[1;32m~\\anaconda3\\lib\\site-packages\\sklearn\\model_selection\\_validation.py\u001b[0m in \u001b[0;36mcross_validate\u001b[1;34m(estimator, X, y, groups, scoring, cv, n_jobs, verbose, fit_params, pre_dispatch, return_train_score, return_estimator, error_score)\u001b[0m\n\u001b[0;32m    234\u001b[0m             \u001b[0mreturn_times\u001b[0m\u001b[1;33m=\u001b[0m\u001b[1;32mTrue\u001b[0m\u001b[1;33m,\u001b[0m \u001b[0mreturn_estimator\u001b[0m\u001b[1;33m=\u001b[0m\u001b[0mreturn_estimator\u001b[0m\u001b[1;33m,\u001b[0m\u001b[1;33m\u001b[0m\u001b[1;33m\u001b[0m\u001b[0m\n\u001b[0;32m    235\u001b[0m             error_score=error_score)\n\u001b[1;32m--> 236\u001b[1;33m         for train, test in cv.split(X, y, groups))\n\u001b[0m\u001b[0;32m    237\u001b[0m \u001b[1;33m\u001b[0m\u001b[0m\n\u001b[0;32m    238\u001b[0m     \u001b[0mzipped_scores\u001b[0m \u001b[1;33m=\u001b[0m \u001b[0mlist\u001b[0m\u001b[1;33m(\u001b[0m\u001b[0mzip\u001b[0m\u001b[1;33m(\u001b[0m\u001b[1;33m*\u001b[0m\u001b[0mscores\u001b[0m\u001b[1;33m)\u001b[0m\u001b[1;33m)\u001b[0m\u001b[1;33m\u001b[0m\u001b[1;33m\u001b[0m\u001b[0m\n",
      "\u001b[1;32m~\\anaconda3\\lib\\site-packages\\joblib\\parallel.py\u001b[0m in \u001b[0;36m__call__\u001b[1;34m(self, iterable)\u001b[0m\n\u001b[0;32m   1005\u001b[0m                 \u001b[0mself\u001b[0m\u001b[1;33m.\u001b[0m\u001b[0m_iterating\u001b[0m \u001b[1;33m=\u001b[0m \u001b[0mself\u001b[0m\u001b[1;33m.\u001b[0m\u001b[0m_original_iterator\u001b[0m \u001b[1;32mis\u001b[0m \u001b[1;32mnot\u001b[0m \u001b[1;32mNone\u001b[0m\u001b[1;33m\u001b[0m\u001b[1;33m\u001b[0m\u001b[0m\n\u001b[0;32m   1006\u001b[0m \u001b[1;33m\u001b[0m\u001b[0m\n\u001b[1;32m-> 1007\u001b[1;33m             \u001b[1;32mwhile\u001b[0m \u001b[0mself\u001b[0m\u001b[1;33m.\u001b[0m\u001b[0mdispatch_one_batch\u001b[0m\u001b[1;33m(\u001b[0m\u001b[0miterator\u001b[0m\u001b[1;33m)\u001b[0m\u001b[1;33m:\u001b[0m\u001b[1;33m\u001b[0m\u001b[1;33m\u001b[0m\u001b[0m\n\u001b[0m\u001b[0;32m   1008\u001b[0m                 \u001b[1;32mpass\u001b[0m\u001b[1;33m\u001b[0m\u001b[1;33m\u001b[0m\u001b[0m\n\u001b[0;32m   1009\u001b[0m \u001b[1;33m\u001b[0m\u001b[0m\n",
      "\u001b[1;32m~\\anaconda3\\lib\\site-packages\\joblib\\parallel.py\u001b[0m in \u001b[0;36mdispatch_one_batch\u001b[1;34m(self, iterator)\u001b[0m\n\u001b[0;32m    833\u001b[0m                 \u001b[1;32mreturn\u001b[0m \u001b[1;32mFalse\u001b[0m\u001b[1;33m\u001b[0m\u001b[1;33m\u001b[0m\u001b[0m\n\u001b[0;32m    834\u001b[0m             \u001b[1;32melse\u001b[0m\u001b[1;33m:\u001b[0m\u001b[1;33m\u001b[0m\u001b[1;33m\u001b[0m\u001b[0m\n\u001b[1;32m--> 835\u001b[1;33m                 \u001b[0mself\u001b[0m\u001b[1;33m.\u001b[0m\u001b[0m_dispatch\u001b[0m\u001b[1;33m(\u001b[0m\u001b[0mtasks\u001b[0m\u001b[1;33m)\u001b[0m\u001b[1;33m\u001b[0m\u001b[1;33m\u001b[0m\u001b[0m\n\u001b[0m\u001b[0;32m    836\u001b[0m                 \u001b[1;32mreturn\u001b[0m \u001b[1;32mTrue\u001b[0m\u001b[1;33m\u001b[0m\u001b[1;33m\u001b[0m\u001b[0m\n\u001b[0;32m    837\u001b[0m \u001b[1;33m\u001b[0m\u001b[0m\n",
      "\u001b[1;32m~\\anaconda3\\lib\\site-packages\\joblib\\parallel.py\u001b[0m in \u001b[0;36m_dispatch\u001b[1;34m(self, batch)\u001b[0m\n\u001b[0;32m    752\u001b[0m         \u001b[1;32mwith\u001b[0m \u001b[0mself\u001b[0m\u001b[1;33m.\u001b[0m\u001b[0m_lock\u001b[0m\u001b[1;33m:\u001b[0m\u001b[1;33m\u001b[0m\u001b[1;33m\u001b[0m\u001b[0m\n\u001b[0;32m    753\u001b[0m             \u001b[0mjob_idx\u001b[0m \u001b[1;33m=\u001b[0m \u001b[0mlen\u001b[0m\u001b[1;33m(\u001b[0m\u001b[0mself\u001b[0m\u001b[1;33m.\u001b[0m\u001b[0m_jobs\u001b[0m\u001b[1;33m)\u001b[0m\u001b[1;33m\u001b[0m\u001b[1;33m\u001b[0m\u001b[0m\n\u001b[1;32m--> 754\u001b[1;33m             \u001b[0mjob\u001b[0m \u001b[1;33m=\u001b[0m \u001b[0mself\u001b[0m\u001b[1;33m.\u001b[0m\u001b[0m_backend\u001b[0m\u001b[1;33m.\u001b[0m\u001b[0mapply_async\u001b[0m\u001b[1;33m(\u001b[0m\u001b[0mbatch\u001b[0m\u001b[1;33m,\u001b[0m \u001b[0mcallback\u001b[0m\u001b[1;33m=\u001b[0m\u001b[0mcb\u001b[0m\u001b[1;33m)\u001b[0m\u001b[1;33m\u001b[0m\u001b[1;33m\u001b[0m\u001b[0m\n\u001b[0m\u001b[0;32m    755\u001b[0m             \u001b[1;31m# A job can complete so quickly than its callback is\u001b[0m\u001b[1;33m\u001b[0m\u001b[1;33m\u001b[0m\u001b[1;33m\u001b[0m\u001b[0m\n\u001b[0;32m    756\u001b[0m             \u001b[1;31m# called before we get here, causing self._jobs to\u001b[0m\u001b[1;33m\u001b[0m\u001b[1;33m\u001b[0m\u001b[1;33m\u001b[0m\u001b[0m\n",
      "\u001b[1;32m~\\anaconda3\\lib\\site-packages\\joblib\\_parallel_backends.py\u001b[0m in \u001b[0;36mapply_async\u001b[1;34m(self, func, callback)\u001b[0m\n\u001b[0;32m    207\u001b[0m     \u001b[1;32mdef\u001b[0m \u001b[0mapply_async\u001b[0m\u001b[1;33m(\u001b[0m\u001b[0mself\u001b[0m\u001b[1;33m,\u001b[0m \u001b[0mfunc\u001b[0m\u001b[1;33m,\u001b[0m \u001b[0mcallback\u001b[0m\u001b[1;33m=\u001b[0m\u001b[1;32mNone\u001b[0m\u001b[1;33m)\u001b[0m\u001b[1;33m:\u001b[0m\u001b[1;33m\u001b[0m\u001b[1;33m\u001b[0m\u001b[0m\n\u001b[0;32m    208\u001b[0m         \u001b[1;34m\"\"\"Schedule a func to be run\"\"\"\u001b[0m\u001b[1;33m\u001b[0m\u001b[1;33m\u001b[0m\u001b[0m\n\u001b[1;32m--> 209\u001b[1;33m         \u001b[0mresult\u001b[0m \u001b[1;33m=\u001b[0m \u001b[0mImmediateResult\u001b[0m\u001b[1;33m(\u001b[0m\u001b[0mfunc\u001b[0m\u001b[1;33m)\u001b[0m\u001b[1;33m\u001b[0m\u001b[1;33m\u001b[0m\u001b[0m\n\u001b[0m\u001b[0;32m    210\u001b[0m         \u001b[1;32mif\u001b[0m \u001b[0mcallback\u001b[0m\u001b[1;33m:\u001b[0m\u001b[1;33m\u001b[0m\u001b[1;33m\u001b[0m\u001b[0m\n\u001b[0;32m    211\u001b[0m             \u001b[0mcallback\u001b[0m\u001b[1;33m(\u001b[0m\u001b[0mresult\u001b[0m\u001b[1;33m)\u001b[0m\u001b[1;33m\u001b[0m\u001b[1;33m\u001b[0m\u001b[0m\n",
      "\u001b[1;32m~\\anaconda3\\lib\\site-packages\\joblib\\_parallel_backends.py\u001b[0m in \u001b[0;36m__init__\u001b[1;34m(self, batch)\u001b[0m\n\u001b[0;32m    588\u001b[0m         \u001b[1;31m# Don't delay the application, to avoid keeping the input\u001b[0m\u001b[1;33m\u001b[0m\u001b[1;33m\u001b[0m\u001b[1;33m\u001b[0m\u001b[0m\n\u001b[0;32m    589\u001b[0m         \u001b[1;31m# arguments in memory\u001b[0m\u001b[1;33m\u001b[0m\u001b[1;33m\u001b[0m\u001b[1;33m\u001b[0m\u001b[0m\n\u001b[1;32m--> 590\u001b[1;33m         \u001b[0mself\u001b[0m\u001b[1;33m.\u001b[0m\u001b[0mresults\u001b[0m \u001b[1;33m=\u001b[0m \u001b[0mbatch\u001b[0m\u001b[1;33m(\u001b[0m\u001b[1;33m)\u001b[0m\u001b[1;33m\u001b[0m\u001b[1;33m\u001b[0m\u001b[0m\n\u001b[0m\u001b[0;32m    591\u001b[0m \u001b[1;33m\u001b[0m\u001b[0m\n\u001b[0;32m    592\u001b[0m     \u001b[1;32mdef\u001b[0m \u001b[0mget\u001b[0m\u001b[1;33m(\u001b[0m\u001b[0mself\u001b[0m\u001b[1;33m)\u001b[0m\u001b[1;33m:\u001b[0m\u001b[1;33m\u001b[0m\u001b[1;33m\u001b[0m\u001b[0m\n",
      "\u001b[1;32m~\\anaconda3\\lib\\site-packages\\joblib\\parallel.py\u001b[0m in \u001b[0;36m__call__\u001b[1;34m(self)\u001b[0m\n\u001b[0;32m    254\u001b[0m         \u001b[1;32mwith\u001b[0m \u001b[0mparallel_backend\u001b[0m\u001b[1;33m(\u001b[0m\u001b[0mself\u001b[0m\u001b[1;33m.\u001b[0m\u001b[0m_backend\u001b[0m\u001b[1;33m,\u001b[0m \u001b[0mn_jobs\u001b[0m\u001b[1;33m=\u001b[0m\u001b[0mself\u001b[0m\u001b[1;33m.\u001b[0m\u001b[0m_n_jobs\u001b[0m\u001b[1;33m)\u001b[0m\u001b[1;33m:\u001b[0m\u001b[1;33m\u001b[0m\u001b[1;33m\u001b[0m\u001b[0m\n\u001b[0;32m    255\u001b[0m             return [func(*args, **kwargs)\n\u001b[1;32m--> 256\u001b[1;33m                     for func, args, kwargs in self.items]\n\u001b[0m\u001b[0;32m    257\u001b[0m \u001b[1;33m\u001b[0m\u001b[0m\n\u001b[0;32m    258\u001b[0m     \u001b[1;32mdef\u001b[0m \u001b[0m__len__\u001b[0m\u001b[1;33m(\u001b[0m\u001b[0mself\u001b[0m\u001b[1;33m)\u001b[0m\u001b[1;33m:\u001b[0m\u001b[1;33m\u001b[0m\u001b[1;33m\u001b[0m\u001b[0m\n",
      "\u001b[1;32m~\\anaconda3\\lib\\site-packages\\joblib\\parallel.py\u001b[0m in \u001b[0;36m<listcomp>\u001b[1;34m(.0)\u001b[0m\n\u001b[0;32m    254\u001b[0m         \u001b[1;32mwith\u001b[0m \u001b[0mparallel_backend\u001b[0m\u001b[1;33m(\u001b[0m\u001b[0mself\u001b[0m\u001b[1;33m.\u001b[0m\u001b[0m_backend\u001b[0m\u001b[1;33m,\u001b[0m \u001b[0mn_jobs\u001b[0m\u001b[1;33m=\u001b[0m\u001b[0mself\u001b[0m\u001b[1;33m.\u001b[0m\u001b[0m_n_jobs\u001b[0m\u001b[1;33m)\u001b[0m\u001b[1;33m:\u001b[0m\u001b[1;33m\u001b[0m\u001b[1;33m\u001b[0m\u001b[0m\n\u001b[0;32m    255\u001b[0m             return [func(*args, **kwargs)\n\u001b[1;32m--> 256\u001b[1;33m                     for func, args, kwargs in self.items]\n\u001b[0m\u001b[0;32m    257\u001b[0m \u001b[1;33m\u001b[0m\u001b[0m\n\u001b[0;32m    258\u001b[0m     \u001b[1;32mdef\u001b[0m \u001b[0m__len__\u001b[0m\u001b[1;33m(\u001b[0m\u001b[0mself\u001b[0m\u001b[1;33m)\u001b[0m\u001b[1;33m:\u001b[0m\u001b[1;33m\u001b[0m\u001b[1;33m\u001b[0m\u001b[0m\n",
      "\u001b[1;32m~\\anaconda3\\lib\\site-packages\\sklearn\\model_selection\\_validation.py\u001b[0m in \u001b[0;36m_fit_and_score\u001b[1;34m(estimator, X, y, scorer, train, test, verbose, parameters, fit_params, return_train_score, return_parameters, return_n_test_samples, return_times, return_estimator, error_score)\u001b[0m\n\u001b[0;32m    542\u001b[0m     \u001b[1;32melse\u001b[0m\u001b[1;33m:\u001b[0m\u001b[1;33m\u001b[0m\u001b[1;33m\u001b[0m\u001b[0m\n\u001b[0;32m    543\u001b[0m         \u001b[0mfit_time\u001b[0m \u001b[1;33m=\u001b[0m \u001b[0mtime\u001b[0m\u001b[1;33m.\u001b[0m\u001b[0mtime\u001b[0m\u001b[1;33m(\u001b[0m\u001b[1;33m)\u001b[0m \u001b[1;33m-\u001b[0m \u001b[0mstart_time\u001b[0m\u001b[1;33m\u001b[0m\u001b[1;33m\u001b[0m\u001b[0m\n\u001b[1;32m--> 544\u001b[1;33m         \u001b[0mtest_scores\u001b[0m \u001b[1;33m=\u001b[0m \u001b[0m_score\u001b[0m\u001b[1;33m(\u001b[0m\u001b[0mestimator\u001b[0m\u001b[1;33m,\u001b[0m \u001b[0mX_test\u001b[0m\u001b[1;33m,\u001b[0m \u001b[0my_test\u001b[0m\u001b[1;33m,\u001b[0m \u001b[0mscorer\u001b[0m\u001b[1;33m)\u001b[0m\u001b[1;33m\u001b[0m\u001b[1;33m\u001b[0m\u001b[0m\n\u001b[0m\u001b[0;32m    545\u001b[0m         \u001b[0mscore_time\u001b[0m \u001b[1;33m=\u001b[0m \u001b[0mtime\u001b[0m\u001b[1;33m.\u001b[0m\u001b[0mtime\u001b[0m\u001b[1;33m(\u001b[0m\u001b[1;33m)\u001b[0m \u001b[1;33m-\u001b[0m \u001b[0mstart_time\u001b[0m \u001b[1;33m-\u001b[0m \u001b[0mfit_time\u001b[0m\u001b[1;33m\u001b[0m\u001b[1;33m\u001b[0m\u001b[0m\n\u001b[0;32m    546\u001b[0m         \u001b[1;32mif\u001b[0m \u001b[0mreturn_train_score\u001b[0m\u001b[1;33m:\u001b[0m\u001b[1;33m\u001b[0m\u001b[1;33m\u001b[0m\u001b[0m\n",
      "\u001b[1;32m~\\anaconda3\\lib\\site-packages\\sklearn\\model_selection\\_validation.py\u001b[0m in \u001b[0;36m_score\u001b[1;34m(estimator, X_test, y_test, scorer)\u001b[0m\n\u001b[0;32m    589\u001b[0m         \u001b[0mscores\u001b[0m \u001b[1;33m=\u001b[0m \u001b[0mscorer\u001b[0m\u001b[1;33m(\u001b[0m\u001b[0mestimator\u001b[0m\u001b[1;33m,\u001b[0m \u001b[0mX_test\u001b[0m\u001b[1;33m)\u001b[0m\u001b[1;33m\u001b[0m\u001b[1;33m\u001b[0m\u001b[0m\n\u001b[0;32m    590\u001b[0m     \u001b[1;32melse\u001b[0m\u001b[1;33m:\u001b[0m\u001b[1;33m\u001b[0m\u001b[1;33m\u001b[0m\u001b[0m\n\u001b[1;32m--> 591\u001b[1;33m         \u001b[0mscores\u001b[0m \u001b[1;33m=\u001b[0m \u001b[0mscorer\u001b[0m\u001b[1;33m(\u001b[0m\u001b[0mestimator\u001b[0m\u001b[1;33m,\u001b[0m \u001b[0mX_test\u001b[0m\u001b[1;33m,\u001b[0m \u001b[0my_test\u001b[0m\u001b[1;33m)\u001b[0m\u001b[1;33m\u001b[0m\u001b[1;33m\u001b[0m\u001b[0m\n\u001b[0m\u001b[0;32m    592\u001b[0m \u001b[1;33m\u001b[0m\u001b[0m\n\u001b[0;32m    593\u001b[0m     error_msg = (\"scoring must return a number, got %s (%s) \"\n",
      "\u001b[1;32m~\\anaconda3\\lib\\site-packages\\sklearn\\metrics\\_scorer.py\u001b[0m in \u001b[0;36m__call__\u001b[1;34m(self, estimator, *args, **kwargs)\u001b[0m\n\u001b[0;32m     85\u001b[0m             \u001b[1;32mif\u001b[0m \u001b[0misinstance\u001b[0m\u001b[1;33m(\u001b[0m\u001b[0mscorer\u001b[0m\u001b[1;33m,\u001b[0m \u001b[0m_BaseScorer\u001b[0m\u001b[1;33m)\u001b[0m\u001b[1;33m:\u001b[0m\u001b[1;33m\u001b[0m\u001b[1;33m\u001b[0m\u001b[0m\n\u001b[0;32m     86\u001b[0m                 score = scorer._score(cached_call, estimator,\n\u001b[1;32m---> 87\u001b[1;33m                                       *args, **kwargs)\n\u001b[0m\u001b[0;32m     88\u001b[0m             \u001b[1;32melse\u001b[0m\u001b[1;33m:\u001b[0m\u001b[1;33m\u001b[0m\u001b[1;33m\u001b[0m\u001b[0m\n\u001b[0;32m     89\u001b[0m                 \u001b[0mscore\u001b[0m \u001b[1;33m=\u001b[0m \u001b[0mscorer\u001b[0m\u001b[1;33m(\u001b[0m\u001b[0mestimator\u001b[0m\u001b[1;33m,\u001b[0m \u001b[1;33m*\u001b[0m\u001b[0margs\u001b[0m\u001b[1;33m,\u001b[0m \u001b[1;33m**\u001b[0m\u001b[0mkwargs\u001b[0m\u001b[1;33m)\u001b[0m\u001b[1;33m\u001b[0m\u001b[1;33m\u001b[0m\u001b[0m\n",
      "\u001b[1;32m~\\anaconda3\\lib\\site-packages\\sklearn\\metrics\\_scorer.py\u001b[0m in \u001b[0;36m_score\u001b[1;34m(self, method_caller, estimator, X, y_true, sample_weight)\u001b[0m\n\u001b[0;32m    203\u001b[0m         \"\"\"\n\u001b[0;32m    204\u001b[0m \u001b[1;33m\u001b[0m\u001b[0m\n\u001b[1;32m--> 205\u001b[1;33m         \u001b[0my_pred\u001b[0m \u001b[1;33m=\u001b[0m \u001b[0mmethod_caller\u001b[0m\u001b[1;33m(\u001b[0m\u001b[0mestimator\u001b[0m\u001b[1;33m,\u001b[0m \u001b[1;34m\"predict\"\u001b[0m\u001b[1;33m,\u001b[0m \u001b[0mX\u001b[0m\u001b[1;33m)\u001b[0m\u001b[1;33m\u001b[0m\u001b[1;33m\u001b[0m\u001b[0m\n\u001b[0m\u001b[0;32m    206\u001b[0m         \u001b[1;32mif\u001b[0m \u001b[0msample_weight\u001b[0m \u001b[1;32mis\u001b[0m \u001b[1;32mnot\u001b[0m \u001b[1;32mNone\u001b[0m\u001b[1;33m:\u001b[0m\u001b[1;33m\u001b[0m\u001b[1;33m\u001b[0m\u001b[0m\n\u001b[0;32m    207\u001b[0m             return self._sign * self._score_func(y_true, y_pred,\n",
      "\u001b[1;32m~\\anaconda3\\lib\\site-packages\\sklearn\\metrics\\_scorer.py\u001b[0m in \u001b[0;36m_cached_call\u001b[1;34m(cache, estimator, method, *args, **kwargs)\u001b[0m\n\u001b[0;32m     50\u001b[0m     \u001b[1;34m\"\"\"Call estimator with method and args and kwargs.\"\"\"\u001b[0m\u001b[1;33m\u001b[0m\u001b[1;33m\u001b[0m\u001b[0m\n\u001b[0;32m     51\u001b[0m     \u001b[1;32mif\u001b[0m \u001b[0mcache\u001b[0m \u001b[1;32mis\u001b[0m \u001b[1;32mNone\u001b[0m\u001b[1;33m:\u001b[0m\u001b[1;33m\u001b[0m\u001b[1;33m\u001b[0m\u001b[0m\n\u001b[1;32m---> 52\u001b[1;33m         \u001b[1;32mreturn\u001b[0m \u001b[0mgetattr\u001b[0m\u001b[1;33m(\u001b[0m\u001b[0mestimator\u001b[0m\u001b[1;33m,\u001b[0m \u001b[0mmethod\u001b[0m\u001b[1;33m)\u001b[0m\u001b[1;33m(\u001b[0m\u001b[1;33m*\u001b[0m\u001b[0margs\u001b[0m\u001b[1;33m,\u001b[0m \u001b[1;33m**\u001b[0m\u001b[0mkwargs\u001b[0m\u001b[1;33m)\u001b[0m\u001b[1;33m\u001b[0m\u001b[1;33m\u001b[0m\u001b[0m\n\u001b[0m\u001b[0;32m     53\u001b[0m \u001b[1;33m\u001b[0m\u001b[0m\n\u001b[0;32m     54\u001b[0m     \u001b[1;32mtry\u001b[0m\u001b[1;33m:\u001b[0m\u001b[1;33m\u001b[0m\u001b[1;33m\u001b[0m\u001b[0m\n",
      "\u001b[1;32m~\\anaconda3\\lib\\site-packages\\sklearn\\neighbors\\_classification.py\u001b[0m in \u001b[0;36mpredict\u001b[1;34m(self, X)\u001b[0m\n\u001b[0;32m    171\u001b[0m         \u001b[0mX\u001b[0m \u001b[1;33m=\u001b[0m \u001b[0mcheck_array\u001b[0m\u001b[1;33m(\u001b[0m\u001b[0mX\u001b[0m\u001b[1;33m,\u001b[0m \u001b[0maccept_sparse\u001b[0m\u001b[1;33m=\u001b[0m\u001b[1;34m'csr'\u001b[0m\u001b[1;33m)\u001b[0m\u001b[1;33m\u001b[0m\u001b[1;33m\u001b[0m\u001b[0m\n\u001b[0;32m    172\u001b[0m \u001b[1;33m\u001b[0m\u001b[0m\n\u001b[1;32m--> 173\u001b[1;33m         \u001b[0mneigh_dist\u001b[0m\u001b[1;33m,\u001b[0m \u001b[0mneigh_ind\u001b[0m \u001b[1;33m=\u001b[0m \u001b[0mself\u001b[0m\u001b[1;33m.\u001b[0m\u001b[0mkneighbors\u001b[0m\u001b[1;33m(\u001b[0m\u001b[0mX\u001b[0m\u001b[1;33m)\u001b[0m\u001b[1;33m\u001b[0m\u001b[1;33m\u001b[0m\u001b[0m\n\u001b[0m\u001b[0;32m    174\u001b[0m         \u001b[0mclasses_\u001b[0m \u001b[1;33m=\u001b[0m \u001b[0mself\u001b[0m\u001b[1;33m.\u001b[0m\u001b[0mclasses_\u001b[0m\u001b[1;33m\u001b[0m\u001b[1;33m\u001b[0m\u001b[0m\n\u001b[0;32m    175\u001b[0m         \u001b[0m_y\u001b[0m \u001b[1;33m=\u001b[0m \u001b[0mself\u001b[0m\u001b[1;33m.\u001b[0m\u001b[0m_y\u001b[0m\u001b[1;33m\u001b[0m\u001b[1;33m\u001b[0m\u001b[0m\n",
      "\u001b[1;32m~\\anaconda3\\lib\\site-packages\\sklearn\\neighbors\\_base.py\u001b[0m in \u001b[0;36mkneighbors\u001b[1;34m(self, X, n_neighbors, return_distance)\u001b[0m\n\u001b[0;32m    661\u001b[0m                 delayed_query(\n\u001b[0;32m    662\u001b[0m                     self._tree, X[s], n_neighbors, return_distance)\n\u001b[1;32m--> 663\u001b[1;33m                 \u001b[1;32mfor\u001b[0m \u001b[0ms\u001b[0m \u001b[1;32min\u001b[0m \u001b[0mgen_even_slices\u001b[0m\u001b[1;33m(\u001b[0m\u001b[0mX\u001b[0m\u001b[1;33m.\u001b[0m\u001b[0mshape\u001b[0m\u001b[1;33m[\u001b[0m\u001b[1;36m0\u001b[0m\u001b[1;33m]\u001b[0m\u001b[1;33m,\u001b[0m \u001b[0mn_jobs\u001b[0m\u001b[1;33m)\u001b[0m\u001b[1;33m\u001b[0m\u001b[1;33m\u001b[0m\u001b[0m\n\u001b[0m\u001b[0;32m    664\u001b[0m             )\n\u001b[0;32m    665\u001b[0m         \u001b[1;32melse\u001b[0m\u001b[1;33m:\u001b[0m\u001b[1;33m\u001b[0m\u001b[1;33m\u001b[0m\u001b[0m\n",
      "\u001b[1;32m~\\anaconda3\\lib\\site-packages\\joblib\\parallel.py\u001b[0m in \u001b[0;36m__call__\u001b[1;34m(self, iterable)\u001b[0m\n\u001b[0;32m   1015\u001b[0m \u001b[1;33m\u001b[0m\u001b[0m\n\u001b[0;32m   1016\u001b[0m             \u001b[1;32mwith\u001b[0m \u001b[0mself\u001b[0m\u001b[1;33m.\u001b[0m\u001b[0m_backend\u001b[0m\u001b[1;33m.\u001b[0m\u001b[0mretrieval_context\u001b[0m\u001b[1;33m(\u001b[0m\u001b[1;33m)\u001b[0m\u001b[1;33m:\u001b[0m\u001b[1;33m\u001b[0m\u001b[1;33m\u001b[0m\u001b[0m\n\u001b[1;32m-> 1017\u001b[1;33m                 \u001b[0mself\u001b[0m\u001b[1;33m.\u001b[0m\u001b[0mretrieve\u001b[0m\u001b[1;33m(\u001b[0m\u001b[1;33m)\u001b[0m\u001b[1;33m\u001b[0m\u001b[1;33m\u001b[0m\u001b[0m\n\u001b[0m\u001b[0;32m   1018\u001b[0m             \u001b[1;31m# Make sure that we get a last message telling us we are done\u001b[0m\u001b[1;33m\u001b[0m\u001b[1;33m\u001b[0m\u001b[1;33m\u001b[0m\u001b[0m\n\u001b[0;32m   1019\u001b[0m             \u001b[0melapsed_time\u001b[0m \u001b[1;33m=\u001b[0m \u001b[0mtime\u001b[0m\u001b[1;33m.\u001b[0m\u001b[0mtime\u001b[0m\u001b[1;33m(\u001b[0m\u001b[1;33m)\u001b[0m \u001b[1;33m-\u001b[0m \u001b[0mself\u001b[0m\u001b[1;33m.\u001b[0m\u001b[0m_start_time\u001b[0m\u001b[1;33m\u001b[0m\u001b[1;33m\u001b[0m\u001b[0m\n",
      "\u001b[1;32m~\\anaconda3\\lib\\site-packages\\joblib\\parallel.py\u001b[0m in \u001b[0;36mretrieve\u001b[1;34m(self)\u001b[0m\n\u001b[0;32m    907\u001b[0m             \u001b[1;32mtry\u001b[0m\u001b[1;33m:\u001b[0m\u001b[1;33m\u001b[0m\u001b[1;33m\u001b[0m\u001b[0m\n\u001b[0;32m    908\u001b[0m                 \u001b[1;32mif\u001b[0m \u001b[0mgetattr\u001b[0m\u001b[1;33m(\u001b[0m\u001b[0mself\u001b[0m\u001b[1;33m.\u001b[0m\u001b[0m_backend\u001b[0m\u001b[1;33m,\u001b[0m \u001b[1;34m'supports_timeout'\u001b[0m\u001b[1;33m,\u001b[0m \u001b[1;32mFalse\u001b[0m\u001b[1;33m)\u001b[0m\u001b[1;33m:\u001b[0m\u001b[1;33m\u001b[0m\u001b[1;33m\u001b[0m\u001b[0m\n\u001b[1;32m--> 909\u001b[1;33m                     \u001b[0mself\u001b[0m\u001b[1;33m.\u001b[0m\u001b[0m_output\u001b[0m\u001b[1;33m.\u001b[0m\u001b[0mextend\u001b[0m\u001b[1;33m(\u001b[0m\u001b[0mjob\u001b[0m\u001b[1;33m.\u001b[0m\u001b[0mget\u001b[0m\u001b[1;33m(\u001b[0m\u001b[0mtimeout\u001b[0m\u001b[1;33m=\u001b[0m\u001b[0mself\u001b[0m\u001b[1;33m.\u001b[0m\u001b[0mtimeout\u001b[0m\u001b[1;33m)\u001b[0m\u001b[1;33m)\u001b[0m\u001b[1;33m\u001b[0m\u001b[1;33m\u001b[0m\u001b[0m\n\u001b[0m\u001b[0;32m    910\u001b[0m                 \u001b[1;32melse\u001b[0m\u001b[1;33m:\u001b[0m\u001b[1;33m\u001b[0m\u001b[1;33m\u001b[0m\u001b[0m\n\u001b[0;32m    911\u001b[0m                     \u001b[0mself\u001b[0m\u001b[1;33m.\u001b[0m\u001b[0m_output\u001b[0m\u001b[1;33m.\u001b[0m\u001b[0mextend\u001b[0m\u001b[1;33m(\u001b[0m\u001b[0mjob\u001b[0m\u001b[1;33m.\u001b[0m\u001b[0mget\u001b[0m\u001b[1;33m(\u001b[0m\u001b[1;33m)\u001b[0m\u001b[1;33m)\u001b[0m\u001b[1;33m\u001b[0m\u001b[1;33m\u001b[0m\u001b[0m\n",
      "\u001b[1;32m~\\anaconda3\\lib\\site-packages\\joblib\\_parallel_backends.py\u001b[0m in \u001b[0;36mwrap_future_result\u001b[1;34m(future, timeout)\u001b[0m\n\u001b[0;32m    560\u001b[0m         AsyncResults.get from multiprocessing.\"\"\"\n\u001b[0;32m    561\u001b[0m         \u001b[1;32mtry\u001b[0m\u001b[1;33m:\u001b[0m\u001b[1;33m\u001b[0m\u001b[1;33m\u001b[0m\u001b[0m\n\u001b[1;32m--> 562\u001b[1;33m             \u001b[1;32mreturn\u001b[0m \u001b[0mfuture\u001b[0m\u001b[1;33m.\u001b[0m\u001b[0mresult\u001b[0m\u001b[1;33m(\u001b[0m\u001b[0mtimeout\u001b[0m\u001b[1;33m=\u001b[0m\u001b[0mtimeout\u001b[0m\u001b[1;33m)\u001b[0m\u001b[1;33m\u001b[0m\u001b[1;33m\u001b[0m\u001b[0m\n\u001b[0m\u001b[0;32m    563\u001b[0m         \u001b[1;32mexcept\u001b[0m \u001b[0mLokyTimeoutError\u001b[0m\u001b[1;33m:\u001b[0m\u001b[1;33m\u001b[0m\u001b[1;33m\u001b[0m\u001b[0m\n\u001b[0;32m    564\u001b[0m             \u001b[1;32mraise\u001b[0m \u001b[0mTimeoutError\u001b[0m\u001b[1;33m(\u001b[0m\u001b[1;33m)\u001b[0m\u001b[1;33m\u001b[0m\u001b[1;33m\u001b[0m\u001b[0m\n",
      "\u001b[1;32m~\\anaconda3\\lib\\concurrent\\futures\\_base.py\u001b[0m in \u001b[0;36mresult\u001b[1;34m(self, timeout)\u001b[0m\n\u001b[0;32m    428\u001b[0m                 \u001b[1;32mreturn\u001b[0m \u001b[0mself\u001b[0m\u001b[1;33m.\u001b[0m\u001b[0m__get_result\u001b[0m\u001b[1;33m(\u001b[0m\u001b[1;33m)\u001b[0m\u001b[1;33m\u001b[0m\u001b[1;33m\u001b[0m\u001b[0m\n\u001b[0;32m    429\u001b[0m \u001b[1;33m\u001b[0m\u001b[0m\n\u001b[1;32m--> 430\u001b[1;33m             \u001b[0mself\u001b[0m\u001b[1;33m.\u001b[0m\u001b[0m_condition\u001b[0m\u001b[1;33m.\u001b[0m\u001b[0mwait\u001b[0m\u001b[1;33m(\u001b[0m\u001b[0mtimeout\u001b[0m\u001b[1;33m)\u001b[0m\u001b[1;33m\u001b[0m\u001b[1;33m\u001b[0m\u001b[0m\n\u001b[0m\u001b[0;32m    431\u001b[0m \u001b[1;33m\u001b[0m\u001b[0m\n\u001b[0;32m    432\u001b[0m             \u001b[1;32mif\u001b[0m \u001b[0mself\u001b[0m\u001b[1;33m.\u001b[0m\u001b[0m_state\u001b[0m \u001b[1;32min\u001b[0m \u001b[1;33m[\u001b[0m\u001b[0mCANCELLED\u001b[0m\u001b[1;33m,\u001b[0m \u001b[0mCANCELLED_AND_NOTIFIED\u001b[0m\u001b[1;33m]\u001b[0m\u001b[1;33m:\u001b[0m\u001b[1;33m\u001b[0m\u001b[1;33m\u001b[0m\u001b[0m\n",
      "\u001b[1;32m~\\anaconda3\\lib\\threading.py\u001b[0m in \u001b[0;36mwait\u001b[1;34m(self, timeout)\u001b[0m\n\u001b[0;32m    294\u001b[0m         \u001b[1;32mtry\u001b[0m\u001b[1;33m:\u001b[0m    \u001b[1;31m# restore state no matter what (e.g., KeyboardInterrupt)\u001b[0m\u001b[1;33m\u001b[0m\u001b[1;33m\u001b[0m\u001b[0m\n\u001b[0;32m    295\u001b[0m             \u001b[1;32mif\u001b[0m \u001b[0mtimeout\u001b[0m \u001b[1;32mis\u001b[0m \u001b[1;32mNone\u001b[0m\u001b[1;33m:\u001b[0m\u001b[1;33m\u001b[0m\u001b[1;33m\u001b[0m\u001b[0m\n\u001b[1;32m--> 296\u001b[1;33m                 \u001b[0mwaiter\u001b[0m\u001b[1;33m.\u001b[0m\u001b[0macquire\u001b[0m\u001b[1;33m(\u001b[0m\u001b[1;33m)\u001b[0m\u001b[1;33m\u001b[0m\u001b[1;33m\u001b[0m\u001b[0m\n\u001b[0m\u001b[0;32m    297\u001b[0m                 \u001b[0mgotit\u001b[0m \u001b[1;33m=\u001b[0m \u001b[1;32mTrue\u001b[0m\u001b[1;33m\u001b[0m\u001b[1;33m\u001b[0m\u001b[0m\n\u001b[0;32m    298\u001b[0m             \u001b[1;32melse\u001b[0m\u001b[1;33m:\u001b[0m\u001b[1;33m\u001b[0m\u001b[1;33m\u001b[0m\u001b[0m\n",
      "\u001b[1;31mKeyboardInterrupt\u001b[0m: "
     ]
    }
   ],
   "source": [
    "# WIth PCA , Bayesian Optimization and KNN\n",
    "def objective_func(args):\n",
    "    n_neighbors = args['n_neighbors']\n",
    "    metric = args['metric']\n",
    "    pca = PCA(n_components=args['n'])\n",
    "    x_pca1 = pca.fit_transform(obama_train_pr_tfidf)\n",
    "\n",
    "    clf = KNeighborsClassifier(n_neighbors=n_neighbors, metric=metric, n_jobs = -1)\n",
    "    temp = obama_train_pr_df['Sentiment'].apply(lambda x: 1 if x == 'Positive' else (3 if x == 'Negative' else 2))\n",
    "    temp_f1 = cross_val_score(clf, obama_train_pr_tfidf, temp, cv = 5, scoring = 'f1_macro')\n",
    "    f1 = mean(temp_f1)\n",
    "    return -(f1)\n",
    "space = {'n_neighbors': hp.choice('n_neighbors',np.arange(1,10, step =1)),\n",
    "        'metric':hp.choice('metric', [\"euclidean\",\"manhattan\"]),\n",
    "        'n': hp.choice('n', np.arange(3,10, step =1))}\n",
    "\n",
    "best_classifier = fmin(objective_func, space, algo=tpe.suggest, max_evals=30)\n",
    "print(best_classifier)"
   ]
  },
  {
   "cell_type": "code",
   "execution_count": null,
   "metadata": {},
   "outputs": [],
   "source": [
    "max_length = 40\n",
    "epochs = 2\n",
    "batch_size = 200\n",
    "learning_rate = 0.001\n",
    "\n",
    "tokenise_tf = Tokenizer()\n",
    "tokenise_tf.fit_on_texts(obama_train['Doc Text'])   \n",
    "encoded_train = tokenise_tf.texts_to_sequences(obama_train['Doc Text'])\n",
    "training_padded = pad_sequences(encoded_train, maxlen=max_length, padding='post', truncating = 'pre')\n",
    "embedding_matrix, vocab_size = emb_matrix(tokenise_tf, embeddings2)\n",
    "\n",
    "encoded_validation = tokenise_tf.texts_to_sequences(obama_val['Doc Text'])\n",
    "validation_padded = pad_sequences(encoded_validation, maxlen=max_length, padding='post', truncating = 'pre')\n",
    "\n",
    "adam_optimizer = optimizers.Adam(learning_rate=learning_rate)\n",
    "model = model_vanilla_rnn(embedding_matrix, 300, vocab_size, max_length, adam_optimizer, 'tanh', 0.2, 0.001, 0.001)\n",
    "\n",
    "history = model.fit(training_padded, one_hot(obama_train['Sentiment']), epochs=epochs, verbose=1, batch_size=batch_size, shuffle =True)\n",
    "y_pred_temp = model.predict(validation_padded)\n",
    "y_pred = pred(y_pred_temp)\n",
    "f1= f1_score(obama_val['Sentiment'], y_pred, average = 'macro')\n",
    "print(f1)\n",
    "\n",
    "\n"
   ]
  },
  {
   "cell_type": "code",
   "execution_count": 35,
   "metadata": {},
   "outputs": [],
   "source": []
  },
  {
   "cell_type": "code",
   "execution_count": null,
   "metadata": {},
   "outputs": [],
   "source": []
  },
  {
   "cell_type": "markdown",
   "metadata": {
    "id": "iWwsQNTfpZd-"
   },
   "source": [
    "## Splitting the data into training, and validation"
   ]
  },
  {
   "cell_type": "code",
   "execution_count": null,
   "metadata": {
    "colab": {
     "base_uri": "https://localhost:8080/",
     "height": 206
    },
    "id": "POMPwmnZpZd_",
    "outputId": "872ee0f6-384c-45ea-95c4-96ba426a1539"
   },
   "outputs": [
    {
     "data": {
      "text/html": [
       "<div>\n",
       "<style scoped>\n",
       "    .dataframe tbody tr th:only-of-type {\n",
       "        vertical-align: middle;\n",
       "    }\n",
       "\n",
       "    .dataframe tbody tr th {\n",
       "        vertical-align: top;\n",
       "    }\n",
       "\n",
       "    .dataframe thead th {\n",
       "        text-align: right;\n",
       "    }\n",
       "</style>\n",
       "<table border=\"1\" class=\"dataframe\">\n",
       "  <thead>\n",
       "    <tr style=\"text-align: right;\">\n",
       "      <th></th>\n",
       "      <th>Doc Text</th>\n",
       "      <th>Sentiment</th>\n",
       "    </tr>\n",
       "  </thead>\n",
       "  <tbody>\n",
       "    <tr>\n",
       "      <th>1987</th>\n",
       "      <td>obama force nature debate</td>\n",
       "      <td>Positive</td>\n",
       "    </tr>\n",
       "    <tr>\n",
       "      <th>2384</th>\n",
       "      <td>wow group think obama perform well attack idea...</td>\n",
       "      <td>Negative</td>\n",
       "    </tr>\n",
       "    <tr>\n",
       "      <th>1293</th>\n",
       "      <td>honey boo boo endorse obama obama president ji...</td>\n",
       "      <td>Positive</td>\n",
       "    </tr>\n",
       "    <tr>\n",
       "      <th>1603</th>\n",
       "      <td>exit sir barack time</td>\n",
       "      <td>Negative</td>\n",
       "    </tr>\n",
       "    <tr>\n",
       "      <th>413</th>\n",
       "      <td>feel obama still sucker punch leave</td>\n",
       "      <td>Neutral</td>\n",
       "    </tr>\n",
       "  </tbody>\n",
       "</table>\n",
       "</div>"
      ],
      "text/plain": [
       "                                               Doc Text Sentiment\n",
       "1987                          obama force nature debate  Positive\n",
       "2384  wow group think obama perform well attack idea...  Negative\n",
       "1293  honey boo boo endorse obama obama president ji...  Positive\n",
       "1603                               exit sir barack time  Negative\n",
       "413                 feel obama still sucker punch leave   Neutral"
      ]
     },
     "execution_count": 37,
     "metadata": {
      "tags": []
     },
     "output_type": "execute_result"
    }
   ],
   "source": [
    "obama_train_pr_train, obama_train_pr_val = train_test_split(obama_train_pr, test_size = 0.2)\n",
    "obama_train_pr_train.head()"
   ]
  },
  {
   "cell_type": "code",
   "execution_count": null,
   "metadata": {
    "id": "fIhamTbW_Nhw",
    "outputId": "541a158d-7338-4e0a-d049-b8c886dbc1a3"
   },
   "outputs": [
    {
     "data": {
      "text/html": [
       "<div>\n",
       "<style scoped>\n",
       "    .dataframe tbody tr th:only-of-type {\n",
       "        vertical-align: middle;\n",
       "    }\n",
       "\n",
       "    .dataframe tbody tr th {\n",
       "        vertical-align: top;\n",
       "    }\n",
       "\n",
       "    .dataframe thead th {\n",
       "        text-align: right;\n",
       "    }\n",
       "</style>\n",
       "<table border=\"1\" class=\"dataframe\">\n",
       "  <thead>\n",
       "    <tr style=\"text-align: right;\">\n",
       "      <th></th>\n",
       "      <th>Doc Text</th>\n",
       "      <th>Sentiment</th>\n",
       "    </tr>\n",
       "  </thead>\n",
       "  <tbody>\n",
       "    <tr>\n",
       "      <th>706</th>\n",
       "      <td>billy graham prays romney victory</td>\n",
       "      <td>Positive</td>\n",
       "    </tr>\n",
       "    <tr>\n",
       "      <th>2537</th>\n",
       "      <td>woman push romney r lead</td>\n",
       "      <td>Neutral</td>\n",
       "    </tr>\n",
       "    <tr>\n",
       "      <th>3992</th>\n",
       "      <td>gt gop hop soar romney roll ohio tcot</td>\n",
       "      <td>Positive</td>\n",
       "    </tr>\n",
       "    <tr>\n",
       "      <th>4239</th>\n",
       "      <td>eve second debate romney rise cbs news cbc cao...</td>\n",
       "      <td>Positive</td>\n",
       "    </tr>\n",
       "    <tr>\n",
       "      <th>3521</th>\n",
       "      <td>romney bury trample female moderator say care ...</td>\n",
       "      <td>Negative</td>\n",
       "    </tr>\n",
       "  </tbody>\n",
       "</table>\n",
       "</div>"
      ],
      "text/plain": [
       "                                               Doc Text Sentiment\n",
       "706                   billy graham prays romney victory  Positive\n",
       "2537                           woman push romney r lead   Neutral\n",
       "3992              gt gop hop soar romney roll ohio tcot  Positive\n",
       "4239  eve second debate romney rise cbs news cbc cao...  Positive\n",
       "3521  romney bury trample female moderator say care ...  Negative"
      ]
     },
     "execution_count": 38,
     "metadata": {
      "tags": []
     },
     "output_type": "execute_result"
    }
   ],
   "source": [
    "romney_train_pr_train, romney_train_pr_val = train_test_split(romney_train_pr, test_size = 0.2)\n",
    "romney_train_pr_train.head()"
   ]
  },
  {
   "cell_type": "code",
   "execution_count": null,
   "metadata": {
    "id": "lafbBlAkpZeE"
   },
   "outputs": [],
   "source": [
    "# training = shuffle(pd.concat([vocab_p_train,vocab_n_train])).reset_index(drop = True)\n",
    "\n",
    "# validation = pd.concat([vocab_p_val,vocab_n_val]).reset_index(drop = True)\n",
    "\n",
    "# test = pd.concat([vocab_p_test,vocab_n_test]).reset_index(drop = True)\n",
    "# # len(validation)"
   ]
  },
  {
   "cell_type": "code",
   "execution_count": null,
   "metadata": {
    "id": "_m-rtqE9qPwD"
   },
   "outputs": [],
   "source": [
    "# obama_train_pr_train.to_csv(os.path.join(data_path, 'Obama Training Data.csv'))\n",
    "# obama_train_pr_val.to_csv(os.path.join(data_path, 'Obama Validation Data.csv'))\n",
    "# # test.to_csv('Test Data1.csv')"
   ]
  },
  {
   "cell_type": "code",
   "execution_count": null,
   "metadata": {
    "id": "VZlnzItb_Nh1"
   },
   "outputs": [],
   "source": [
    "# romney_train_pr_train.to_csv(os.path.join(data_path, 'Romney Training Data.csv'))\n",
    "# romney_train_pr_val.to_csv(os.path.join(data_path, 'Romney Validation Data.csv'))"
   ]
  },
  {
   "cell_type": "code",
   "execution_count": null,
   "metadata": {
    "id": "N8tSoJuDAbsv"
   },
   "outputs": [],
   "source": [
    "data_path = r'/content/drive/My Drive/Research Project/Data'"
   ]
  },
  {
   "cell_type": "code",
   "execution_count": null,
   "metadata": {
    "colab": {
     "base_uri": "https://localhost:8080/",
     "height": 204
    },
    "id": "lRe51K-ssOYp",
    "outputId": "b06227ff-ebc4-451f-a6b4-6dba1c5e0a8c"
   },
   "outputs": [
    {
     "data": {
      "text/html": [
       "<div>\n",
       "<style scoped>\n",
       "    .dataframe tbody tr th:only-of-type {\n",
       "        vertical-align: middle;\n",
       "    }\n",
       "\n",
       "    .dataframe tbody tr th {\n",
       "        vertical-align: top;\n",
       "    }\n",
       "\n",
       "    .dataframe thead th {\n",
       "        text-align: right;\n",
       "    }\n",
       "</style>\n",
       "<table border=\"1\" class=\"dataframe\">\n",
       "  <thead>\n",
       "    <tr style=\"text-align: right;\">\n",
       "      <th></th>\n",
       "      <th>Doc Text</th>\n",
       "      <th>Sentiment</th>\n",
       "    </tr>\n",
       "  </thead>\n",
       "  <tbody>\n",
       "    <tr>\n",
       "      <th>0</th>\n",
       "      <td>obama force nature debate</td>\n",
       "      <td>Positive</td>\n",
       "    </tr>\n",
       "    <tr>\n",
       "      <th>1</th>\n",
       "      <td>wow group think obama perform well attack idea...</td>\n",
       "      <td>Negative</td>\n",
       "    </tr>\n",
       "    <tr>\n",
       "      <th>2</th>\n",
       "      <td>honey boo boo endorse obama obama president ji...</td>\n",
       "      <td>Positive</td>\n",
       "    </tr>\n",
       "    <tr>\n",
       "      <th>3</th>\n",
       "      <td>exit sir barack time</td>\n",
       "      <td>Negative</td>\n",
       "    </tr>\n",
       "    <tr>\n",
       "      <th>4</th>\n",
       "      <td>feel obama still sucker punch leave</td>\n",
       "      <td>Neutral</td>\n",
       "    </tr>\n",
       "  </tbody>\n",
       "</table>\n",
       "</div>"
      ],
      "text/plain": [
       "                                            Doc Text Sentiment\n",
       "0                          obama force nature debate  Positive\n",
       "1  wow group think obama perform well attack idea...  Negative\n",
       "2  honey boo boo endorse obama obama president ji...  Positive\n",
       "3                               exit sir barack time  Negative\n",
       "4                feel obama still sucker punch leave   Neutral"
      ]
     },
     "execution_count": 34,
     "metadata": {
      "tags": []
     },
     "output_type": "execute_result"
    }
   ],
   "source": [
    "obama_train = pd.read_csv(os.path.join(data_path, 'Obama Training Data.csv'), usecols=[1,2])\n",
    "obama_val = pd.read_csv(os.path.join(data_path, 'Obama Validation Data.csv'), usecols=[1,2])\n",
    "\n",
    "obama_train.head()"
   ]
  },
  {
   "cell_type": "code",
   "execution_count": 76,
   "metadata": {
    "id": "Nt4Q-LLu_Nh6"
   },
   "outputs": [],
   "source": [
    "def one_hot(data):\n",
    "    data = np.asarray(data)\n",
    "    temp = np.zeros((len(data),3))\n",
    "#     print(data[0])\n",
    "    for i in range(len(temp)):\n",
    "        if data[i] == 'Negative':\n",
    "            temp[i][2] = 1 ## Negative sentiment third neuron\n",
    "        elif data[i] == 'Neutral':\n",
    "            temp[i][1] = 1 ## Neutral sentiment second neuron  \n",
    "        else:\n",
    "            temp[i][0] = 1 ## Positive sentiment first neuron \n",
    "\n",
    "    return temp\n",
    "    \n",
    "    \n"
   ]
  },
  {
   "cell_type": "code",
   "execution_count": null,
   "metadata": {
    "colab": {
     "base_uri": "https://localhost:8080/",
     "height": 204
    },
    "id": "8fXXoDqi_Nh7",
    "outputId": "7e2fc677-6aaf-4ff4-929b-ebe80ebe9213"
   },
   "outputs": [
    {
     "data": {
      "text/html": [
       "<div>\n",
       "<style scoped>\n",
       "    .dataframe tbody tr th:only-of-type {\n",
       "        vertical-align: middle;\n",
       "    }\n",
       "\n",
       "    .dataframe tbody tr th {\n",
       "        vertical-align: top;\n",
       "    }\n",
       "\n",
       "    .dataframe thead th {\n",
       "        text-align: right;\n",
       "    }\n",
       "</style>\n",
       "<table border=\"1\" class=\"dataframe\">\n",
       "  <thead>\n",
       "    <tr style=\"text-align: right;\">\n",
       "      <th></th>\n",
       "      <th>Doc Text</th>\n",
       "      <th>Sentiment</th>\n",
       "    </tr>\n",
       "  </thead>\n",
       "  <tbody>\n",
       "    <tr>\n",
       "      <th>0</th>\n",
       "      <td>romney tax plan deserve nd look secret one dif...</td>\n",
       "      <td>Negative</td>\n",
       "    </tr>\n",
       "    <tr>\n",
       "      <th>1</th>\n",
       "      <td>romney romney newnikeslogan</td>\n",
       "      <td>Negative</td>\n",
       "    </tr>\n",
       "    <tr>\n",
       "      <th>2</th>\n",
       "      <td>need republican friend maybe shed light romney...</td>\n",
       "      <td>Negative</td>\n",
       "    </tr>\n",
       "    <tr>\n",
       "      <th>3</th>\n",
       "      <td>mitt people die lack health insurance mitt tal...</td>\n",
       "      <td>Negative</td>\n",
       "    </tr>\n",
       "    <tr>\n",
       "      <th>4</th>\n",
       "      <td>romney say borrow money parent college bitch c...</td>\n",
       "      <td>Negative</td>\n",
       "    </tr>\n",
       "  </tbody>\n",
       "</table>\n",
       "</div>"
      ],
      "text/plain": [
       "                                            Doc Text Sentiment\n",
       "0  romney tax plan deserve nd look secret one dif...  Negative\n",
       "1                        romney romney newnikeslogan  Negative\n",
       "2  need republican friend maybe shed light romney...  Negative\n",
       "3  mitt people die lack health insurance mitt tal...  Negative\n",
       "4  romney say borrow money parent college bitch c...  Negative"
      ]
     },
     "execution_count": 36,
     "metadata": {
      "tags": []
     },
     "output_type": "execute_result"
    }
   ],
   "source": [
    "romney_train = pd.read_csv(os.path.join(data_path,'Romney Training Data.csv'), usecols=[1,2])\n",
    "romney_val = pd.read_csv(os.path.join(data_path,'Romney Validation Data.csv'), usecols=[1,2])\n",
    "\n",
    "romney_val.head()"
   ]
  },
  {
   "cell_type": "markdown",
   "metadata": {
    "id": "wmGshHslpZeH"
   },
   "source": [
    "## Building Glove Dictionary"
   ]
  },
  {
   "cell_type": "code",
   "execution_count": 31,
   "metadata": {
    "id": "YU-SxaOZ_Nh9"
   },
   "outputs": [],
   "source": [
    "embeddings = {}\n",
    "with open(os.path.join(data_path,\"glove.6B.300d.txt\"), 'r', encoding=\"utf-8\") as file:\n",
    "    for line in file:\n",
    "        values = line.split()\n",
    "        word = values[0]\n",
    "        vector = asarray(values[1:], dtype='float32')\n",
    "        embeddings[word] = vector"
   ]
  },
  {
   "cell_type": "markdown",
   "metadata": {
    "id": "or3hmQvdpZeJ"
   },
   "source": [
    "## Embedding Matrix Function"
   ]
  },
  {
   "cell_type": "code",
   "execution_count": 32,
   "metadata": {
    "id": "wBG3Kq7EpZeJ"
   },
   "outputs": [],
   "source": [
    "def emb_matrix(t,embeddings):\n",
    "    # creating a embedding matrix for the words in training data, which will be used as weight matrix for embedding layer\n",
    "    vocab_size = len(t.word_index) + 1    \n",
    "    embedding_matrix = zeros((vocab_size, 300))\n",
    "    for word, i in t.word_index.items():\n",
    "        embedding_vector = embeddings.get(word)\n",
    "        if embedding_vector is not None:\n",
    "            embedding_matrix[i] = embedding_vector\n",
    "    return embedding_matrix, vocab_size"
   ]
  },
  {
   "cell_type": "code",
   "execution_count": null,
   "metadata": {
    "id": "9kT9ZAXi_NiC"
   },
   "outputs": [],
   "source": []
  },
  {
   "cell_type": "markdown",
   "metadata": {
    "id": "MgK6d3Qy_NiF"
   },
   "source": [
    "## Fine tuning the word embeddings of 300 dimensions using mittens library\n",
    "\n"
   ]
  },
  {
   "cell_type": "markdown",
   "metadata": {
    "id": "VqwJmPT-_NiF"
   },
   "source": [
    "## Used the code for finetuning from the following link:\n",
    "### https://towardsdatascience.com/fine-tune-glove-embeddings-using-mittens-89b5f3fe4c39"
   ]
  },
  {
   "cell_type": "code",
   "execution_count": 33,
   "metadata": {
    "id": "HRwhIKRT_NiF"
   },
   "outputs": [],
   "source": [
    "def finetune(training): \n",
    "    training_tokens = [word_tokenize(i) for i in training['Doc Text']]\n",
    "    #training_tokens\n",
    "\n",
    "    oov = [j for i in training_tokens for j in i if j not in embeddings.keys()]\n",
    "    print(len(oov))\n",
    "\n",
    "    corp_vocab = list(set(oov))\n",
    "\n",
    "    cv = CountVectorizer(ngram_range=(1,1), vocabulary=corp_vocab)\n",
    "    trr =''\n",
    "    for i in training_tokens:\n",
    "        for j in i:\n",
    "            trr+= j\n",
    "            trr += ' '\n",
    "\n",
    "    # print(trr)\n",
    "    # print(z)\n",
    "    X = cv.fit_transform([trr])\n",
    "    Xc = (X.T * X)\n",
    "    Xc.setdiag(0)\n",
    "    coocc_ar = Xc.toarray()\n",
    "\n",
    "    mittens_model = Mittens(n=300, max_iter=2000)\n",
    "\n",
    "    new_embeddings = mittens_model.fit(\n",
    "      coocc_ar,\n",
    "      vocab=corp_vocab,\n",
    "      initial_embedding_dict= embeddings)\n",
    "\n",
    "    new_embeddings = dict(zip(corp_vocab, new_embeddings))\n",
    "    return training_tokens, new_embeddings\n",
    "  \n"
   ]
  },
  {
   "cell_type": "code",
   "execution_count": 36,
   "metadata": {
    "colab": {
     "base_uri": "https://localhost:8080/",
     "height": 156
    },
    "id": "MB2Nd-Kr_NiH",
    "outputId": "2957a4cb-cbf7-4cf8-8303-b1fcb4967cee"
   },
   "outputs": [
    {
     "name": "stdout",
     "output_type": "stream",
     "text": [
      "1978\n"
     ]
    },
    {
     "name": "stderr",
     "output_type": "stream",
     "text": [
      "C:\\Users\\kalya\\anaconda3\\lib\\site-packages\\scipy\\sparse\\_index.py:126: SparseEfficiencyWarning: Changing the sparsity structure of a csc_matrix is expensive. lil_matrix is more efficient.\n",
      "  self._set_arrayXarray(i, j, x)\n"
     ]
    },
    {
     "name": "stdout",
     "output_type": "stream",
     "text": [
      "WARNING:tensorflow:From C:\\Users\\kalya\\anaconda3\\lib\\site-packages\\tensorflow\\python\\training\\adagrad.py:77: calling Constant.__init__ (from tensorflow.python.ops.init_ops) with dtype is deprecated and will be removed in a future version.\n",
      "Instructions for updating:\n",
      "Call initializer instance with the dtype argument instead of passing it to the constructor\n"
     ]
    },
    {
     "name": "stderr",
     "output_type": "stream",
     "text": [
      "Iteration 2000: loss: 0.38306349515914917"
     ]
    }
   ],
   "source": [
    "embeddings2= embeddings.copy()\n",
    "\n",
    "training_tokens, new_embeddings = finetune(obama_train_pr_df)\n",
    "embeddings2.update(new_embeddings)"
   ]
  },
  {
   "cell_type": "code",
   "execution_count": 37,
   "metadata": {
    "colab": {
     "base_uri": "https://localhost:8080/",
     "height": 34
    },
    "id": "spGvX_Cg_NiI",
    "outputId": "a6f2fd56-b8ee-4af8-e8d5-f0a0a2ee2066"
   },
   "outputs": [
    {
     "name": "stdout",
     "output_type": "stream",
     "text": [
      "0\n"
     ]
    }
   ],
   "source": [
    "oov2 = [j for i in training_tokens for j in i if j not in embeddings2.keys()]\n",
    "print(len(oov2))"
   ]
  },
  {
   "cell_type": "code",
   "execution_count": null,
   "metadata": {
    "id": "ir2jPLOS_NiK"
   },
   "outputs": [],
   "source": []
  },
  {
   "cell_type": "markdown",
   "metadata": {
    "id": "ldH6dPIM_NiL"
   },
   "source": [
    "## Custom F1 value"
   ]
  },
  {
   "cell_type": "code",
   "execution_count": 38,
   "metadata": {
    "id": "9Q5Q1HVs_NiM"
   },
   "outputs": [],
   "source": [
    "def f1_value(y_true, y_pred): #taken from old keras source code\n",
    "    true_positives = K.sum(K.round(K.clip(y_true * y_pred, 0, 1)))\n",
    "    possible_positives = K.sum(K.round(K.clip(y_true, 0, 1)))\n",
    "    predicted_positives = K.sum(K.round(K.clip(y_pred, 0, 1)))\n",
    "    precision = true_positives / (predicted_positives + K.epsilon())\n",
    "    recall = true_positives / (possible_positives + K.epsilon())\n",
    "    f1_val = 2*(precision*recall)/(precision+recall+K.epsilon())\n",
    "    return f1_val"
   ]
  },
  {
   "cell_type": "markdown",
   "metadata": {
    "id": "3VHQfx6SpZeN"
   },
   "source": [
    "## Building Vanilla RNN, LSTM, and GRU models"
   ]
  },
  {
   "cell_type": "code",
   "execution_count": 39,
   "metadata": {
    "id": "sNbzJtMWpZeN"
   },
   "outputs": [],
   "source": [
    "def model_vanilla_rnn(embedding_matrix, noh,  vocab_size, max_length, adam_optimizer, activation, Dropout_rate, kernel_regularizer_coef, activity_regularizer_coef):\n",
    "\n",
    "    model = Sequential()\n",
    "    e = Embedding(vocab_size, 300, weights=[embedding_matrix], input_length=max_length, trainable = False)\n",
    "    model.add(e)\n",
    "    model.add(Bidirectional(SimpleRNN(units = noh, activation = activation, dropout=0.2, kernel_regularizer=tf.keras.regularizers.L1(kernel_regularizer_coef), activity_regularizer=tf.keras.regularizers.L2(activity_regularizer_coef))))\n",
    "    model.add(Dropout(Dropout_rate))\n",
    "    model.add(Dense(3, activation='softmax', kernel_regularizer=tf.keras.regularizers.L1(kernel_regularizer_coef), activity_regularizer=tf.keras.regularizers.L2(activity_regularizer_coef)))\n",
    "    model.compile(optimizer=adam_optimizer, loss='categorical_crossentropy', metrics=[])\n",
    "#     print(model.summary())\n",
    "    return model\n"
   ]
  },
  {
   "cell_type": "code",
   "execution_count": 40,
   "metadata": {
    "id": "D69lMKSLpZeP"
   },
   "outputs": [],
   "source": [
    "def model_lstm(embedding_matrix, noh,  vocab_size, max_length, adam_optimizer, activation, Dropout_rate, kernel_regularizer_coef, activity_regularizer_coef):\n",
    "\n",
    "    model = Sequential()\n",
    "    e = Embedding(vocab_size, 300, weights=[embedding_matrix], input_length=max_length, trainable = False)\n",
    "    model.add(e)\n",
    "    model.add(Bidirectional(LSTM(units = noh, activation = activation, dropout=0.2, kernel_regularizer=tf.keras.regularizers.L1(kernel_regularizer_coef), activity_regularizer=tf.keras.regularizers.L2(activity_regularizer_coef))))\n",
    "    model.add(Dropout(Dropout_rate))\n",
    "    model.add(Dense(3, activation='softmax', kernel_regularizer=tf.keras.regularizers.L1(kernel_regularizer_coef), activity_regularizer=tf.keras.regularizers.L2(activity_regularizer_coef)))\n",
    "    model.compile(optimizer=adam_optimizer, loss='categorical_crossentropy', metrics=[])\n",
    "#     print(model.summary())\n",
    "    return model\n"
   ]
  },
  {
   "cell_type": "code",
   "execution_count": 41,
   "metadata": {
    "id": "tDL6HFQYpZeQ"
   },
   "outputs": [],
   "source": [
    "def model_gru(embedding_matrix, noh,  vocab_size, max_length, adam_optimizer, activation, Dropout_rate, kernel_regularizer_coef, activity_regularizer_coef):\n",
    "\n",
    "    model = Sequential()\n",
    "    e = Embedding(vocab_size, 300, weights=[embedding_matrix], input_length=max_length, trainable = False)\n",
    "    model.add(e)\n",
    "    model.add(Bidirectional(GRU(units = noh, activation = activation, dropout=0.2, kernel_regularizer=tf.keras.regularizers.L1(kernel_regularizer_coef), activity_regularizer=tf.keras.regularizers.L2(activity_regularizer_coef))))\n",
    "    model.add(Dropout(Dropout_rate))\n",
    "    model.add(Dense(3, activation='softmax', kernel_regularizer=tf.keras.regularizers.L1(kernel_regularizer_coef), activity_regularizer=tf.keras.regularizers.L2(activity_regularizer_coef)))\n",
    "    model.compile(optimizer=adam_optimizer, loss='categorical_crossentropy', metrics=[])\n",
    "#     print(model.summary())\n",
    "    return model\n"
   ]
  },
  {
   "cell_type": "code",
   "execution_count": 42,
   "metadata": {
    "id": "42FDB3zmpZeS"
   },
   "outputs": [],
   "source": []
  },
  {
   "cell_type": "code",
   "execution_count": null,
   "metadata": {
    "id": "u5oc67yzQ2-Z"
   },
   "outputs": [],
   "source": []
  },
  {
   "cell_type": "code",
   "execution_count": 43,
   "metadata": {
    "id": "dw6cg12SpZeU"
   },
   "outputs": [],
   "source": [
    "# u = {}\n",
    "# u['max_len'] = max_length\n",
    "# u['batch'] = batch_size\n",
    "# u['l_rate'] = learning_rate\n",
    "# u['epochs'] = epochs\n",
    "\n",
    "# fig, ax = plt.subplots(1,2,figsize = (20,5))\n",
    "\n",
    "# ax[0].plot(history.history['loss'], label='Training')\n",
    "# ax[0].plot(history.history['val_loss'], c='r',label='Validation')\n",
    "# ax[0].legend(loc='upper left')\n",
    "# ax[0].title.set_text('Loss plot for the combination ' + str(u)) \n",
    "\n",
    "# ax[1].plot(history.history['accuracy'], label='Training')\n",
    "# ax[1].plot(history.history['val_accuracy'], c='r',label='Validation')\n",
    "# ax[1].legend(loc='upper left')\n",
    "# ax[1].title.set_text('Accuracy plot for the combination ' + str(u))    "
   ]
  },
  {
   "cell_type": "code",
   "execution_count": null,
   "metadata": {
    "id": "_K4Y7dUt_NiX"
   },
   "outputs": [],
   "source": []
  },
  {
   "cell_type": "code",
   "execution_count": 47,
   "metadata": {
    "id": "CxFvBFuD_NiZ"
   },
   "outputs": [],
   "source": [
    "# class Metrics(Callback):\n",
    "#     def __init__(self, validation):   \n",
    "#         super(Metrics, self).__init__()\n",
    "#         self.validation = validation    \n",
    "            \n",
    "#         print('validation shape', len(self.validation[0]))\n",
    "        \n",
    "#     def on_train_begin(self, logs={}):        \n",
    "#         self.val_f1s = []\n",
    "#         self.val_recalls = []\n",
    "#         self.val_precisions = []\n",
    "     \n",
    "#     def on_epoch_end(self, epoch, logs={}):\n",
    "#         val_targ = self.validation[1]   \n",
    "#         val_predict = (np.asarray(self.model.predict(self.validation[0]))).round()        \n",
    "    \n",
    "#         val_f1 = f1_score(val_targ, val_predict)\n",
    "#         val_recall = recall_score(val_targ, val_predict)         \n",
    "#         val_precision = precision_score(val_targ, val_predict)\n",
    "        \n",
    "#         self.val_f1s.append(round(val_f1, 6))\n",
    "#         self.val_recalls.append(round(val_recall, 6))\n",
    "#         self.val_precisions.append(round(val_precision, 6))\n",
    " \n",
    "#         print(f' — val_f1: {val_f1} — val_precision: {val_precision}, — val_recall: {val_recall}')"
   ]
  },
  {
   "cell_type": "code",
   "execution_count": 79,
   "metadata": {
    "id": "kNl5R_SO_Nia"
   },
   "outputs": [],
   "source": [
    "def pred(x):\n",
    "    temp = []\n",
    "    for i in x:\n",
    "        m = np.argmax(i)\n",
    "        if m == 0:\n",
    "            temp.append('Positive')\n",
    "        elif m == 1:\n",
    "            temp.append('Neutral')\n",
    "        else:\n",
    "            temp.append('Negative')\n",
    "    return temp"
   ]
  },
  {
   "cell_type": "markdown",
   "metadata": {
    "id": "hnDrYVDC_Nib"
   },
   "source": [
    "## Building models for obama tweets"
   ]
  },
  {
   "cell_type": "markdown",
   "metadata": {
    "id": "HLDi0elvjHkC"
   },
   "source": [
    "## Training the Model"
   ]
  },
  {
   "cell_type": "markdown",
   "metadata": {
    "id": "SBp3ntnMpZeX"
   },
   "source": [
    "## Using Hyperopt library to tune the Hyperparameters. "
   ]
  },
  {
   "cell_type": "code",
   "execution_count": 82,
   "metadata": {},
   "outputs": [],
   "source": [
    "def cross_valid(X,y,epochs,batch_size,max_length, learning_rate):\n",
    "    f1  =[]\n",
    "    cv = KFold(n_splits=5,shuffle=True)\n",
    "    for train_index, val_index in cv.split(X):\n",
    "    #     print(\"Train Index: \", train_index, \"\\n\")\n",
    "    #     print(\"Test Index: \", test_index)\n",
    "    #     print(X.iloc[train_index])\n",
    "    #     print(f)\n",
    "\n",
    "        X_train1, X_val, y_train1, y_val = X.iloc[train_index], X.iloc[val_index], y.iloc[train_index], y.iloc[val_index]\n",
    "        tokenise_tf = Tokenizer()\n",
    "        tokenise_tf.fit_on_texts(X_train1) \n",
    "    \n",
    "        encoded_train = tokenise_tf.texts_to_sequences(X_train1)\n",
    "        training_padded = pad_sequences(encoded_train, maxlen=max_length, padding='post', truncating = 'pre')\n",
    "        embedding_matrix, vocab_size = emb_matrix(tokenise_tf, embeddings2)\n",
    "\n",
    "        encoded_validation = tokenise_tf.texts_to_sequences(X_val)\n",
    "        validation_padded = pad_sequences(encoded_validation, maxlen=max_length, padding='post', truncating = 'pre')\n",
    "        adam_optimizer = optimizers.Adam(learning_rate=learning_rate)\n",
    "        model = model_vanilla_rnn(embedding_matrix, 300, vocab_size, max_length, adam_optimizer, 'tanh', 0.2, 0.001, 0.001)        \n",
    "        history = model.fit(training_padded, one_hot(y_train1), epochs=epochs, verbose=0, batch_size=batch_size, shuffle =True)\n",
    "        y_pred_temp = model.predict(validation_padded)\n",
    "        y_pred = pred(y_pred_temp)\n",
    "        f1.append(f1_score(y_val, y_pred, average = 'macro'))\n",
    "#         print(temp(y_pred, y_val).head())\n",
    "    return mean(f1)"
   ]
  },
  {
   "cell_type": "code",
   "execution_count": 88,
   "metadata": {},
   "outputs": [
    {
     "data": {
      "text/plain": [
       "0.5242810476100245"
      ]
     },
     "execution_count": 88,
     "metadata": {},
     "output_type": "execute_result"
    }
   ],
   "source": [
    "max_length = 8\n",
    "epochs = 20\n",
    "batch_size = 64\n",
    "learning_rate = 0.001\n",
    "f1= cross_valid(obama_train_pr_df['Doc Text'],obama_train_pr_df['Sentiment'], epochs,batch_size,max_length, learning_rate)\n",
    "f1\n",
    "\n"
   ]
  },
  {
   "cell_type": "code",
   "execution_count": 83,
   "metadata": {},
   "outputs": [
    {
     "name": "stdout",
     "output_type": "stream",
     "text": [
      "  0%|          | 0/20 [06:17<?, ?trial/s, best loss=?]\n"
     ]
    },
    {
     "ename": "KeyboardInterrupt",
     "evalue": "",
     "output_type": "error",
     "traceback": [
      "\u001b[1;31m---------------------------------------------------------------------------\u001b[0m",
      "\u001b[1;31mKeyboardInterrupt\u001b[0m                         Traceback (most recent call last)",
      "\u001b[1;32m<ipython-input-83-ad0e97606cef>\u001b[0m in \u001b[0;36m<module>\u001b[1;34m\u001b[0m\n\u001b[0;32m     22\u001b[0m \u001b[1;33m\u001b[0m\u001b[0m\n\u001b[0;32m     23\u001b[0m \u001b[1;33m\u001b[0m\u001b[0m\n\u001b[1;32m---> 24\u001b[1;33m \u001b[0mbest_vanilla_rnn\u001b[0m \u001b[1;33m=\u001b[0m \u001b[0mfmin\u001b[0m\u001b[1;33m(\u001b[0m\u001b[0mobjective_func\u001b[0m\u001b[1;33m,\u001b[0m \u001b[0mspace\u001b[0m\u001b[1;33m,\u001b[0m \u001b[0malgo\u001b[0m\u001b[1;33m=\u001b[0m\u001b[0mtpe\u001b[0m\u001b[1;33m.\u001b[0m\u001b[0msuggest\u001b[0m\u001b[1;33m,\u001b[0m \u001b[0mmax_evals\u001b[0m\u001b[1;33m=\u001b[0m\u001b[1;36m20\u001b[0m\u001b[1;33m)\u001b[0m\u001b[1;33m\u001b[0m\u001b[1;33m\u001b[0m\u001b[0m\n\u001b[0m\u001b[0;32m     25\u001b[0m \u001b[0mprint\u001b[0m\u001b[1;33m(\u001b[0m\u001b[0mbest_vanilla_rnn\u001b[0m\u001b[1;33m)\u001b[0m\u001b[1;33m\u001b[0m\u001b[1;33m\u001b[0m\u001b[0m\n",
      "\u001b[1;32m~\\anaconda3\\lib\\site-packages\\hyperopt\\fmin.py\u001b[0m in \u001b[0;36mfmin\u001b[1;34m(fn, space, algo, max_evals, timeout, loss_threshold, trials, rstate, allow_trials_fmin, pass_expr_memo_ctrl, catch_eval_exceptions, verbose, return_argmin, points_to_evaluate, max_queue_len, show_progressbar)\u001b[0m\n\u001b[0;32m    507\u001b[0m \u001b[1;33m\u001b[0m\u001b[0m\n\u001b[0;32m    508\u001b[0m     \u001b[1;31m# next line is where the fmin is actually executed\u001b[0m\u001b[1;33m\u001b[0m\u001b[1;33m\u001b[0m\u001b[1;33m\u001b[0m\u001b[0m\n\u001b[1;32m--> 509\u001b[1;33m     \u001b[0mrval\u001b[0m\u001b[1;33m.\u001b[0m\u001b[0mexhaust\u001b[0m\u001b[1;33m(\u001b[0m\u001b[1;33m)\u001b[0m\u001b[1;33m\u001b[0m\u001b[1;33m\u001b[0m\u001b[0m\n\u001b[0m\u001b[0;32m    510\u001b[0m \u001b[1;33m\u001b[0m\u001b[0m\n\u001b[0;32m    511\u001b[0m     \u001b[1;32mif\u001b[0m \u001b[0mreturn_argmin\u001b[0m\u001b[1;33m:\u001b[0m\u001b[1;33m\u001b[0m\u001b[1;33m\u001b[0m\u001b[0m\n",
      "\u001b[1;32m~\\anaconda3\\lib\\site-packages\\hyperopt\\fmin.py\u001b[0m in \u001b[0;36mexhaust\u001b[1;34m(self)\u001b[0m\n\u001b[0;32m    328\u001b[0m     \u001b[1;32mdef\u001b[0m \u001b[0mexhaust\u001b[0m\u001b[1;33m(\u001b[0m\u001b[0mself\u001b[0m\u001b[1;33m)\u001b[0m\u001b[1;33m:\u001b[0m\u001b[1;33m\u001b[0m\u001b[1;33m\u001b[0m\u001b[0m\n\u001b[0;32m    329\u001b[0m         \u001b[0mn_done\u001b[0m \u001b[1;33m=\u001b[0m \u001b[0mlen\u001b[0m\u001b[1;33m(\u001b[0m\u001b[0mself\u001b[0m\u001b[1;33m.\u001b[0m\u001b[0mtrials\u001b[0m\u001b[1;33m)\u001b[0m\u001b[1;33m\u001b[0m\u001b[1;33m\u001b[0m\u001b[0m\n\u001b[1;32m--> 330\u001b[1;33m         \u001b[0mself\u001b[0m\u001b[1;33m.\u001b[0m\u001b[0mrun\u001b[0m\u001b[1;33m(\u001b[0m\u001b[0mself\u001b[0m\u001b[1;33m.\u001b[0m\u001b[0mmax_evals\u001b[0m \u001b[1;33m-\u001b[0m \u001b[0mn_done\u001b[0m\u001b[1;33m,\u001b[0m \u001b[0mblock_until_done\u001b[0m\u001b[1;33m=\u001b[0m\u001b[0mself\u001b[0m\u001b[1;33m.\u001b[0m\u001b[0masynchronous\u001b[0m\u001b[1;33m)\u001b[0m\u001b[1;33m\u001b[0m\u001b[1;33m\u001b[0m\u001b[0m\n\u001b[0m\u001b[0;32m    331\u001b[0m         \u001b[0mself\u001b[0m\u001b[1;33m.\u001b[0m\u001b[0mtrials\u001b[0m\u001b[1;33m.\u001b[0m\u001b[0mrefresh\u001b[0m\u001b[1;33m(\u001b[0m\u001b[1;33m)\u001b[0m\u001b[1;33m\u001b[0m\u001b[1;33m\u001b[0m\u001b[0m\n\u001b[0;32m    332\u001b[0m         \u001b[1;32mreturn\u001b[0m \u001b[0mself\u001b[0m\u001b[1;33m\u001b[0m\u001b[1;33m\u001b[0m\u001b[0m\n",
      "\u001b[1;32m~\\anaconda3\\lib\\site-packages\\hyperopt\\fmin.py\u001b[0m in \u001b[0;36mrun\u001b[1;34m(self, N, block_until_done)\u001b[0m\n\u001b[0;32m    284\u001b[0m                 \u001b[1;32melse\u001b[0m\u001b[1;33m:\u001b[0m\u001b[1;33m\u001b[0m\u001b[1;33m\u001b[0m\u001b[0m\n\u001b[0;32m    285\u001b[0m                     \u001b[1;31m# -- loop over trials and do the jobs directly\u001b[0m\u001b[1;33m\u001b[0m\u001b[1;33m\u001b[0m\u001b[1;33m\u001b[0m\u001b[0m\n\u001b[1;32m--> 286\u001b[1;33m                     \u001b[0mself\u001b[0m\u001b[1;33m.\u001b[0m\u001b[0mserial_evaluate\u001b[0m\u001b[1;33m(\u001b[0m\u001b[1;33m)\u001b[0m\u001b[1;33m\u001b[0m\u001b[1;33m\u001b[0m\u001b[0m\n\u001b[0m\u001b[0;32m    287\u001b[0m \u001b[1;33m\u001b[0m\u001b[0m\n\u001b[0;32m    288\u001b[0m                 \u001b[0mself\u001b[0m\u001b[1;33m.\u001b[0m\u001b[0mtrials\u001b[0m\u001b[1;33m.\u001b[0m\u001b[0mrefresh\u001b[0m\u001b[1;33m(\u001b[0m\u001b[1;33m)\u001b[0m\u001b[1;33m\u001b[0m\u001b[1;33m\u001b[0m\u001b[0m\n",
      "\u001b[1;32m~\\anaconda3\\lib\\site-packages\\hyperopt\\fmin.py\u001b[0m in \u001b[0;36mserial_evaluate\u001b[1;34m(self, N)\u001b[0m\n\u001b[0;32m    163\u001b[0m                 \u001b[0mctrl\u001b[0m \u001b[1;33m=\u001b[0m \u001b[0mbase\u001b[0m\u001b[1;33m.\u001b[0m\u001b[0mCtrl\u001b[0m\u001b[1;33m(\u001b[0m\u001b[0mself\u001b[0m\u001b[1;33m.\u001b[0m\u001b[0mtrials\u001b[0m\u001b[1;33m,\u001b[0m \u001b[0mcurrent_trial\u001b[0m\u001b[1;33m=\u001b[0m\u001b[0mtrial\u001b[0m\u001b[1;33m)\u001b[0m\u001b[1;33m\u001b[0m\u001b[1;33m\u001b[0m\u001b[0m\n\u001b[0;32m    164\u001b[0m                 \u001b[1;32mtry\u001b[0m\u001b[1;33m:\u001b[0m\u001b[1;33m\u001b[0m\u001b[1;33m\u001b[0m\u001b[0m\n\u001b[1;32m--> 165\u001b[1;33m                     \u001b[0mresult\u001b[0m \u001b[1;33m=\u001b[0m \u001b[0mself\u001b[0m\u001b[1;33m.\u001b[0m\u001b[0mdomain\u001b[0m\u001b[1;33m.\u001b[0m\u001b[0mevaluate\u001b[0m\u001b[1;33m(\u001b[0m\u001b[0mspec\u001b[0m\u001b[1;33m,\u001b[0m \u001b[0mctrl\u001b[0m\u001b[1;33m)\u001b[0m\u001b[1;33m\u001b[0m\u001b[1;33m\u001b[0m\u001b[0m\n\u001b[0m\u001b[0;32m    166\u001b[0m                 \u001b[1;32mexcept\u001b[0m \u001b[0mException\u001b[0m \u001b[1;32mas\u001b[0m \u001b[0me\u001b[0m\u001b[1;33m:\u001b[0m\u001b[1;33m\u001b[0m\u001b[1;33m\u001b[0m\u001b[0m\n\u001b[0;32m    167\u001b[0m                     \u001b[0mlogger\u001b[0m\u001b[1;33m.\u001b[0m\u001b[0merror\u001b[0m\u001b[1;33m(\u001b[0m\u001b[1;34m\"job exception: %s\"\u001b[0m \u001b[1;33m%\u001b[0m \u001b[0mstr\u001b[0m\u001b[1;33m(\u001b[0m\u001b[0me\u001b[0m\u001b[1;33m)\u001b[0m\u001b[1;33m)\u001b[0m\u001b[1;33m\u001b[0m\u001b[1;33m\u001b[0m\u001b[0m\n",
      "\u001b[1;32m~\\anaconda3\\lib\\site-packages\\hyperopt\\base.py\u001b[0m in \u001b[0;36mevaluate\u001b[1;34m(self, config, ctrl, attach_attachments)\u001b[0m\n\u001b[0;32m    892\u001b[0m                 \u001b[0mprint_node_on_error\u001b[0m\u001b[1;33m=\u001b[0m\u001b[0mself\u001b[0m\u001b[1;33m.\u001b[0m\u001b[0mrec_eval_print_node_on_error\u001b[0m\u001b[1;33m,\u001b[0m\u001b[1;33m\u001b[0m\u001b[1;33m\u001b[0m\u001b[0m\n\u001b[0;32m    893\u001b[0m             )\n\u001b[1;32m--> 894\u001b[1;33m             \u001b[0mrval\u001b[0m \u001b[1;33m=\u001b[0m \u001b[0mself\u001b[0m\u001b[1;33m.\u001b[0m\u001b[0mfn\u001b[0m\u001b[1;33m(\u001b[0m\u001b[0mpyll_rval\u001b[0m\u001b[1;33m)\u001b[0m\u001b[1;33m\u001b[0m\u001b[1;33m\u001b[0m\u001b[0m\n\u001b[0m\u001b[0;32m    895\u001b[0m \u001b[1;33m\u001b[0m\u001b[0m\n\u001b[0;32m    896\u001b[0m         \u001b[1;32mif\u001b[0m \u001b[0misinstance\u001b[0m\u001b[1;33m(\u001b[0m\u001b[0mrval\u001b[0m\u001b[1;33m,\u001b[0m \u001b[1;33m(\u001b[0m\u001b[0mfloat\u001b[0m\u001b[1;33m,\u001b[0m \u001b[0mint\u001b[0m\u001b[1;33m,\u001b[0m \u001b[0mnp\u001b[0m\u001b[1;33m.\u001b[0m\u001b[0mnumber\u001b[0m\u001b[1;33m)\u001b[0m\u001b[1;33m)\u001b[0m\u001b[1;33m:\u001b[0m\u001b[1;33m\u001b[0m\u001b[1;33m\u001b[0m\u001b[0m\n",
      "\u001b[1;32m<ipython-input-83-ad0e97606cef>\u001b[0m in \u001b[0;36mobjective_func\u001b[1;34m(args)\u001b[0m\n\u001b[0;32m      8\u001b[0m \u001b[1;33m\u001b[0m\u001b[0m\n\u001b[0;32m      9\u001b[0m \u001b[1;33m\u001b[0m\u001b[0m\n\u001b[1;32m---> 10\u001b[1;33m     \u001b[0mf1\u001b[0m\u001b[1;33m=\u001b[0m \u001b[0mcross_valid\u001b[0m\u001b[1;33m(\u001b[0m\u001b[0mobama_train_pr_df\u001b[0m\u001b[1;33m[\u001b[0m\u001b[1;34m'Doc Text'\u001b[0m\u001b[1;33m]\u001b[0m\u001b[1;33m,\u001b[0m\u001b[0mobama_train_pr_df\u001b[0m\u001b[1;33m[\u001b[0m\u001b[1;34m'Sentiment'\u001b[0m\u001b[1;33m]\u001b[0m\u001b[1;33m,\u001b[0m \u001b[0mepochs\u001b[0m\u001b[1;33m,\u001b[0m\u001b[0mbatch_size\u001b[0m\u001b[1;33m,\u001b[0m\u001b[0mmax_length\u001b[0m\u001b[1;33m,\u001b[0m \u001b[0mlearning_rate\u001b[0m\u001b[1;33m)\u001b[0m\u001b[1;33m\u001b[0m\u001b[1;33m\u001b[0m\u001b[0m\n\u001b[0m\u001b[0;32m     11\u001b[0m     \u001b[1;31m# loss, f1 = model.evaluate(validation_padded, one_hot(obama_val['Sentiment']))\u001b[0m\u001b[1;33m\u001b[0m\u001b[1;33m\u001b[0m\u001b[1;33m\u001b[0m\u001b[0m\n\u001b[0;32m     12\u001b[0m \u001b[1;31m#     f1 = history.history['f1_value'][-1]\u001b[0m\u001b[1;33m\u001b[0m\u001b[1;33m\u001b[0m\u001b[1;33m\u001b[0m\u001b[0m\n",
      "\u001b[1;32m<ipython-input-82-00df857e6629>\u001b[0m in \u001b[0;36mcross_valid\u001b[1;34m(X, y, epochs, batch_size, max_length, learning_rate)\u001b[0m\n\u001b[0;32m     20\u001b[0m         \u001b[0madam_optimizer\u001b[0m \u001b[1;33m=\u001b[0m \u001b[0moptimizers\u001b[0m\u001b[1;33m.\u001b[0m\u001b[0mAdam\u001b[0m\u001b[1;33m(\u001b[0m\u001b[0mlearning_rate\u001b[0m\u001b[1;33m=\u001b[0m\u001b[0mlearning_rate\u001b[0m\u001b[1;33m)\u001b[0m\u001b[1;33m\u001b[0m\u001b[1;33m\u001b[0m\u001b[0m\n\u001b[0;32m     21\u001b[0m         \u001b[0mmodel\u001b[0m \u001b[1;33m=\u001b[0m \u001b[0mmodel_vanilla_rnn\u001b[0m\u001b[1;33m(\u001b[0m\u001b[0membedding_matrix\u001b[0m\u001b[1;33m,\u001b[0m \u001b[1;36m300\u001b[0m\u001b[1;33m,\u001b[0m \u001b[0mvocab_size\u001b[0m\u001b[1;33m,\u001b[0m \u001b[0mmax_length\u001b[0m\u001b[1;33m,\u001b[0m \u001b[0madam_optimizer\u001b[0m\u001b[1;33m,\u001b[0m \u001b[1;34m'tanh'\u001b[0m\u001b[1;33m,\u001b[0m \u001b[1;36m0.2\u001b[0m\u001b[1;33m,\u001b[0m \u001b[1;36m0.001\u001b[0m\u001b[1;33m,\u001b[0m \u001b[1;36m0.001\u001b[0m\u001b[1;33m)\u001b[0m\u001b[1;33m\u001b[0m\u001b[1;33m\u001b[0m\u001b[0m\n\u001b[1;32m---> 22\u001b[1;33m         \u001b[0mhistory\u001b[0m \u001b[1;33m=\u001b[0m \u001b[0mmodel\u001b[0m\u001b[1;33m.\u001b[0m\u001b[0mfit\u001b[0m\u001b[1;33m(\u001b[0m\u001b[0mtraining_padded\u001b[0m\u001b[1;33m,\u001b[0m \u001b[0mone_hot\u001b[0m\u001b[1;33m(\u001b[0m\u001b[0my_train1\u001b[0m\u001b[1;33m)\u001b[0m\u001b[1;33m,\u001b[0m \u001b[0mepochs\u001b[0m\u001b[1;33m=\u001b[0m\u001b[0mepochs\u001b[0m\u001b[1;33m,\u001b[0m \u001b[0mverbose\u001b[0m\u001b[1;33m=\u001b[0m\u001b[1;36m0\u001b[0m\u001b[1;33m,\u001b[0m \u001b[0mbatch_size\u001b[0m\u001b[1;33m=\u001b[0m\u001b[0mbatch_size\u001b[0m\u001b[1;33m,\u001b[0m \u001b[0mshuffle\u001b[0m \u001b[1;33m=\u001b[0m\u001b[1;32mTrue\u001b[0m\u001b[1;33m)\u001b[0m\u001b[1;33m\u001b[0m\u001b[1;33m\u001b[0m\u001b[0m\n\u001b[0m\u001b[0;32m     23\u001b[0m         \u001b[0my_pred_temp\u001b[0m \u001b[1;33m=\u001b[0m \u001b[0mmodel\u001b[0m\u001b[1;33m.\u001b[0m\u001b[0mpredict\u001b[0m\u001b[1;33m(\u001b[0m\u001b[0mvalidation_padded\u001b[0m\u001b[1;33m)\u001b[0m\u001b[1;33m\u001b[0m\u001b[1;33m\u001b[0m\u001b[0m\n\u001b[0;32m     24\u001b[0m         \u001b[0my_pred\u001b[0m \u001b[1;33m=\u001b[0m \u001b[0mpred\u001b[0m\u001b[1;33m(\u001b[0m\u001b[0my_pred_temp\u001b[0m\u001b[1;33m)\u001b[0m\u001b[1;33m\u001b[0m\u001b[1;33m\u001b[0m\u001b[0m\n",
      "\u001b[1;32m~\\anaconda3\\lib\\site-packages\\tensorflow\\python\\keras\\engine\\training_v1.py\u001b[0m in \u001b[0;36mfit\u001b[1;34m(self, x, y, batch_size, epochs, verbose, callbacks, validation_split, validation_data, shuffle, class_weight, sample_weight, initial_epoch, steps_per_epoch, validation_steps, validation_freq, max_queue_size, workers, use_multiprocessing, **kwargs)\u001b[0m\n\u001b[0;32m    807\u001b[0m         \u001b[0mmax_queue_size\u001b[0m\u001b[1;33m=\u001b[0m\u001b[0mmax_queue_size\u001b[0m\u001b[1;33m,\u001b[0m\u001b[1;33m\u001b[0m\u001b[1;33m\u001b[0m\u001b[0m\n\u001b[0;32m    808\u001b[0m         \u001b[0mworkers\u001b[0m\u001b[1;33m=\u001b[0m\u001b[0mworkers\u001b[0m\u001b[1;33m,\u001b[0m\u001b[1;33m\u001b[0m\u001b[1;33m\u001b[0m\u001b[0m\n\u001b[1;32m--> 809\u001b[1;33m         use_multiprocessing=use_multiprocessing)\n\u001b[0m\u001b[0;32m    810\u001b[0m \u001b[1;33m\u001b[0m\u001b[0m\n\u001b[0;32m    811\u001b[0m   def evaluate(self,\n",
      "\u001b[1;32m~\\anaconda3\\lib\\site-packages\\tensorflow\\python\\keras\\engine\\training_arrays.py\u001b[0m in \u001b[0;36mfit\u001b[1;34m(self, model, x, y, batch_size, epochs, verbose, callbacks, validation_split, validation_data, shuffle, class_weight, sample_weight, initial_epoch, steps_per_epoch, validation_steps, validation_freq, **kwargs)\u001b[0m\n\u001b[0;32m    664\u001b[0m         \u001b[0mvalidation_steps\u001b[0m\u001b[1;33m=\u001b[0m\u001b[0mvalidation_steps\u001b[0m\u001b[1;33m,\u001b[0m\u001b[1;33m\u001b[0m\u001b[1;33m\u001b[0m\u001b[0m\n\u001b[0;32m    665\u001b[0m         \u001b[0mvalidation_freq\u001b[0m\u001b[1;33m=\u001b[0m\u001b[0mvalidation_freq\u001b[0m\u001b[1;33m,\u001b[0m\u001b[1;33m\u001b[0m\u001b[1;33m\u001b[0m\u001b[0m\n\u001b[1;32m--> 666\u001b[1;33m         steps_name='steps_per_epoch')\n\u001b[0m\u001b[0;32m    667\u001b[0m \u001b[1;33m\u001b[0m\u001b[0m\n\u001b[0;32m    668\u001b[0m   def evaluate(self,\n",
      "\u001b[1;32m~\\anaconda3\\lib\\site-packages\\tensorflow\\python\\keras\\engine\\training_arrays.py\u001b[0m in \u001b[0;36mmodel_iteration\u001b[1;34m(model, inputs, targets, sample_weights, batch_size, epochs, verbose, callbacks, val_inputs, val_targets, val_sample_weights, shuffle, initial_epoch, steps_per_epoch, validation_steps, validation_freq, mode, validation_in_fit, prepared_feed_values_from_dataset, steps_name, **kwargs)\u001b[0m\n\u001b[0;32m    384\u001b[0m \u001b[1;33m\u001b[0m\u001b[0m\n\u001b[0;32m    385\u001b[0m         \u001b[1;31m# Get outputs.\u001b[0m\u001b[1;33m\u001b[0m\u001b[1;33m\u001b[0m\u001b[1;33m\u001b[0m\u001b[0m\n\u001b[1;32m--> 386\u001b[1;33m         \u001b[0mbatch_outs\u001b[0m \u001b[1;33m=\u001b[0m \u001b[0mf\u001b[0m\u001b[1;33m(\u001b[0m\u001b[0mins_batch\u001b[0m\u001b[1;33m)\u001b[0m\u001b[1;33m\u001b[0m\u001b[1;33m\u001b[0m\u001b[0m\n\u001b[0m\u001b[0;32m    387\u001b[0m         \u001b[1;32mif\u001b[0m \u001b[1;32mnot\u001b[0m \u001b[0misinstance\u001b[0m\u001b[1;33m(\u001b[0m\u001b[0mbatch_outs\u001b[0m\u001b[1;33m,\u001b[0m \u001b[0mlist\u001b[0m\u001b[1;33m)\u001b[0m\u001b[1;33m:\u001b[0m\u001b[1;33m\u001b[0m\u001b[1;33m\u001b[0m\u001b[0m\n\u001b[0;32m    388\u001b[0m           \u001b[0mbatch_outs\u001b[0m \u001b[1;33m=\u001b[0m \u001b[1;33m[\u001b[0m\u001b[0mbatch_outs\u001b[0m\u001b[1;33m]\u001b[0m\u001b[1;33m\u001b[0m\u001b[1;33m\u001b[0m\u001b[0m\n",
      "\u001b[1;32m~\\anaconda3\\lib\\site-packages\\tensorflow\\python\\keras\\backend.py\u001b[0m in \u001b[0;36m__call__\u001b[1;34m(self, inputs)\u001b[0m\n\u001b[0;32m   3823\u001b[0m \u001b[1;33m\u001b[0m\u001b[0m\n\u001b[0;32m   3824\u001b[0m     fetched = self._callable_fn(*array_vals,\n\u001b[1;32m-> 3825\u001b[1;33m                                 run_metadata=self.run_metadata)\n\u001b[0m\u001b[0;32m   3826\u001b[0m     \u001b[0mself\u001b[0m\u001b[1;33m.\u001b[0m\u001b[0m_call_fetch_callbacks\u001b[0m\u001b[1;33m(\u001b[0m\u001b[0mfetched\u001b[0m\u001b[1;33m[\u001b[0m\u001b[1;33m-\u001b[0m\u001b[0mlen\u001b[0m\u001b[1;33m(\u001b[0m\u001b[0mself\u001b[0m\u001b[1;33m.\u001b[0m\u001b[0m_fetches\u001b[0m\u001b[1;33m)\u001b[0m\u001b[1;33m:\u001b[0m\u001b[1;33m]\u001b[0m\u001b[1;33m)\u001b[0m\u001b[1;33m\u001b[0m\u001b[1;33m\u001b[0m\u001b[0m\n\u001b[0;32m   3827\u001b[0m     output_structure = nest.pack_sequence_as(\n",
      "\u001b[1;32m~\\anaconda3\\lib\\site-packages\\tensorflow\\python\\client\\session.py\u001b[0m in \u001b[0;36m__call__\u001b[1;34m(self, *args, **kwargs)\u001b[0m\n\u001b[0;32m   1470\u001b[0m         ret = tf_session.TF_SessionRunCallable(self._session._session,\n\u001b[0;32m   1471\u001b[0m                                                \u001b[0mself\u001b[0m\u001b[1;33m.\u001b[0m\u001b[0m_handle\u001b[0m\u001b[1;33m,\u001b[0m \u001b[0margs\u001b[0m\u001b[1;33m,\u001b[0m\u001b[1;33m\u001b[0m\u001b[1;33m\u001b[0m\u001b[0m\n\u001b[1;32m-> 1472\u001b[1;33m                                                run_metadata_ptr)\n\u001b[0m\u001b[0;32m   1473\u001b[0m         \u001b[1;32mif\u001b[0m \u001b[0mrun_metadata\u001b[0m\u001b[1;33m:\u001b[0m\u001b[1;33m\u001b[0m\u001b[1;33m\u001b[0m\u001b[0m\n\u001b[0;32m   1474\u001b[0m           \u001b[0mproto_data\u001b[0m \u001b[1;33m=\u001b[0m \u001b[0mtf_session\u001b[0m\u001b[1;33m.\u001b[0m\u001b[0mTF_GetBuffer\u001b[0m\u001b[1;33m(\u001b[0m\u001b[0mrun_metadata_ptr\u001b[0m\u001b[1;33m)\u001b[0m\u001b[1;33m\u001b[0m\u001b[1;33m\u001b[0m\u001b[0m\n",
      "\u001b[1;31mKeyboardInterrupt\u001b[0m: "
     ]
    }
   ],
   "source": [
    "def objective_func(args):\n",
    "    max_length = args['max_length']\n",
    "    batch_size = args['batch_size']\n",
    "    learning_rate = args['learning_rate']\n",
    "    epochs = args['epochs']\n",
    "\n",
    "    f1= cross_valid(obama_train_pr_df['Doc Text'],obama_train_pr_df['Sentiment'], epochs,batch_size,max_length, learning_rate)\n",
    "    # loss, f1 = model.evaluate(validation_padded, one_hot(obama_val['Sentiment']))\n",
    "#     f1 = history.history['f1_value'][-1]\n",
    "   \n",
    "    return -round(f1,2)\n",
    "\n",
    "space = {'max_length': hp.choice('max_length',range(4,20)),  \n",
    "        'batch_size': hp.choice('batch_size', [32, 64, 128]),\n",
    "         'epochs': hp.choice('epochs',range(10,30)), \n",
    "         'learning_rate': hp.uniform('learning_rate', 0,0.002)\n",
    "        }\n",
    "                                \n",
    "                                \n",
    "                               \n",
    "best_vanilla_rnn = fmin(objective_func, space, algo=tpe.suggest, max_evals=20)\n",
    "print(best_vanilla_rnn)"
   ]
  },
  {
   "cell_type": "code",
   "execution_count": null,
   "metadata": {},
   "outputs": [],
   "source": []
  },
  {
   "cell_type": "code",
   "execution_count": null,
   "metadata": {
    "colab": {
     "base_uri": "https://localhost:8080/",
     "height": 51
    },
    "id": "Am8LqqY96ghg",
    "outputId": "dc3efc76-9e4e-40fa-dc3e-de60f686d3fe"
   },
   "outputs": [
    {
     "name": "stdout",
     "output_type": "stream",
     "text": [
      "100%|██████████| 20/20 [29:00<00:00, 87.03s/it, best loss: -0.55] \n",
      "{'batch_size': 1, 'epochs': 1, 'learning_rate': 0.0018559993912219612, 'max_length': 3}\n"
     ]
    }
   ],
   "source": [
    "def objective_func(args):\n",
    "    max_length = args['max_length']\n",
    "    batch_size = args['batch_size']\n",
    "    learning_rate = args['learning_rate']\n",
    "    epochs = args['epochs']\n",
    "\n",
    "    \n",
    "    encoded_train = tokenise_tf.texts_to_sequences(obama_train['Doc Text'])\n",
    "    training_padded = pad_sequences(encoded_train, maxlen=max_length, padding='post', truncating = 'pre')\n",
    "    embedding_matrix, vocab_size = emb_matrix(tokenise_tf, embeddings2)\n",
    "\n",
    "    encoded_validation = tokenise_tf.texts_to_sequences(obama_val['Doc Text'])\n",
    "    validation_padded = pad_sequences(encoded_validation, maxlen=max_length, padding='post', truncating = 'pre')\n",
    "\n",
    "    adam_optimizer = optimizers.Adam(learning_rate=learning_rate)\n",
    "    model = model_vanilla_rnn(embedding_matrix, 300, vocab_size, max_length, adam_optimizer, 'tanh', 0.2, 0.001, 0.001)\n",
    "\n",
    "    history = model.fit(training_padded, one_hot(obama_train['Sentiment']), epochs=epochs, verbose=0, batch_size=batch_size, shuffle =True)\n",
    "    y_pred_temp = model.predict(validation_padded)\n",
    "    y_pred = pred(y_pred_temp)\n",
    "    f1= f1_score(obama_val['Sentiment'], y_pred, average = 'macro')\n",
    "    # loss, f1 = model.evaluate(validation_padded, one_hot(obama_val['Sentiment']))\n",
    "#     f1 = history.history['f1_value'][-1]\n",
    "   \n",
    "    return -round(f1,2)\n",
    "\n",
    "space = {'max_length': hp.choice('max_length',range(4,20)),  \n",
    "        'batch_size': hp.choice('batch_size', [32, 64, 128]),\n",
    "         'epochs': hp.choice('epochs',range(10,30)), \n",
    "         'learning_rate': hp.uniform('learning_rate', 0,0.002)\n",
    "        }\n",
    "                                \n",
    "                                \n",
    "tokenise_tf = Tokenizer()\n",
    "tokenise_tf.fit_on_texts(obama_train['Doc Text'])                                \n",
    "best_vanilla_rnn = fmin(objective_func, space, algo=tpe.suggest, max_evals=20)\n",
    "print(best_vanilla_rnn)"
   ]
  },
  {
   "cell_type": "code",
   "execution_count": null,
   "metadata": {
    "colab": {
     "base_uri": "https://localhost:8080/",
     "height": 221
    },
    "id": "jfD4GJ3tNQbo",
    "outputId": "676ee689-d0f4-4169-a819-990b7d3e9d5b"
   },
   "outputs": [
    {
     "name": "stdout",
     "output_type": "stream",
     "text": [
      "Train on 4376 samples\n",
      "Epoch 1/5\n",
      "4376/4376 [==============================] - 2s 431us/sample - loss: 8.9841\n",
      "Epoch 2/5\n",
      "4376/4376 [==============================] - 2s 418us/sample - loss: 6.2251\n",
      "Epoch 3/5\n",
      "4376/4376 [==============================] - 2s 417us/sample - loss: 4.1734\n",
      "Epoch 4/5\n",
      "4376/4376 [==============================] - 2s 424us/sample - loss: 2.7909\n",
      "Epoch 5/5\n",
      "4376/4376 [==============================] - 2s 428us/sample - loss: 2.0136\n",
      "0.49177330895795246\n"
     ]
    }
   ],
   "source": [
    "max_length = 5\n",
    "epochs = 5\n",
    "batch_size = 64\n",
    "learning_rate = 0.0007711038235329859\n",
    "\n",
    "tokenise_tf = Tokenizer()\n",
    "tokenise_tf.fit_on_texts(obama_train['Doc Text'])   \n",
    "encoded_train = tokenise_tf.texts_to_sequences(obama_train['Doc Text'])\n",
    "training_padded = pad_sequences(encoded_train, maxlen=max_length, padding='post', truncating = 'pre')\n",
    "embedding_matrix, vocab_size = emb_matrix(tokenise_tf, embeddings2)\n",
    "\n",
    "encoded_validation = tokenise_tf.texts_to_sequences(obama_val['Doc Text'])\n",
    "validation_padded = pad_sequences(encoded_validation, maxlen=max_length, padding='post', truncating = 'pre')\n",
    "\n",
    "adam_optimizer = optimizers.Adam(learning_rate=learning_rate)\n",
    "model = model_vanilla_rnn(embedding_matrix, 300, vocab_size, max_length, adam_optimizer, 'tanh', 0.2, 0.001, 0.001)\n",
    "\n",
    "history = model.fit(training_padded, one_hot(obama_train['Sentiment']), epochs=epochs, verbose=1, batch_size=batch_size, shuffle =True)\n",
    "y_pred_temp = model.predict(validation_padded)\n",
    "y_pred = pred(y_pred_temp)\n",
    "acc= accuracy_score(obama_val['Sentiment'], y_pred)\n",
    "print(acc)\n",
    "\n",
    "\n"
   ]
  },
  {
   "cell_type": "markdown",
   "metadata": {
    "id": "IpDDkemAhldQ"
   },
   "source": [
    "# For vanilla rnn, the best hyper parameters are:\n",
    "# 'batch_size': 128, 'epochs': 6, 'learning_rate': 0.0003, 'max_length': 68"
   ]
  },
  {
   "cell_type": "code",
   "execution_count": null,
   "metadata": {
    "id": "0ougNDoQpZea"
   },
   "outputs": [],
   "source": [
    "# {'batch_size': 0, 'epochs': 7, 'max_length': 59, 'padd': 0, 'trunc': 0}"
   ]
  },
  {
   "cell_type": "code",
   "execution_count": null,
   "metadata": {
    "id": "5JhmM1-BpZed"
   },
   "outputs": [],
   "source": []
  },
  {
   "cell_type": "code",
   "execution_count": null,
   "metadata": {
    "id": "rN74XEQLpZef"
   },
   "outputs": [],
   "source": [
    "def objective_func(args):\n",
    "    max_length = args['max_length']\n",
    "    batch_size = args['batch_size']\n",
    "    learning_rate = args['learning_rate']\n",
    "    epochs = args['epochs']\n",
    "\n",
    "    \n",
    "    encoded_train = tokenise_tf.texts_to_sequences(training['Doc Text'])\n",
    "    training_padded = pad_sequences(encoded_train, maxlen=max_length, padding='post', truncating = 'pre')\n",
    "    embedding_matrix, vocab_size = emb_matrix(tokenise_tf, embeddings)\n",
    "\n",
    "    encoded_validation = tokenise_tf.texts_to_sequences(validation['Doc Text'])\n",
    "    validation_padded = pad_sequences(encoded_validation, maxlen=max_length, padding='post', truncating = 'pre')\n",
    "    \n",
    "    adam_optimizer = optimizers.Adam(learning_rate=learning_rate)\n",
    "    model = model_lstm(embedding_matrix, 300, vocab_size, max_length, adam_optimizer, 'tanh', 0.2, 0.001, 0.001)\n",
    "\n",
    "    history = model.fit(training_padded, training['Sentiment'], epochs=epochs, verbose=0, batch_size=batch_size, shuffle =True, validation_data = (validation_padded, validation['Sentiment']))\n",
    "    accuracy = round(history.history['val_accuracy'][-1],2)\n",
    "    u = {}\n",
    "    u['max_len'] = max_length\n",
    "    u['batch'] = batch_size\n",
    "    u['l_rate'] = round(learning_rate,5)\n",
    "    u['epochs'] = epochs\n",
    "\n",
    "    fig, ax = plt.subplots(1,2,figsize = (20,5))\n",
    "\n",
    "    ax[0].plot(history.history['loss'], label='Training')\n",
    "    ax[0].plot(history.history['val_loss'], c='r',label='Validation')\n",
    "    ax[0].legend(loc='upper left')\n",
    "    ax[0].title.set_text('Loss plot for the combination ' + str(u))\n",
    "\n",
    "\n",
    "    ax[1].plot(history.history['accuracy'], label='Training')\n",
    "    ax[1].plot(history.history['val_accuracy'], c='r',label='Validation')\n",
    "    ax[1].legend(loc='upper left')\n",
    "    ax[1].title.set_text('Accuracy plot for the combination ' + str(u))  \n",
    "    plt.show()\n",
    "\n",
    "    return -round(accuracy,2)\n",
    "\n",
    "space = {'max_length': hp.choice('max_length',range(4,75)),  \n",
    "        'batch_size': hp.choice('batch_size', [32, 64, 128]),\n",
    "         'epochs': hp.choice('epochs',range(5,20)), \n",
    "         'learning_rate': hp.uniform('learning_rate', 0,0.002)\n",
    "        }             \n",
    "                                \n",
    "tokenise_tf = Tokenizer()\n",
    "tokenise_tf.fit_on_texts(training['Doc Text'])                                \n",
    "best_lstm = fmin(objective_func, space, algo=tpe.suggest, max_evals=10)\n",
    "print(best_lstm)"
   ]
  },
  {
   "cell_type": "markdown",
   "metadata": {
    "id": "c6vO3cE8h-Np"
   },
   "source": [
    "# For LSTM rnn, the best hyper parameters are:\n",
    "# 'batch_size': 128, 'epochs': 10, 'learning_rate': 0.002, 'max_length': 50"
   ]
  },
  {
   "cell_type": "code",
   "execution_count": null,
   "metadata": {
    "id": "Cf5oOkX5h_15"
   },
   "outputs": [],
   "source": []
  },
  {
   "cell_type": "code",
   "execution_count": null,
   "metadata": {
    "id": "Lgt4uCrYpZeh"
   },
   "outputs": [],
   "source": [
    "def objective_func(args):\n",
    "    max_length = args['max_length']\n",
    "    batch_size = args['batch_size']\n",
    "    learning_rate = args['learning_rate']\n",
    "    epochs = args['epochs']\n",
    "    \n",
    "    encoded_train = tokenise_tf.texts_to_sequences(training['Doc Text'])\n",
    "    training_padded = pad_sequences(encoded_train, maxlen=max_length, padding='post', truncating = 'pre')\n",
    "\n",
    "    embedding_matrix, vocab_size = emb_matrix(tokenise_tf, embeddings)\n",
    "\n",
    "    encoded_validation = tokenise_tf.texts_to_sequences(validation['Doc Text'])\n",
    "    validation_padded = pad_sequences(encoded_validation, maxlen=max_length, padding='post', truncating = 'pre') \n",
    "    \n",
    "    adam_optimizer = optimizers.Adam(learning_rate=learning_rate)\n",
    "    model = model_gru(embedding_matrix, 300, vocab_size, max_length, adam_optimizer, 'tanh', 0.2, 0.001, 0.001)\n",
    "\n",
    "    history = model.fit(training_padded, training['Sentiment'], epochs=epochs, verbose=0, batch_size=batch_size, shuffle =True, validation_data = (validation_padded, validation['Sentiment']))\n",
    "    accuracy = history.history['val_accuracy'][-1]\n",
    "    u = {}\n",
    "    u['max_len'] = max_length\n",
    "    u['batch'] = batch_size\n",
    "    u['l_rate'] = round(learning_rate,5)\n",
    "    u['epochs'] = epochs\n",
    "\n",
    "    fig, ax = plt.subplots(1,2,figsize = (20,5))\n",
    "\n",
    "    ax[0].plot(history.history['loss'], label='Training')\n",
    "    ax[0].plot(history.history['val_loss'], c='r',label='Validation')\n",
    "    ax[0].legend(loc='upper left')\n",
    "    ax[0].title.set_text('Loss plot for the combination ' + str(u))\n",
    "\n",
    "\n",
    "    ax[1].plot(history.history['accuracy'], label='Training')\n",
    "    ax[1].plot(history.history['val_accuracy'], c='r',label='Validation')\n",
    "    ax[1].legend(loc='upper left')\n",
    "    ax[1].title.set_text('Accuracy plot for the combination ' + str(u))  \n",
    "    plt.show()\n",
    "\n",
    "#     encoded_validation = tokenise_tf.texts_to_sequences(validation['Doc Text'])\n",
    "\n",
    "#     validation_padded = pad_sequences(encoded_validation, maxlen=max_length, padding=padd, truncating = trunc)\n",
    "#     loss, accuracy = model.evaluate(validation_padded, validation['Sentiment'], verbose=0)\n",
    "    return -round((accuracy),2)\n",
    "\n",
    "space = {'max_length': hp.choice('max_length',range(4,75)),  \n",
    "        'batch_size': hp.choice('batch_size', [32, 64, 128]),\n",
    "         'epochs': hp.choice('epochs',range(5,20)), \n",
    "         'learning_rate': hp.uniform('learning_rate', 0,0.002)\n",
    "        }\n",
    "                                \n",
    "                                \n",
    "tokenise_tf = Tokenizer()\n",
    "tokenise_tf.fit_on_texts(training['Doc Text'])                                \n",
    "best_gru = fmin(objective_func, space, algo=tpe.suggest, max_evals=10)\n",
    "print(best_gru)"
   ]
  },
  {
   "cell_type": "markdown",
   "metadata": {
    "id": "illGwOwGiO_y"
   },
   "source": [
    "# For GRU rnn, the best hyper parameters are:\n",
    "# 'batch_size': 64, 'epochs': 7, 'learning_rate': 0.0006, 'max_length': 11"
   ]
  },
  {
   "cell_type": "code",
   "execution_count": null,
   "metadata": {
    "id": "hTooPqJ3pZej"
   },
   "outputs": [],
   "source": []
  },
  {
   "cell_type": "code",
   "execution_count": null,
   "metadata": {
    "id": "SmX0YNPUQDjL"
   },
   "outputs": [],
   "source": []
  },
  {
   "cell_type": "code",
   "execution_count": null,
   "metadata": {
    "id": "FagU-LZrpZeu"
   },
   "outputs": [],
   "source": [
    "# max_length = 40\n",
    "# epochs = 15\n",
    "# batch_size = 64\n",
    "# learning_rate = 0.001\n",
    "\n",
    "# encoded_train = tokenise_tf.texts_to_sequences(training['Doc Text'])\n",
    "# training_padded = pad_sequences(encoded_train, maxlen=max_length, padding='post', truncating = 'pre')\n",
    "# embedding_matrix, vocab_size = emb_matrix(tokenise_tf, embeddings)\n",
    "\n",
    "# encoded_validation = tokenise_tf.texts_to_sequences(validation['Doc Text'])\n",
    "# validation_padded = pad_sequences(encoded_validation, maxlen=max_length, padding='post', truncating = 'pre')\n",
    "\n",
    "# adam_optimizer = optimizers.Adam(learning_rate=learning_rate)\n",
    "# model = model_vanilla_rnn(embedding_matrix, vocab_size, max_length, adam_optimizer, 'tanh', 0.2, 0.001, 0.001)\n",
    "\n",
    "# history = model.fit(training_padded, training['Sentiment'], epochs=epochs, verbose=2, batch_size=batch_size, shuffle =True, validation_data = (validation_padded, validation['Sentiment']))\n",
    "# accuracy = history.history['val_accuracy'][-1]\n",
    "\n"
   ]
  },
  {
   "cell_type": "markdown",
   "metadata": {
    "id": "vbdqiyy_ibn4"
   },
   "source": [
    "# Experimenting with the Network Architecture"
   ]
  },
  {
   "cell_type": "markdown",
   "metadata": {
    "id": "Dmf1gvnwjj0E"
   },
   "source": [
    "## Using the Final \f",
    "hidden state as the output"
   ]
  },
  {
   "cell_type": "markdown",
   "metadata": {
    "id": "ffW7HsAY_SD_"
   },
   "source": [
    "## max_length = 40\n",
    "## epochs = 15\n",
    "## batch_size = 64\n",
    "## learning_rate = 0.001"
   ]
  },
  {
   "cell_type": "code",
   "execution_count": null,
   "metadata": {
    "id": "whLYqoGw_K4q"
   },
   "outputs": [],
   "source": [
    "\n",
    "def par_selec(model_r, max_length, nnh):\n",
    "  # max_length = 40\n",
    "  epochs = 15\n",
    "  batch_size = 64\n",
    "  learning_rate = 0.001\n",
    "\n",
    "  tokenise_tf = Tokenizer()\n",
    "  tokenise_tf.fit_on_texts(training['Doc Text']) \n",
    "\n",
    "  encoded_train = tokenise_tf.texts_to_sequences(training['Doc Text'])\n",
    "  training_padded = pad_sequences(encoded_train, maxlen=max_length, padding='post', truncating = 'pre')\n",
    "\n",
    "  embedding_matrix, vocab_size = emb_matrix(tokenise_tf, embeddings)\n",
    "\n",
    "  encoded_validation = tokenise_tf.texts_to_sequences(validation['Doc Text'])\n",
    "  validation_padded = pad_sequences(encoded_validation, maxlen=max_length, padding='post', truncating = 'pre')\n",
    "\n",
    "\n",
    "  adam_optimizer = optimizers.Adam(learning_rate=learning_rate)\n",
    "  model = model_r(embedding_matrix, nnh, vocab_size, max_length, adam_optimizer, 'tanh', 0.2, 0.001, 0.001)\n",
    "\n",
    "  history = model.fit(training_padded, training['Sentiment'], epochs=epochs, verbose=0, batch_size=batch_size, shuffle =True, validation_data = (validation_padded, validation['Sentiment']))\n",
    "  accuracy = history.history['val_accuracy'][-1]\n",
    "\n",
    "  u = {}\n",
    "  u['max_len'] = max_length\n",
    "  u['batch'] = batch_size\n",
    "  u['l_rate'] = learning_rate\n",
    "  u['epochs'] = epochs\n",
    "\n",
    "  fig, ax = plt.subplots(1,2,figsize = (20,5))\n",
    "\n",
    "  ax[0].plot(history.history['loss'], label='Training')\n",
    "  ax[0].plot(history.history['val_loss'], c='r',label='Validation')\n",
    "  ax[0].legend(loc='upper left')\n",
    "  ax[0].title.set_text('Loss plot for the combination ' + str(u))\n",
    "\n",
    "\n",
    "  ax[1].plot(history.history['accuracy'], label='Training')\n",
    "  ax[1].plot(history.history['val_accuracy'], c='r',label='Validation')\n",
    "  ax[1].legend(loc='upper left')\n",
    "  ax[1].title.set_text('Accuracy plot for the combination ' + str(u))  \n",
    "  plt.show()\n",
    "\n",
    "  print('Accuracy for ' + str(nnh) + ' hidden units ' + str(max_length) + ' sequence length: ' + str(accuracy))\n"
   ]
  },
  {
   "cell_type": "code",
   "execution_count": null,
   "metadata": {
    "id": "qoSZZjwb7TRx"
   },
   "outputs": [],
   "source": []
  },
  {
   "cell_type": "markdown",
   "metadata": {
    "id": "nDJxWgnn7Tw8"
   },
   "source": [
    "## Changing the no of hidden units\n",
    "## Keeping max_length = 40\n",
    "## epochs = 15\n",
    "## batch_size = 64\n",
    "## learning_rate = 0.001\n"
   ]
  },
  {
   "cell_type": "code",
   "execution_count": null,
   "metadata": {
    "id": "2Yn9-A557TxB"
   },
   "outputs": [],
   "source": [
    "par_selec(model_vanilla_rnn, 40, 300)"
   ]
  },
  {
   "cell_type": "code",
   "execution_count": null,
   "metadata": {
    "id": "J5ATsHkx7TxS"
   },
   "outputs": [],
   "source": [
    "par_selec(model_lstm, 40, 300)"
   ]
  },
  {
   "cell_type": "code",
   "execution_count": null,
   "metadata": {
    "id": "Wa9_OGRP7TxY"
   },
   "outputs": [],
   "source": [
    "par_selec(model_gru, 40, 300)"
   ]
  },
  {
   "cell_type": "markdown",
   "metadata": {
    "id": "Fs3tQI087Txe"
   },
   "source": [
    "## Doubling the no of hidden units"
   ]
  },
  {
   "cell_type": "code",
   "execution_count": null,
   "metadata": {
    "id": "44Tox3Py7Txe"
   },
   "outputs": [],
   "source": [
    "par_selec(model_vanilla_rnn, 40, 600)"
   ]
  },
  {
   "cell_type": "markdown",
   "metadata": {
    "id": "cClcEyhU7Txl"
   },
   "source": [
    "### For Vanilla RNN,  With double the no of hidden units, the accuracy reduced from 60 to 56 percent."
   ]
  },
  {
   "cell_type": "code",
   "execution_count": null,
   "metadata": {
    "id": "tZrghPzq7Txm"
   },
   "outputs": [],
   "source": [
    "par_selec(model_lstm, 40, 600)"
   ]
  },
  {
   "cell_type": "markdown",
   "metadata": {
    "id": "Q9v5oT1L7Txr"
   },
   "source": [
    "### For LSTM, With double the no of hidden units, the accuracy slightly increased from 72 to 73 percent."
   ]
  },
  {
   "cell_type": "code",
   "execution_count": null,
   "metadata": {
    "id": "_GUX6NVE7Tx2"
   },
   "outputs": [],
   "source": [
    "par_selec(model_gru, 40, 600)"
   ]
  },
  {
   "cell_type": "markdown",
   "metadata": {
    "id": "7hXiStNo7Tx8"
   },
   "source": [
    "### For GRU, With double the no of hidden units, the accuracy didn't change from 50"
   ]
  },
  {
   "cell_type": "markdown",
   "metadata": {
    "id": "yvcJ1EEAj-5y"
   },
   "source": []
  },
  {
   "cell_type": "markdown",
   "metadata": {
    "id": "YCKOM-Oq7Tx9"
   },
   "source": [
    "# Halving the no of hidden units"
   ]
  },
  {
   "cell_type": "code",
   "execution_count": null,
   "metadata": {
    "id": "DGVzQb0G7Tx-"
   },
   "outputs": [],
   "source": [
    "par_selec(model_vanilla_rnn, 40, 150)"
   ]
  },
  {
   "cell_type": "markdown",
   "metadata": {
    "id": "2vUi_W427TyE"
   },
   "source": [
    "### With halve the no of hidden units, the accuracy increased from 60 to 73."
   ]
  },
  {
   "cell_type": "code",
   "execution_count": null,
   "metadata": {
    "id": "tJS0-PRv7TyG"
   },
   "outputs": [],
   "source": [
    "par_selec(model_lstm, 40, 150)"
   ]
  },
  {
   "cell_type": "markdown",
   "metadata": {
    "id": "jP9J5ZPS7TyK"
   },
   "source": [
    "### For LSTM, With halve the no of hidden units, the accuracy increased from 72 to 74 percent."
   ]
  },
  {
   "cell_type": "code",
   "execution_count": null,
   "metadata": {
    "id": "Ceg8MQq87TyM"
   },
   "outputs": [],
   "source": [
    "par_selec(model_gru, 40, 150)"
   ]
  },
  {
   "cell_type": "markdown",
   "metadata": {
    "id": "JibZiZXD7TyQ"
   },
   "source": [
    "### For GRU, With halve the no of hidden units, the accuracy remain unchanged."
   ]
  },
  {
   "cell_type": "markdown",
   "metadata": {
    "id": "eScyCusZ7TyR"
   },
   "source": [
    "# Changing the max_length \n",
    "# Keeping no of hidden units = 300\n",
    "# epochs = 15\n",
    "# batch_size = 64\n",
    "# learning_rate = 0.001\n"
   ]
  },
  {
   "cell_type": "markdown",
   "metadata": {
    "id": "dAgLy7G27TyR"
   },
   "source": [
    "## Doubling the sequence length from 40 to 80"
   ]
  },
  {
   "cell_type": "code",
   "execution_count": null,
   "metadata": {
    "id": "MGLD_44Z7TyT"
   },
   "outputs": [],
   "source": [
    "par_selec(model_vanilla_rnn, 80, 300)"
   ]
  },
  {
   "cell_type": "markdown",
   "metadata": {
    "id": "Nj_9UVMY7TyX"
   },
   "source": [
    "### For vanilla rnn, With double the sequence length, there was a decrease in accuracy from 60 to 53\n",
    "\n"
   ]
  },
  {
   "cell_type": "code",
   "execution_count": null,
   "metadata": {
    "id": "J4mHJuFk7TyY"
   },
   "outputs": [],
   "source": [
    "par_selec(model_lstm, 80, 300)"
   ]
  },
  {
   "cell_type": "markdown",
   "metadata": {
    "id": "HyOMu3Gj7Tyd"
   },
   "source": [
    "### For LSTM, With double the sequence length, there was a decrease in accuracy from 72 to 50\n",
    "\n"
   ]
  },
  {
   "cell_type": "code",
   "execution_count": null,
   "metadata": {
    "id": "8y17kI_X7Tyf"
   },
   "outputs": [],
   "source": [
    "par_selec(model_gru, 80, 300)"
   ]
  },
  {
   "cell_type": "markdown",
   "metadata": {
    "id": "CtNmEflB7Tyk"
   },
   "source": [
    "### For GRU, With double the sequence length, there was no change in accuracy from 50\n",
    "\n"
   ]
  },
  {
   "cell_type": "markdown",
   "metadata": {
    "id": "Wt3_Uirp7Tyk"
   },
   "source": [
    "# When we increase the sequence length we might include noisy (unimportant) words that would change the sentiment of the sentence\n"
   ]
  },
  {
   "cell_type": "markdown",
   "metadata": {
    "id": "DRRMJvPi7Tyl"
   },
   "source": [
    "## Halving the sequence length from 40 to 20"
   ]
  },
  {
   "cell_type": "code",
   "execution_count": null,
   "metadata": {
    "id": "xSNoA1q47Tym"
   },
   "outputs": [],
   "source": [
    "par_selec(model_vanilla_rnn, 20, 300)"
   ]
  },
  {
   "cell_type": "markdown",
   "metadata": {
    "id": "cphAW4jM7Tyu"
   },
   "source": [
    "### For vanilla RNN, With half the sequence length, there was an increase in accuracy from 60 to 73\n"
   ]
  },
  {
   "cell_type": "code",
   "execution_count": null,
   "metadata": {
    "id": "VuGQ9V1i7Tyu"
   },
   "outputs": [],
   "source": [
    "par_selec(model_lstm, 20, 300)"
   ]
  },
  {
   "cell_type": "markdown",
   "metadata": {
    "id": "yUyjDAP87Tyy"
   },
   "source": [
    "### For LSTM, With half the sequence length, the accuracy increased from 72 to 74 percent.\n"
   ]
  },
  {
   "cell_type": "code",
   "execution_count": null,
   "metadata": {
    "id": "df9j5BS97Tyz"
   },
   "outputs": [],
   "source": [
    "par_selec(model_gru, 20, 300)"
   ]
  },
  {
   "cell_type": "markdown",
   "metadata": {
    "id": "hqoXjGKQ7Ty4"
   },
   "source": [
    "### For GRU, With half the sequence length, the accuracy increased from 50 to 74 percent.\n"
   ]
  },
  {
   "cell_type": "markdown",
   "metadata": {
    "id": "Wf62lx_C7Ty4"
   },
   "source": [
    "\n",
    "## It makes sense as when we decrease the sequence length we might concentrate more on the important words that change the sentiment of the sentence"
   ]
  },
  {
   "cell_type": "markdown",
   "metadata": {
    "id": "qvPmoZjc7Ty4"
   },
   "source": [
    "###"
   ]
  },
  {
   "cell_type": "markdown",
   "metadata": {
    "id": "NBhjO4nN7Ty5"
   },
   "source": [
    "## Fine tuning the word embeddings of 300 dimensions using mittens library"
   ]
  },
  {
   "cell_type": "code",
   "execution_count": null,
   "metadata": {
    "id": "9heV52M07Ty6"
   },
   "outputs": [],
   "source": [
    "def finetune(training): \n",
    "  training_tokens = [word_tokenize(i) for i in training['Doc Text']]\n",
    "  #training_tokens\n",
    "\n",
    "  oov = [j for i in training_tokens for j in i if j not in embeddings.keys()]\n",
    "  print(len(oov))\n",
    "\n",
    "  corp_vocab = list(set(oov))\n",
    "\n",
    "  cv = CountVectorizer(ngram_range=(1,1), vocabulary=corp_vocab)\n",
    "  trr =''\n",
    "  for i in training_tokens:\n",
    "    for j in i:\n",
    "      trr+= j\n",
    "      trr += ' '\n",
    "\n",
    "  # print(trr)\n",
    "  # print(z)\n",
    "  X = cv.fit_transform([trr])\n",
    "  Xc = (X.T * X)\n",
    "  Xc.setdiag(0)\n",
    "  coocc_ar = Xc.toarray()\n",
    "\n",
    "  mittens_model = Mittens(n=300, max_iter=1000)\n",
    "\n",
    "  new_embeddings = mittens_model.fit(\n",
    "      coocc_ar,\n",
    "      vocab=corp_vocab,\n",
    "      initial_embedding_dict= embeddings)\n",
    "\n",
    "  new_embeddings = dict(zip(corp_vocab, new_embeddings))\n",
    "  return training_tokens, new_embeddings\n",
    "  \n"
   ]
  },
  {
   "cell_type": "code",
   "execution_count": null,
   "metadata": {
    "id": "vwP2PO-T7Ty8"
   },
   "outputs": [],
   "source": [
    "embeddings2= embeddings.copy()\n",
    "\n",
    "training_tokens, new_embeddings = finetune(training)\n",
    "embeddings2.update(new_embeddings)"
   ]
  },
  {
   "cell_type": "code",
   "execution_count": null,
   "metadata": {
    "id": "Mt98x9ps7TzA"
   },
   "outputs": [],
   "source": [
    "oov2 = [j for i in training_tokens for j in i if j not in embeddings2.keys()]\n",
    "print(len(oov2))"
   ]
  },
  {
   "cell_type": "markdown",
   "metadata": {
    "id": "D-Pn9IMU7TzD"
   },
   "source": [
    "### Using new embeddings for the vanilla rnn em"
   ]
  },
  {
   "cell_type": "code",
   "execution_count": null,
   "metadata": {
    "id": "7HQ7f4bd7TzE"
   },
   "outputs": [],
   "source": [
    "def objective_func(args):\n",
    "    max_length = args['max_length']\n",
    "    batch_size = args['batch_size']\n",
    "    learning_rate = args['learning_rate']\n",
    "    epochs = args['epochs']\n",
    "\n",
    "    \n",
    "    encoded_train = tokenise_tf.texts_to_sequences(training['Doc Text'])\n",
    "    training_padded = pad_sequences(encoded_train, maxlen=max_length, padding='post', truncating = 'pre')\n",
    "\n",
    "    embedding_matrix, vocab_size = emb_matrix(tokenise_tf, embeddings2)\n",
    "\n",
    "    encoded_validation = tokenise_tf.texts_to_sequences(validation['Doc Text'])\n",
    "    validation_padded = pad_sequences(encoded_validation, maxlen=max_length, padding='post', truncating = 'pre') \n",
    "    \n",
    "    adam_optimizer = optimizers.Adam(learning_rate=learning_rate)\n",
    "    model = model_vanilla_rnn(embedding_matrix, 300, vocab_size, max_length, adam_optimizer, 'tanh', 0.2, 0.001, 0.001)\n",
    "\n",
    "    history = model.fit(training_padded, training['Sentiment'], epochs=epochs, verbose=0, batch_size=batch_size, shuffle =True, validation_data = (validation_padded, validation['Sentiment']))\n",
    "    accuracy = history.history['val_accuracy'][-1]\n",
    "    u = {}\n",
    "    u['max_len'] = max_length\n",
    "    u['batch'] = batch_size\n",
    "    u['l_rate'] = round(learning_rate,5)\n",
    "    u['epochs'] = epochs\n",
    "\n",
    "    fig, ax = plt.subplots(1,2,figsize = (20,5))\n",
    "\n",
    "    ax[0].plot(history.history['loss'], label='Training')\n",
    "    ax[0].plot(history.history['val_loss'], c='r',label='Validation')\n",
    "    ax[0].legend(loc='upper left')\n",
    "    ax[0].title.set_text('Loss plot for the combination ' + str(u))\n",
    "\n",
    "\n",
    "    ax[1].plot(history.history['accuracy'], label='Training')\n",
    "    ax[1].plot(history.history['val_accuracy'], c='r',label='Validation')\n",
    "    ax[1].legend(loc='upper left')\n",
    "    ax[1].title.set_text('Accuracy plot for the combination ' + str(u))  \n",
    "    plt.show()\n",
    "\n",
    "#     encoded_validation = tokenise_tf.texts_to_sequences(validation['Doc Text'])\n",
    "\n",
    "#     validation_padded = pad_sequences(encoded_validation, maxlen=max_length, padding=padd, truncating = trunc)\n",
    "#     loss, accuracy = model.evaluate(validation_padded, validation['Sentiment'], verbose=0)\n",
    "    return -round(accuracy,2)\n",
    "\n",
    "space = {'max_length': hp.choice('max_length',range(4,75)),  \n",
    "        'batch_size': hp.choice('batch_size', [32, 64, 128]),\n",
    "         'epochs': hp.choice('epochs',range(5,20)), \n",
    "         'learning_rate': hp.uniform('learning_rate', 0,0.002)\n",
    "        }\n",
    "                                \n",
    "                                \n",
    "tokenise_tf = Tokenizer()\n",
    "tokenise_tf.fit_on_texts(training['Doc Text'])                                \n",
    "best_vanilla_rnn2 = fmin(objective_func, space, algo=tpe.suggest, max_evals=10)\n",
    "print(best_vanilla_rnn2)"
   ]
  },
  {
   "cell_type": "code",
   "execution_count": null,
   "metadata": {
    "id": "IsOrfMuhDgOV"
   },
   "outputs": [],
   "source": [
    "def objective_func(args):\n",
    "    max_length = args['max_length']\n",
    "    batch_size = args['batch_size']\n",
    "    learning_rate = args['learning_rate']\n",
    "    epochs = args['epochs']\n",
    "\n",
    "    \n",
    "    encoded_train = tokenise_tf.texts_to_sequences(training['Doc Text'])\n",
    "    training_padded = pad_sequences(encoded_train, maxlen=max_length, padding='post', truncating = 'pre')\n",
    "\n",
    "    embedding_matrix, vocab_size = emb_matrix(tokenise_tf, embeddings2)\n",
    "\n",
    "    encoded_validation = tokenise_tf.texts_to_sequences(validation['Doc Text'])\n",
    "    validation_padded = pad_sequences(encoded_validation, maxlen=max_length, padding='post', truncating = 'pre') \n",
    "    \n",
    "    adam_optimizer = optimizers.Adam(learning_rate=learning_rate)\n",
    "    model = model_lstm(embedding_matrix, 300, vocab_size, max_length, adam_optimizer, 'tanh', 0.2, 0.001, 0.001)\n",
    "\n",
    "    history = model.fit(training_padded, training['Sentiment'], epochs=epochs, verbose=0, batch_size=batch_size, shuffle =True, validation_data = (validation_padded, validation['Sentiment']))\n",
    "    accuracy = history.history['val_accuracy'][-1]\n",
    "    u = {}\n",
    "    u['max_len'] = max_length\n",
    "    u['batch'] = batch_size\n",
    "    u['l_rate'] = round(learning_rate,5)\n",
    "    u['epochs'] = epochs\n",
    "\n",
    "    fig, ax = plt.subplots(1,2,figsize = (20,5))\n",
    "\n",
    "    ax[0].plot(history.history['loss'], label='Training')\n",
    "    ax[0].plot(history.history['val_loss'], c='r',label='Validation')\n",
    "    ax[0].legend(loc='upper left')\n",
    "    ax[0].title.set_text('Loss plot for the combination ' + str(u))\n",
    "\n",
    "\n",
    "    ax[1].plot(history.history['accuracy'], label='Training')\n",
    "    ax[1].plot(history.history['val_accuracy'], c='r',label='Validation')\n",
    "    ax[1].legend(loc='upper left')\n",
    "    ax[1].title.set_text('Accuracy plot for the combination ' + str(u))  \n",
    "    plt.show()\n",
    "\n",
    "#     encoded_validation = tokenise_tf.texts_to_sequences(validation['Doc Text'])\n",
    "\n",
    "#     validation_padded = pad_sequences(encoded_validation, maxlen=max_length, padding=padd, truncating = trunc)\n",
    "#     loss, accuracy = model.evaluate(validation_padded, validation['Sentiment'], verbose=0)\n",
    "    return -round(accuracy,2)\n",
    "\n",
    "space = {'max_length': hp.choice('max_length',range(4,75)),  \n",
    "        'batch_size': hp.choice('batch_size', [32, 64, 128]),\n",
    "         'epochs': hp.choice('epochs',range(5,20)), \n",
    "         'learning_rate': hp.uniform('learning_rate', 0,0.002)\n",
    "        }\n",
    "                                \n",
    "                                \n",
    "tokenise_tf = Tokenizer()\n",
    "tokenise_tf.fit_on_texts(training['Doc Text'])                                \n",
    "best_lstm2 = fmin(objective_func, space, algo=tpe.suggest, max_evals=10)\n",
    "print(best_lstm2)"
   ]
  },
  {
   "cell_type": "code",
   "execution_count": null,
   "metadata": {
    "id": "g4PHN2V08O-j"
   },
   "outputs": [],
   "source": [
    "def objective_func(args):\n",
    "    max_length = args['max_length']\n",
    "    batch_size = args['batch_size']\n",
    "    learning_rate = args['learning_rate']\n",
    "    epochs = args['epochs']\n",
    "\n",
    "    \n",
    "    encoded_train = tokenise_tf.texts_to_sequences(training['Doc Text'])\n",
    "    training_padded = pad_sequences(encoded_train, maxlen=max_length, padding='post', truncating = 'pre')\n",
    "\n",
    "    embedding_matrix, vocab_size = emb_matrix(tokenise_tf, embeddings2)\n",
    "\n",
    "    encoded_validation = tokenise_tf.texts_to_sequences(validation['Doc Text'])\n",
    "    validation_padded = pad_sequences(encoded_validation, maxlen=max_length, padding='post', truncating = 'pre') \n",
    "    \n",
    "    adam_optimizer = optimizers.Adam(learning_rate=learning_rate)\n",
    "    model = model_gru(embedding_matrix, 300, vocab_size, max_length, adam_optimizer, 'tanh', 0.2, 0.001, 0.001)\n",
    "\n",
    "    history = model.fit(training_padded, training['Sentiment'], epochs=epochs, verbose=0, batch_size=batch_size, shuffle =True, validation_data = (validation_padded, validation['Sentiment']))\n",
    "    accuracy = history.history['val_accuracy'][-1]\n",
    "    u = {}\n",
    "    u['max_len'] = max_length\n",
    "    u['batch'] = batch_size\n",
    "    u['l_rate'] = round(learning_rate,5)\n",
    "    u['epochs'] = epochs\n",
    "\n",
    "    fig, ax = plt.subplots(1,2,figsize = (20,5))\n",
    "\n",
    "    ax[0].plot(history.history['loss'], label='Training')\n",
    "    ax[0].plot(history.history['val_loss'], c='r',label='Validation')\n",
    "    ax[0].legend(loc='upper left')\n",
    "    ax[0].title.set_text('Loss plot for the combination ' + str(u))\n",
    "\n",
    "\n",
    "    ax[1].plot(history.history['accuracy'], label='Training')\n",
    "    ax[1].plot(history.history['val_accuracy'], c='r',label='Validation')\n",
    "    ax[1].legend(loc='upper left')\n",
    "    ax[1].title.set_text('Accuracy plot for the combination ' + str(u))  \n",
    "    plt.show()\n",
    "\n",
    "#     encoded_validation = tokenise_tf.texts_to_sequences(validation['Doc Text'])\n",
    "\n",
    "#     validation_padded = pad_sequences(encoded_validation, maxlen=max_length, padding=padd, truncating = trunc)\n",
    "#     loss, accuracy = model.evaluate(validation_padded, validation['Sentiment'], verbose=0)\n",
    "    return -round(accuracy,2)\n",
    "\n",
    "space = {'max_length': hp.choice('max_length',range(4,75)),  \n",
    "        'batch_size': hp.choice('batch_size', [32, 64, 128]),\n",
    "         'epochs': hp.choice('epochs',range(5,20)), \n",
    "         'learning_rate': hp.uniform('learning_rate', 0,0.002)\n",
    "        }\n",
    "                                \n",
    "                                \n",
    "tokenise_tf = Tokenizer()\n",
    "tokenise_tf.fit_on_texts(training['Doc Text'])                                \n",
    "best_gru2 = fmin(objective_func, space, algo=tpe.suggest, max_evals=10)\n",
    "print(best_gru2)"
   ]
  },
  {
   "cell_type": "markdown",
   "metadata": {
    "id": "AfA31RGemoGF"
   },
   "source": [
    "# For all the three RNNs,I got best accuracy when they were trained on the pre-trained and fine-tuned word embeddings.\n",
    "\n"
   ]
  },
  {
   "cell_type": "code",
   "execution_count": null,
   "metadata": {
    "id": "7V5GU3fPxjZq"
   },
   "outputs": [],
   "source": [
    "batch_size_temp = [32,64,128]"
   ]
  },
  {
   "cell_type": "markdown",
   "metadata": {
    "id": "xPARrC-3n9W2"
   },
   "source": [
    "# I got best validation accuracy of 73 with Vanilla RNN model trained on the pre trained and fine tuned word embeddings with hyperparameters: \n",
    "\n",
    "## 'batch_size': 128, 'epochs': 11, 'learning_rate': 0.0016, 'max_length': 8"
   ]
  },
  {
   "cell_type": "code",
   "execution_count": null,
   "metadata": {
    "id": "AtRsC-V3sETk"
   },
   "outputs": [],
   "source": [
    "# best_vanilla_rnn2['batch_size'] = batch_size_temp[best_vanilla_rnn2['batch_size']]\n",
    "# best_v_r_df = pd.DataFrame(data = best_vanilla_rnn2.items(),index=best_vanilla_rnn2.keys())\n",
    "# best_v_r_df.to_csv('best_v_r.csv')"
   ]
  },
  {
   "cell_type": "markdown",
   "metadata": {
    "id": "VItBueodmo--"
   },
   "source": [
    "# I got best validation accuracy of 75 with LSTM model trained on the pre trained and fine tuned word embeddings with hyperparameters: \n",
    "\n",
    "## 'batch_size': 64, 'epochs': 12, 'learning_rate': 0.0018206437643498807, 'max_length': 15"
   ]
  },
  {
   "cell_type": "code",
   "execution_count": null,
   "metadata": {
    "id": "c6BodZIKsVXy"
   },
   "outputs": [],
   "source": [
    "# best_l_r['batch_size'] = batch_size_temp[best_l_r['batch_size']]\n",
    "# best_l_r_df = pd.DataFrame(best_l_r.items(),index=best_l_r.keys())\n",
    "# best_l_r_df.to_csv('best_l_r.csv')"
   ]
  },
  {
   "cell_type": "markdown",
   "metadata": {
    "id": "RJxPMORcn9eK"
   },
   "source": [
    "# I got best validation accuracy of 74 with GRU model trained on the pre trained and fine tuned word embeddings with hyperparameters: \n",
    "\n",
    "## 'batch_size': 64, 'epochs': 11, 'learning_rate': 0.001, 'max_length': 19"
   ]
  },
  {
   "cell_type": "code",
   "execution_count": null,
   "metadata": {
    "id": "yYLQRhDHskQy"
   },
   "outputs": [],
   "source": [
    "# best_g_r = {'batch_size': 64, 'epochs': 11, 'learning_rate': 0.001, 'max_length': 19}\n",
    "# best_g_r_df = pd.DataFrame(best_g_r.items(),index=best_g_r.keys())\n",
    "# best_g_r_df.to_csv('best_g_r.csv')"
   ]
  },
  {
   "cell_type": "markdown",
   "metadata": {
    "id": "nb9iWGCZod88"
   },
   "source": [
    "## Out of the three above, LSTM performed best on the validation data"
   ]
  },
  {
   "cell_type": "markdown",
   "metadata": {
    "id": "N2uQbiiJooM8"
   },
   "source": [
    "# ###"
   ]
  },
  {
   "cell_type": "markdown",
   "metadata": {
    "id": "cYcv8O3yoraN"
   },
   "source": [
    "# Evaluating on the test data"
   ]
  },
  {
   "cell_type": "code",
   "execution_count": null,
   "metadata": {
    "id": "vxEQ4EWronP8"
   },
   "outputs": [],
   "source": [
    "test = pd.read_csv('Test Data1.csv').iloc[:,1:]\n",
    "\n",
    "test.head()"
   ]
  },
  {
   "cell_type": "code",
   "execution_count": null,
   "metadata": {
    "id": "Qt8fLB8EonmO"
   },
   "outputs": [],
   "source": [
    "def test_evaluation(test, model, max_length, batch_size, epochs, learning_rate):\n",
    "  tokenise_tf = Tokenizer()\n",
    "  tokenise_tf.fit_on_texts(training['Doc Text']) \n",
    "  \n",
    "  encoded_train = tokenise_tf.texts_to_sequences(training['Doc Text'])\n",
    "  training_padded = pad_sequences(encoded_train, maxlen=max_length, padding='post', truncating = 'pre')\n",
    "\n",
    "  embedding_matrix, vocab_size = emb_matrix(tokenise_tf, embeddings2)\n",
    "\n",
    "  encoded_test = tokenise_tf.texts_to_sequences(test['Doc Text'])\n",
    "  test_padded = pad_sequences(encoded_test, maxlen=max_length, padding='post', truncating = 'pre') \n",
    "  \n",
    "  adam_optimizer = optimizers.Adam(learning_rate=learning_rate)\n",
    "  model2 = model(embedding_matrix, 300, vocab_size, max_length, adam_optimizer, 'tanh', 0.2, 0.001, 0.001)\n",
    "\n",
    "  history = model2.fit(training_padded, training['Sentiment'], epochs=epochs, verbose=0, batch_size=batch_size, shuffle =True)\n",
    "  temp = lambda x: 1 if x>= 0.5 else 0 \n",
    "  y_pred = [temp(i) for i in model2.predict(test_padded)]\n",
    "  # print(y_pred) \n",
    "  y_test = test['Sentiment']\n",
    "  # print(y_test)\n",
    "  accuracy = accuracy_score(y_test, y_pred)\n",
    "  precision = precision_score(y_test, y_pred)\n",
    "  recall = recall_score(y_test, y_pred)\n",
    "  f1 = f1_score(y_test, y_pred)\n",
    "  return accuracy, precision, recall, f1"
   ]
  },
  {
   "cell_type": "code",
   "execution_count": null,
   "metadata": {
    "id": "6oavVnBnpzPX"
   },
   "outputs": [],
   "source": [
    "# Testing Vanilla RNN"
   ]
  },
  {
   "cell_type": "code",
   "execution_count": null,
   "metadata": {
    "id": "uVgsJS0bqL9I"
   },
   "outputs": [],
   "source": [
    "best_v_r_df2 = pd.read_csv('best_v_r.csv')\n",
    "Vanilla_acc, Vanilla_prec, Vanilla_rec, Vanilla_f1= test_evaluation(test, model_vanilla_rnn, best_v_r_df2['max_length'][0], best_v_r_df2['batch_size'][0], best_v_r_df2['epochs'][0], best_v_r_df2['learning_rate'][0])\n",
    "print('Accuracy of Vanilla RNN on the test data: ' + str(Vanilla_acc))\n",
    "print('Accuracy of Vanilla RNN on the test data: ' + str(Vanilla_prec))\n",
    "print('Accuracy of Vanilla RNN on the test data: ' + str(Vanilla_rec))\n",
    "print('Accuracy of Vanilla RNN on the test data: ' + str(Vanilla_f1))"
   ]
  },
  {
   "cell_type": "code",
   "execution_count": null,
   "metadata": {
    "id": "BdwoTc3Fz_AG"
   },
   "outputs": [],
   "source": [
    "# Testing LSTM "
   ]
  },
  {
   "cell_type": "code",
   "execution_count": null,
   "metadata": {
    "id": "TMrLL4Uo1fSB"
   },
   "outputs": [],
   "source": [
    "best_lstm_df2 = pd.read_csv('best_l_r.csv')\n",
    "lstm_acc, lstm_prec, lstm_rec, lstm_f1= test_evaluation(test, model_lstm, best_lstm_df2['max_length'][0], best_lstm_df2['batch_size'][0], best_lstm_df2['epochs'][0], best_lstm_df2['learning_rate'][0])\n",
    "print('Accuracy of LSTM RNN on the test data: ' + str(lstm_acc))\n",
    "print('Accuracy of LSTM RNN on the test data: ' + str(lstm_prec))\n",
    "print('Accuracy of LSTM RNN on the test data: ' + str(lstm_rec))\n",
    "print('Accuracy of LSTM RNN on the test data: ' + str(lstm_f1))"
   ]
  },
  {
   "cell_type": "code",
   "execution_count": null,
   "metadata": {
    "id": "N9x_ONNn1kLH"
   },
   "outputs": [],
   "source": [
    "# Testing GRU"
   ]
  },
  {
   "cell_type": "code",
   "execution_count": null,
   "metadata": {
    "id": "EKqIZAaf1kNY"
   },
   "outputs": [],
   "source": [
    "best_gru_df2 = pd.read_csv('best_g_r.csv')\n",
    "gru_acc, gru_prec,gru_rec,gru_f1= test_evaluation(test, model_gru, best_gru_df2['max_length'][0], best_gru_df2['batch_size'][0], best_gru_df2['epochs'][0], best_gru_df2['learning_rate'][0])\n",
    "print('Accuracy of GRU RNN on the test data: ' + str(gru_acc))\n",
    "print('Accuracy of GRU RNN on the test data: ' + str(gru_prec))\n",
    "print('Accuracy of GRU RNN on the test data: ' + str(gru_rec))\n",
    "print('Accuracy of GRU RNN on the test data: ' + str(gru_f1))"
   ]
  },
  {
   "cell_type": "markdown",
   "metadata": {
    "id": "vjqAkObFmQZv"
   },
   "source": [
    "## I got best test accuracy of 75 percent with the GRU RNN "
   ]
  },
  {
   "cell_type": "markdown",
   "metadata": {
    "id": "F_FRcBkpoMTP"
   },
   "source": [
    "# Observed differences between the performances of the three rnns:\n",
    "## Got best validation accuracy with LSTM but got best test accuracy with GRU\n",
    "## Vanilla RNN is fastest and LSTM is slowest in terms of training because LSTM has more parameters and heavier computation\n",
    "## Vanilla RNN gave comparitively lowest accuracies after hyper parameter tuning maybe because of vanishing gradient problem.\n"
   ]
  },
  {
   "cell_type": "markdown",
   "metadata": {
    "id": "jZNX9oam3GYG"
   },
   "source": [
    "# ##########"
   ]
  },
  {
   "cell_type": "markdown",
   "metadata": {
    "id": "HimtALnV3Gbo"
   },
   "source": [
    "# Ignore the code from now on. I just wanted to save the code for element-wise max.\n",
    "# With the element_wise max of all the hidden states as the output, I got less accuracy of 50. Whatever the parameters, the accuracy didn't cross 0.5"
   ]
  },
  {
   "cell_type": "markdown",
   "metadata": {
    "id": "G84h-TiMpZel"
   },
   "source": [
    "## Taking elementwise max of the hidden states"
   ]
  },
  {
   "cell_type": "code",
   "execution_count": null,
   "metadata": {
    "id": "uE2SSiwupZel"
   },
   "outputs": [],
   "source": [
    "def model_vanilla_rnn_em(embedding_matrix, noh, vocab_size, max_length, adam_optimizer, activation, Dropout_rate, kernel_regularizer_coef, activity_regularizer_coef):\n",
    "\n",
    "    model = Sequential()\n",
    "    e = Embedding(vocab_size, 300, weights=[embedding_matrix], input_length=max_length, trainable = False)\n",
    "    model.add(e)\n",
    "    model.add(SimpleRNN(units = noh, activation = activation, dropout=0.2, return_sequences=True, kernel_regularizer=tf.keras.regularizers.L1(kernel_regularizer_coef), activity_regularizer=tf.keras.regularizers.L2(activity_regularizer_coef)))\n",
    "    model.add(MaxPool1D(max_length, strides = None))\n",
    "    # model.add(Dropout(Dropout_rate))\n",
    "\n",
    "#     model.add(Dense(1, activation='softmax'))\n",
    "    model.add(Dense(1, activation='sigmoid', kernel_regularizer=tf.keras.regularizers.L1(kernel_regularizer_coef), activity_regularizer=tf.keras.regularizers.L2(activity_regularizer_coef)))\n",
    "    model.compile(optimizer=adam_optimizer, loss='binary_crossentropy', metrics=['accuracy'])\n",
    "#     print(model.summary())\n",
    "    \n",
    "#     print(z)\n",
    "    return model\n"
   ]
  },
  {
   "cell_type": "code",
   "execution_count": null,
   "metadata": {
    "id": "a3cyFsTtpZep"
   },
   "outputs": [],
   "source": [
    "def model_lstm_em(embedding_matrix, noh, vocab_size, max_length, adam_optimizer, activation, Dropout_rate, kernel_regularizer_coef, activity_regularizer_coef):\n",
    "\n",
    "    model = Sequential()\n",
    "    e = Embedding(vocab_size, 300, weights=[embedding_matrix], input_length=max_length, trainable = False)\n",
    "    model.add(e)\n",
    "    model.add(LSTM(units = noh, activation = activation, dropout=0.2, return_sequences=True, kernel_regularizer=tf.keras.regularizers.L1(kernel_regularizer_coef), activity_regularizer=tf.keras.regularizers.L2(activity_regularizer_coef)))\n",
    "    model.add(MaxPool1D(max_length, strides = None))\n",
    "    # model.add(Dropout(Dropout_rate))\n",
    "\n",
    "#     model.add(Dense(1, activation='softmax'))\n",
    "    model.add(Dense(1, activation='sigmoid', kernel_regularizer=tf.keras.regularizers.L1(kernel_regularizer_coef), activity_regularizer=tf.keras.regularizers.L2(activity_regularizer_coef)))\n",
    "    model.compile(optimizer=adam_optimizer, loss='binary_crossentropy', metrics=['accuracy'])\n",
    "#     print(model.summary())\n",
    "    \n",
    "#     print(z)\n",
    "    return model\n"
   ]
  },
  {
   "cell_type": "code",
   "execution_count": null,
   "metadata": {
    "id": "Qyw6ayuspZes"
   },
   "outputs": [],
   "source": [
    "def model_gru_em(embedding_matrix, noh, vocab_size, max_length, adam_optimizer, activation, Dropout_rate, kernel_regularizer_coef, activity_regularizer_coef):\n",
    "\n",
    "    model = Sequential()\n",
    "    e = Embedding(vocab_size, 300, weights=[embedding_matrix], input_length=max_length, trainable = False)\n",
    "    model.add(e)\n",
    "    model.add(GRU(units = noh, activation = activation, dropout=0.2, return_sequences=True, kernel_regularizer=tf.keras.regularizers.L1(kernel_regularizer_coef), activity_regularizer=tf.keras.regularizers.L2(activity_regularizer_coef)))\n",
    "    model.add(MaxPool1D(max_length, strides = None))\n",
    "#     model.add(Dropout(Dropout_rate))\n",
    "\n",
    "#     model.add(Dense(1, activation='softmax'))\n",
    "    model.add(Dense(1, activation='sigmoid', kernel_regularizer=tf.keras.regularizers.L1(kernel_regularizer_coef), activity_regularizer=tf.keras.regularizers.L2(activity_regularizer_coef)))\n",
    "    model.compile(optimizer=adam_optimizer, loss='binary_crossentropy', metrics=['accuracy'])\n",
    "#     print(model.summary())\n",
    "    \n",
    "#     print(z)\n",
    "    return model\n"
   ]
  },
  {
   "cell_type": "markdown",
   "metadata": {
    "id": "WDR5cTqT_hob"
   },
   "source": [
    "## Changing the no of hidden units\n",
    "## Keeping max_length = 40\n",
    "## epochs = 15\n",
    "## batch_size = 64\n",
    "## learning_rate = 0.001\n"
   ]
  },
  {
   "cell_type": "code",
   "execution_count": null,
   "metadata": {
    "id": "TObOEV44_frn"
   },
   "outputs": [],
   "source": [
    "par_selec(model_vanilla_rnn_em, 40, 300)"
   ]
  },
  {
   "cell_type": "code",
   "execution_count": null,
   "metadata": {
    "id": "l9hd1nbGBsyZ"
   },
   "outputs": [],
   "source": [
    "par_selec(model_lstm_em, 40, 300)"
   ]
  },
  {
   "cell_type": "code",
   "execution_count": null,
   "metadata": {
    "id": "9Y4MX-zeBs1u"
   },
   "outputs": [],
   "source": [
    "par_selec(model_gru_em, 40, 300)"
   ]
  },
  {
   "cell_type": "markdown",
   "metadata": {
    "id": "NvA_WhEg_iG5"
   },
   "source": [
    "## Doubling the no of hidden units"
   ]
  },
  {
   "cell_type": "code",
   "execution_count": null,
   "metadata": {
    "id": "dUYJKAtYBoef"
   },
   "outputs": [],
   "source": [
    "par_selec(model_vanilla_rnn_em, 40, 300)"
   ]
  },
  {
   "cell_type": "markdown",
   "metadata": {
    "id": "IDyq_uNe_wYX"
   },
   "source": [
    "### For Vanilla RNN,  With double the no of hidden units, the accuracy reduced from 74 to 73 percent."
   ]
  },
  {
   "cell_type": "code",
   "execution_count": null,
   "metadata": {
    "id": "WxwJGQApAQJj"
   },
   "outputs": [],
   "source": [
    "par_selec(model_lstm_em, 40, 600)"
   ]
  },
  {
   "cell_type": "markdown",
   "metadata": {
    "id": "UdTST8ZiAWwa"
   },
   "source": [
    "### For LSTM, With double the no of hidden units, the accuracy reduced from 74 to 73 percent."
   ]
  },
  {
   "cell_type": "code",
   "execution_count": null,
   "metadata": {
    "id": "nTtifvwGAXNl"
   },
   "outputs": [],
   "source": [
    "par_selec(model_gru_em, 40, 600)"
   ]
  },
  {
   "cell_type": "markdown",
   "metadata": {
    "id": "rkTMhMc1Ac8f"
   },
   "source": [
    "### For GRU, With double the no of hidden units, the accuracy reduced from 74 to 73 percent."
   ]
  },
  {
   "cell_type": "markdown",
   "metadata": {
    "id": "AY_wx8EM_3eq"
   },
   "source": [
    "# Halving the no of hidden units"
   ]
  },
  {
   "cell_type": "code",
   "execution_count": null,
   "metadata": {
    "id": "HN94EZfo_6L1"
   },
   "outputs": [],
   "source": [
    "par_selec(model_vanilla_rnn_em, 40, 150)"
   ]
  },
  {
   "cell_type": "markdown",
   "metadata": {
    "id": "OPDlfM7tADBF"
   },
   "source": [
    "### With halve the no of hidden units, the accuracy increased slightly from 73.8 to 74.4."
   ]
  },
  {
   "cell_type": "code",
   "execution_count": null,
   "metadata": {
    "id": "vttKOmoP_xC7"
   },
   "outputs": [],
   "source": [
    "par_selec(model_lstm_em, 40, 150)"
   ]
  },
  {
   "cell_type": "markdown",
   "metadata": {
    "id": "-xy5cfYQAj_j"
   },
   "source": [
    "### For LSTM, With halve the no of hidden units, the accuracy reduced from 74 to 73 percent."
   ]
  },
  {
   "cell_type": "code",
   "execution_count": null,
   "metadata": {
    "id": "7dkRv2e_Aka8"
   },
   "outputs": [],
   "source": [
    "par_selec(model_gru_em, 40, 150)"
   ]
  },
  {
   "cell_type": "markdown",
   "metadata": {
    "id": "w4_lAZ_rAkzb"
   },
   "source": [
    "### For GRU, With halve the no of hidden units, the accuracy reduced from 74 to 73 percent."
   ]
  },
  {
   "cell_type": "markdown",
   "metadata": {
    "id": "LNp_oho8BMtS"
   },
   "source": [
    "# Changing the max_length \n",
    "# Keeping no of hidden units = 300\n",
    "# epochs = 15\n",
    "# batch_size = 64\n",
    "# learning_rate = 0.001\n"
   ]
  },
  {
   "cell_type": "markdown",
   "metadata": {
    "id": "qZg_5ohNBQqZ"
   },
   "source": [
    "## Doubling the sequence length from 40 to 80"
   ]
  },
  {
   "cell_type": "code",
   "execution_count": null,
   "metadata": {
    "id": "JsCbKK77BT2Y"
   },
   "outputs": [],
   "source": [
    "par_selec(model_vanilla_rnn_em, 80, 300)"
   ]
  },
  {
   "cell_type": "markdown",
   "metadata": {
    "id": "JrwMU7rXBXgR"
   },
   "source": [
    "### For vanilla rnn, With double the sequence length, there was an insignificant increase in accuracy from 73.83 to 73.87\n",
    "\n"
   ]
  },
  {
   "cell_type": "code",
   "execution_count": null,
   "metadata": {
    "id": "AgG6XClUBX0N"
   },
   "outputs": [],
   "source": [
    "par_selec(model_lstm_em, 80, 300)"
   ]
  },
  {
   "cell_type": "markdown",
   "metadata": {
    "id": "uX2xyVkCBYTx"
   },
   "source": [
    "### For LSTM, With double the sequence length, there was an insignificant increase in accuracy from 73.83 to 73.87\n",
    "\n"
   ]
  },
  {
   "cell_type": "code",
   "execution_count": null,
   "metadata": {
    "id": "Agm_JZO4BY0K"
   },
   "outputs": [],
   "source": [
    "par_selec(model_gru_em, 80, 300)"
   ]
  },
  {
   "cell_type": "markdown",
   "metadata": {
    "id": "Tn1ht9nkBZGE"
   },
   "source": [
    "### For GRU, With double the sequence length, there was an insignificant increase in accuracy from 73.83 to 73.87\n",
    "\n"
   ]
  },
  {
   "cell_type": "markdown",
   "metadata": {
    "id": "darw7z1oCaoX"
   },
   "source": [
    "### When we increase the sequence length we might include important words that would change the sentiment of the sentence"
   ]
  },
  {
   "cell_type": "markdown",
   "metadata": {
    "id": "e42nuGgaB3c2"
   },
   "source": [
    "## Halving the sequence length from 40 to 20"
   ]
  },
  {
   "cell_type": "code",
   "execution_count": null,
   "metadata": {
    "id": "wa3jFH6bBZhT"
   },
   "outputs": [],
   "source": [
    "par_selec(model_vanilla_rnn_em, 20, 300)"
   ]
  },
  {
   "cell_type": "code",
   "execution_count": null,
   "metadata": {
    "id": "EHoMYBMWkK_l"
   },
   "outputs": [],
   "source": [
    "# max_length = 20\n",
    "# epochs = 15\n",
    "# batch_size = 64\n",
    "# learning_rate = 0.001\n",
    "\n",
    "# encoded_train = tokenise_tf.texts_to_sequences(training['Doc Text'])\n",
    "# training_padded = pad_sequences(encoded_train, maxlen=max_length, padding='post', truncating = 'pre')\n",
    "# embedding_matrix, vocab_size = emb_matrix(tokenise_tf, embeddings)\n",
    "\n",
    "# encoded_validation = tokenise_tf.texts_to_sequences(validation['Doc Text'])\n",
    "# validation_padded = pad_sequences(encoded_validation, maxlen=max_length, padding='post', truncating = 'pre')\n",
    "\n",
    "# adam_optimizer = optimizers.Adam(learning_rate=learning_rate)\n",
    "# model = model_vanilla_rnn(embedding_matrix, 300, vocab_size, max_length, adam_optimizer, 'tanh', 0.2, 0.001, 0.001)\n",
    "\n",
    "# history = model.fit(training_padded, training['Sentiment'], epochs=epochs, verbose=2, batch_size=batch_size, shuffle =True, validation_data = (validation_padded, validation['Sentiment']))\n",
    "# accuracy = history.history['val_accuracy'][-1]\n",
    "\n"
   ]
  },
  {
   "cell_type": "markdown",
   "metadata": {
    "id": "DLpxiHHjBZxm"
   },
   "source": [
    "### For vanilla RNN, With half the sequence length, there was a slight decrease in accuracy from 73.8 to 73.2\n"
   ]
  },
  {
   "cell_type": "code",
   "execution_count": null,
   "metadata": {
    "id": "3D0Ngk_zBaFa"
   },
   "outputs": [],
   "source": [
    "par_selec(model_lstm_em, 20, 300)"
   ]
  },
  {
   "cell_type": "markdown",
   "metadata": {
    "id": "4R2ckx5MBaP5"
   },
   "source": [
    "### For LSTM, With half the sequence length, there was a slight decrease in accuracy from 73.8 to 73.2\n"
   ]
  },
  {
   "cell_type": "code",
   "execution_count": null,
   "metadata": {
    "id": "lulWk6EwBaaV"
   },
   "outputs": [],
   "source": [
    "par_selec(model_gru_em, 20, 300)"
   ]
  },
  {
   "cell_type": "markdown",
   "metadata": {
    "id": "sQpFaM3VBaj1"
   },
   "source": [
    "### For GRU, With half the sequence length, there was a slight decrease in accuracy from 73.8 to 73.2\n"
   ]
  },
  {
   "cell_type": "markdown",
   "metadata": {
    "id": "wuj2ablkCyQZ"
   },
   "source": [
    "\n",
    "### It makes sense as when we decrease the sequence length we might lose important words that change the sentiment of the sentence"
   ]
  },
  {
   "cell_type": "markdown",
   "metadata": {
    "id": "goykoVf2Bate"
   },
   "source": [
    "###"
   ]
  },
  {
   "cell_type": "markdown",
   "metadata": {
    "id": "dzFp427zDELR"
   },
   "source": [
    "## Fine tuning the word embeddings using mittens library"
   ]
  },
  {
   "cell_type": "code",
   "execution_count": null,
   "metadata": {
    "id": "Qclt65kfDJBD"
   },
   "outputs": [],
   "source": [
    "def finetune(training): \n",
    "  training_tokens = [word_tokenize(i) for i in training['Doc Text']]\n",
    "  #training_tokens\n",
    "\n",
    "  oov = [j for i in training_tokens for j in i if j not in embeddings.keys()]\n",
    "  print(len(oov))\n",
    "\n",
    "  corp_vocab = list(set(oov))\n",
    "\n",
    "  cv = CountVectorizer(ngram_range=(1,1), vocabulary=corp_vocab)\n",
    "  trr =''\n",
    "  for i in training_tokens:\n",
    "    for j in i:\n",
    "      trr+= j\n",
    "      trr += ' '\n",
    "\n",
    "  # print(trr)\n",
    "  # print(z)\n",
    "  X = cv.fit_transform([trr])\n",
    "  Xc = (X.T * X)\n",
    "  Xc.setdiag(0)\n",
    "  coocc_ar = Xc.toarray()\n",
    "\n",
    "  mittens_model = Mittens(n=300, max_iter=1000)\n",
    "\n",
    "  new_embeddings = mittens_model.fit(\n",
    "      coocc_ar,\n",
    "      vocab=corp_vocab,\n",
    "      initial_embedding_dict= embeddings)\n",
    "\n",
    "  new_embeddings = dict(zip(corp_vocab, new_embeddings))\n",
    "  return training_tokens, new_embeddings\n",
    "  \n"
   ]
  },
  {
   "cell_type": "code",
   "execution_count": null,
   "metadata": {
    "id": "rTxXFJy6DMLp"
   },
   "outputs": [],
   "source": [
    "embeddings2= embeddings.copy()\n",
    "\n",
    "training_tokens, new_embeddings = finetune(training)\n",
    "embeddings2.update(new_embeddings)"
   ]
  },
  {
   "cell_type": "code",
   "execution_count": null,
   "metadata": {
    "id": "0U7PZnWnDPE8"
   },
   "outputs": [],
   "source": [
    "oov2 = [j for i in training_tokens for j in i if j not in embeddings2.keys()]\n",
    "print(len(oov2))"
   ]
  },
  {
   "cell_type": "markdown",
   "metadata": {
    "id": "G_1MSXXvDU9k"
   },
   "source": [
    "### Using new embeddings for the vanilla rnn em"
   ]
  },
  {
   "cell_type": "code",
   "execution_count": null,
   "metadata": {
    "id": "TMp1_4cVDbWR"
   },
   "outputs": [],
   "source": [
    "def objective_func(args):\n",
    "    max_length = args['max_length']\n",
    "    batch_size = args['batch_size']\n",
    "    learning_rate = args['learning_rate']\n",
    "    epochs = args['epochs']\n",
    "\n",
    "    \n",
    "    encoded_train = tokenise_tf.texts_to_sequences(training['Doc Text'])\n",
    "    training_padded = pad_sequences(encoded_train, maxlen=max_length, padding='post', truncating = 'pre')\n",
    "\n",
    "    embedding_matrix, vocab_size = emb_matrix(tokenise_tf, embeddings2)\n",
    "\n",
    "    encoded_validation = tokenise_tf.texts_to_sequences(validation['Doc Text'])\n",
    "    validation_padded = pad_sequences(encoded_validation, maxlen=max_length, padding='post', truncating = 'pre') \n",
    "    \n",
    "    adam_optimizer = optimizers.Adam(learning_rate=learning_rate)\n",
    "    model = model_vanilla_rnn_em(embedding_matrix, 300, vocab_size, max_length, adam_optimizer, 'tanh', 0.2, 0.001, 0.001)\n",
    "\n",
    "    history = model.fit(training_padded, training['Sentiment'], epochs=epochs, verbose=0, batch_size=batch_size, shuffle =True, validation_data = (validation_padded, validation['Sentiment']))\n",
    "    accuracy = history.history['val_accuracy'][-1]\n",
    "    u = {}\n",
    "    u['max_len'] = max_length\n",
    "    u['batch'] = batch_size\n",
    "    u['l_rate'] = round(learning_rate,5)\n",
    "    u['epochs'] = epochs\n",
    "\n",
    "    fig, ax = plt.subplots(1,2,figsize = (20,5))\n",
    "\n",
    "    ax[0].plot(history.history['loss'], label='Training')\n",
    "    ax[0].plot(history.history['val_loss'], c='r',label='Validation')\n",
    "    ax[0].legend(loc='upper left')\n",
    "    ax[0].title.set_text('Loss plot for the combination ' + str(u))\n",
    "\n",
    "\n",
    "    ax[1].plot(history.history['accuracy'], label='Training')\n",
    "    ax[1].plot(history.history['val_accuracy'], c='r',label='Validation')\n",
    "    ax[1].legend(loc='upper left')\n",
    "    ax[1].title.set_text('Accuracy plot for the combination ' + str(u))  \n",
    "    plt.show()\n",
    "\n",
    "#     encoded_validation = tokenise_tf.texts_to_sequences(validation['Doc Text'])\n",
    "\n",
    "#     validation_padded = pad_sequences(encoded_validation, maxlen=max_length, padding=padd, truncating = trunc)\n",
    "#     loss, accuracy = model.evaluate(validation_padded, validation['Sentiment'], verbose=0)\n",
    "    return -round(accuracy,2)\n",
    "\n",
    "space = {'max_length': hp.choice('max_length',range(4,75)),  \n",
    "        'batch_size': hp.choice('batch_size', [32, 64, 128]),\n",
    "         'epochs': hp.choice('epochs',range(5,20)), \n",
    "         'learning_rate': hp.uniform('learning_rate', 0,0.002)\n",
    "        }\n",
    "                                \n",
    "                                \n",
    "tokenise_tf = Tokenizer()\n",
    "tokenise_tf.fit_on_texts(training['Doc Text'])                                \n",
    "best_vanilla_rnn_em2 = fmin(objective_func, space, algo=tpe.suggest, max_evals=10)\n",
    "print(best_vanilla_rnn_em2)"
   ]
  },
  {
   "cell_type": "code",
   "execution_count": null,
   "metadata": {
    "id": "Lj-i74diDUPT"
   },
   "outputs": [],
   "source": []
  },
  {
   "cell_type": "code",
   "execution_count": null,
   "metadata": {
    "id": "Eb0o5YDrpZew"
   },
   "outputs": [],
   "source": [
    "def objective_func(args):\n",
    "    max_length = args['max_length']\n",
    "    batch_size = args['batch_size']\n",
    "    learning_rate = args['learning_rate']\n",
    "    epochs = args['epochs']\n",
    "\n",
    "    \n",
    "    encoded_train = tokenise_tf.texts_to_sequences(training['Doc Text'])\n",
    "    training_padded = pad_sequences(encoded_train, maxlen=max_length, padding='post', truncating = 'pre')\n",
    "    embedding_matrix, vocab_size = emb_matrix(tokenise_tf, embeddings2)\n",
    "\n",
    "    encoded_validation = tokenise_tf.texts_to_sequences(validation['Doc Text'])\n",
    "    validation_padded = pad_sequences(encoded_validation, maxlen=max_length, padding='post', truncating = 'pre')\n",
    "    \n",
    "    adam_optimizer = optimizers.Adam(learning_rate=learning_rate)\n",
    "    model = model_vanilla_rnn(embedding_matrix, 300, vocab_size, max_length, adam_optimizer, 'tanh', 0.2, 0.001, 0.001)\n",
    "\n",
    "    history = model.fit(training_padded, training['Sentiment'], epochs=epochs, verbose=0, batch_size=batch_size, shuffle =True, validation_data = (validation_padded, validation['Sentiment']))\n",
    "    accuracy = history.history['val_accuracy'][-1]\n",
    "    u = {}\n",
    "    u['max_len'] = max_length\n",
    "    u['batch'] = batch_size\n",
    "    u['l_rate'] = round(learning_rate,5)\n",
    "    u['epochs'] = epochs\n",
    "\n",
    "    fig, ax = plt.subplots(1,2,figsize = (20,5))\n",
    "\n",
    "    ax[0].plot(history.history['loss'], label='Training')\n",
    "    ax[0].plot(history.history['val_loss'], c='r',label='Validation')\n",
    "    ax[0].legend(loc='upper left')\n",
    "    ax[0].title.set_text('Loss plot for the combination ' + str(u))\n",
    "\n",
    "\n",
    "    ax[1].plot(history.history['accuracy'], label='Training')\n",
    "    ax[1].plot(history.history['val_accuracy'], c='r',label='Validation')\n",
    "    ax[1].legend(loc='upper left')\n",
    "    ax[1].title.set_text('Accuracy plot for the combination ' + str(u))  \n",
    "    plt.show()\n",
    "\n",
    "#     encoded_validation = tokenise_tf.texts_to_sequences(validation['Doc Text'])\n",
    "\n",
    "#     validation_padded = pad_sequences(encoded_validation, maxlen=max_length, padding=padd, truncating = trunc)\n",
    "#     loss, accuracy = model.evaluate(validation_padded, validation['Sentiment'], verbose=0)\n",
    "    return -round((accuracy),2)\n",
    "\n",
    "space = {'max_length': hp.choice('max_length',range(4,75)),  \n",
    "        'batch_size': hp.choice('batch_size', [32, 64, 128]),\n",
    "         'epochs': hp.choice('epochs',range(5,20)), \n",
    "         'learning_rate': hp.uniform('learning_rate', 0,0.002)\n",
    "        }\n",
    "                                \n",
    "                                \n",
    "tokenise_tf = Tokenizer()\n",
    "tokenise_tf.fit_on_texts(training['Doc Text'])                                \n",
    "best_vanilla_rnn_em = fmin(objective_func, space, algo=tpe.suggest, max_evals=10)\n",
    "print(best_vanilla_rnn_em)"
   ]
  },
  {
   "cell_type": "code",
   "execution_count": null,
   "metadata": {
    "id": "DYFAm5c_pZey"
   },
   "outputs": [],
   "source": [
    "def objective_func(args):\n",
    "    max_length = args['max_length']\n",
    "    batch_size = args['batch_size']\n",
    "    learning_rate = args['learning_rate']\n",
    "    epochs = args['epochs']\n",
    "\n",
    "    \n",
    "    encoded_train = tokenise_tf.texts_to_sequences(training['Doc Text'])\n",
    "    training_padded = pad_sequences(encoded_train, maxlen=max_length, padding='post', truncating = 'pre')\n",
    "    embedding_matrix, vocab_size = emb_matrix(tokenise_tf, embeddings)\n",
    "    adam_optimizer = optimizers.Adam(learning_rate=learning_rate)\n",
    "    model = model_lstm_em(embedding_matrix, vocab_size, max_length, adam_optimizer, 'tanh', 0.2, 0.001, 0.001)\n",
    "\n",
    "    history = model.fit(training_padded, training['Sentiment'], epochs=epochs, verbose=0, batch_size=batch_size, shuffle =True, validation_split = 0.25)\n",
    "    accuracy = history.history['val_accuracy'][-1]\n",
    "    u = {}\n",
    "    u['max_len'] = max_length\n",
    "    u['batch'] = batch_size\n",
    "    u['l_rate'] = learning_rate\n",
    "    u['epochs'] = epochs\n",
    "\n",
    "    fig, ax = plt.subplots(1,2,figsize = (20,5))\n",
    "\n",
    "    ax[0].plot(history.history['loss'], label='Training')\n",
    "    ax[0].plot(history.history['val_loss'], c='r',label='Validation')\n",
    "    ax[0].legend(loc='upper left')\n",
    "    ax[0].title.set_text('Loss plot for the combination ' + str(u))\n",
    "\n",
    "\n",
    "    ax[1].plot(history.history['accuracy'], label='Training')\n",
    "    ax[1].plot(history.history['val_accuracy'], c='r',label='Validation')\n",
    "    ax[1].legend(loc='upper left')\n",
    "    ax[1].title.set_text('Accuracy plot for the combination ' + str(u))  \n",
    "    plt.show()\n",
    "\n",
    "#     encoded_validation = tokenise_tf.texts_to_sequences(validation['Doc Text'])\n",
    "\n",
    "#     validation_padded = pad_sequences(encoded_validation, maxlen=max_length, padding=padd, truncating = trunc)\n",
    "#     loss, accuracy = model.evaluate(validation_padded, validation['Sentiment'], verbose=0)\n",
    "    return -round((accuracy),2)\n",
    "\n",
    "space = {'max_length': hp.choice('max_length',range(4,50)),  \n",
    "        'batch_size': hp.choice('batch_size', [32, 64, 128]),\n",
    "         'epochs': hp.choice('epochs',range(5,20)), \n",
    "         'learning_rate': hp.uniform('learning_rate', 0,0.002)\n",
    "        }\n",
    "                                \n",
    "                                \n",
    "tokenise_tf = Tokenizer()\n",
    "tokenise_tf.fit_on_texts(training['Doc Text'])                                \n",
    "best_lstm_em = fmin(objective_func, space, algo=tpe.suggest, max_evals=10)\n",
    "print(best_lstm_em)"
   ]
  },
  {
   "cell_type": "code",
   "execution_count": null,
   "metadata": {
    "id": "Sc9KmobHpZez"
   },
   "outputs": [],
   "source": [
    "def objective_func(args):\n",
    "    max_length = args['max_length']\n",
    "    batch_size = args['batch_size']\n",
    "    learning_rate = args['learning_rate']\n",
    "    epochs = args['epochs']\n",
    "\n",
    "    \n",
    "    encoded_train = tokenise_tf.texts_to_sequences(training['Doc Text'])\n",
    "    training_padded = pad_sequences(encoded_train, maxlen=max_length, padding='post', truncating = 'pre')\n",
    "    embedding_matrix, vocab_size = emb_matrix(tokenise_tf, embeddings)\n",
    "    adam_optimizer = optimizers.Adam(learning_rate=learning_rate)\n",
    "    model = model_gru_em(embedding_matrix, vocab_size, max_length, adam_optimizer, 'tanh', 0.2, 0.001, 0.001)\n",
    "\n",
    "    history = model.fit(training_padded, training['Sentiment'], epochs=epochs, verbose=0, batch_size=batch_size, shuffle =True, validation_split = 0.25)\n",
    "    accuracy = history.history['val_accuracy'][-1]\n",
    "    u = {}\n",
    "    u['max_len'] = max_length\n",
    "    u['batch'] = batch_size\n",
    "    u['l_rate'] = learning_rate\n",
    "    u['epochs'] = epochs\n",
    "\n",
    "    fig, ax = plt.subplots(1,2,figsize = (20,5))\n",
    "\n",
    "    ax[0].plot(history.history['loss'], label='Training')\n",
    "    ax[0].plot(history.history['val_loss'], c='r',label='Validation')\n",
    "    ax[0].legend(loc='upper left')\n",
    "    ax[0].title.set_text('Loss plot for the combination ' + str(u))\n",
    "\n",
    "\n",
    "    ax[1].plot(history.history['accuracy'], label='Training')\n",
    "    ax[1].plot(history.history['val_accuracy'], c='r',label='Validation')\n",
    "    ax[1].legend(loc='upper left')\n",
    "    ax[1].title.set_text('Accuracy plot for the combination ' + str(u))  \n",
    "    plt.show()\n",
    "\n",
    "#     encoded_validation = tokenise_tf.texts_to_sequences(validation['Doc Text'])\n",
    "\n",
    "#     validation_padded = pad_sequences(encoded_validation, maxlen=max_length, padding=padd, truncating = trunc)\n",
    "#     loss, accuracy = model.evaluate(validation_padded, validation['Sentiment'], verbose=0)\n",
    "    return -round((accuracy),2)\n",
    "\n",
    "space = {'max_length': hp.choice('max_length',range(4,50)),  \n",
    "        'batch_size': hp.choice('batch_size', [32, 64, 128]),\n",
    "         'epochs': hp.choice('epochs',range(5,20)), \n",
    "         'learning_rate': hp.uniform('learning_rate', 0,0.002)\n",
    "        }\n",
    "                                \n",
    "                                \n",
    "tokenise_tf = Tokenizer()\n",
    "tokenise_tf.fit_on_texts(training['Doc Text'])                                \n",
    "best_gru_em = fmin(objective_func, space, algo=tpe.suggest, max_evals=10)\n",
    "print(best_gru_em)"
   ]
  },
  {
   "cell_type": "code",
   "execution_count": null,
   "metadata": {
    "id": "2QsrKXRCpZe1"
   },
   "outputs": [],
   "source": [
    "# training.to_csv('Training Data.csv')\n",
    "# test.to_csv('Test Data.csv')"
   ]
  },
  {
   "cell_type": "code",
   "execution_count": null,
   "metadata": {
    "id": "BnjHcUEgpZe3"
   },
   "outputs": [],
   "source": [
    "# def generate_embedding_matrix(word_embeddings):\n",
    "#     vocabulary_size = len(tokenizer.word_index)+1\n",
    "#     embedding_matrix = np.zeros((vocabulary_size, 300))\n",
    "#     for word, index in tokenizer.word_index.items():\n",
    "#         embedding_vector = word_embeddings.get(word)\n",
    "#         if embedding_vector is not None:\n",
    "#             embedding_matrix[index] = embedding_vector\n",
    "#     return embedding_matrix,vocabulary_size"
   ]
  },
  {
   "cell_type": "code",
   "execution_count": null,
   "metadata": {
    "id": "P1ELmHAipZe4"
   },
   "outputs": [],
   "source": [
    "# input_len = 50\n",
    "# tokenizer = Tokenizer(oov_token='<OOV>')\n",
    "# tokenizer.fit_on_texts(training['Doc Text'])\n",
    "# X_train_processed = tokenizer.texts_to_sequences(training['Doc Text'])\n",
    "# X_train_processed = pad_sequences(X_train_processed, padding='post', maxlen=input_len,truncating='pre')\n",
    "# embedding_matrix,vocabulary_size = generate_embedding_matrix(embeddings)\n",
    "# tf.keras.backend.clear_session()\n",
    "# model = Sequential()\n",
    "# embedding_layer = Embedding(vocabulary_size, 300, weights=[embedding_matrix], input_length=input_len,trainable = False,mask_zero=True)\n",
    "# model.add(embedding_layer)\n",
    "# model.add(SimpleRNN(300,kernel_regularizer = tf.keras.regularizers.L1(0.01)))\n",
    "\n",
    "# model.add(Dropout(0.5))\n",
    "# model.add(Dense(1, activation='sigmoid'))\n",
    "# # adam_optimizer = optimizers.adam(learning_rate=learning_rate)\n",
    "# model.compile(optimizer='adam', loss='binary_crossentropy', metrics=['accuracy'])\n",
    "# print(model.summary())\n",
    "# model.fit(X_train_processed, training['Sentiment'], batch_size=128, epochs=30, verbose=1)"
   ]
  },
  {
   "cell_type": "code",
   "execution_count": null,
   "metadata": {
    "id": "_uZK2i9tpZe6"
   },
   "outputs": [],
   "source": [
    "def model_vanilla_rnn_bd(embedding_matrix, vocab_size, max_length, adam_optimizer, activation, Dropout_rate, kernel_regularizer_coef, activity_regularizer_coef):\n",
    "\n",
    "    model = Sequential()\n",
    "    e = Embedding(vocab_size, 300, weights=[embedding_matrix], input_length=max_length, trainable = False)\n",
    "    model.add(e)\n",
    "    model.add(Bidirectional(SimpleRNN(units = 300, activation = activation, kernel_regularizer=tf.keras.regularizers.L1(kernel_regularizer_coef), activity_regularizer=tf.keras.regularizers.L2(activity_regularizer_coef))))\n",
    "    model.add(Dropout(Dropout_rate))\n",
    "    model.add(Dense(1, activation='sigmoid', kernel_regularizer=tf.keras.regularizers.L1(kernel_regularizer_coef), activity_regularizer=tf.keras.regularizers.L2(activity_regularizer_coef)))\n",
    "    model.compile(optimizer=adam_optimizer, loss='binary_crossentropy', metrics=['accuracy'])\n",
    "#     print(model.summary())\n",
    "    return model\n"
   ]
  },
  {
   "cell_type": "code",
   "execution_count": null,
   "metadata": {
    "id": "Sn7QKQzJpZe8"
   },
   "outputs": [],
   "source": [
    "max_length = 40\n",
    "epochs = 15\n",
    "learning_rate = 0.001\n",
    "batch_size = 64\n",
    "encoded_train = tokenise_tf.texts_to_sequences(training['Doc Text'])\n",
    "training_padded = pad_sequences(encoded_train, maxlen=max_length, padding='post', truncating = 'pre')\n",
    "embedding_matrix, vocab_size = emb_matrix(tokenise_tf, embeddings)\n",
    "adam_optimizer = optimizers.Adam(learning_rate=learning_rate)\n",
    "model = model_vanilla_rnn_bd(embedding_matrix, vocab_size, max_length, adam_optimizer, 'tanh', 0.2, 0.001, 0.001)\n",
    "\n",
    "history = model.fit(training_padded, training['Sentiment'], epochs=epochs, verbose=1, batch_size=batch_size, shuffle =True, validation_split = 0.25)\n",
    "accuracy = history.history['val_accuracy'][-1]"
   ]
  },
  {
   "cell_type": "code",
   "execution_count": null,
   "metadata": {
    "id": "m_DL0cJypZe_"
   },
   "outputs": [],
   "source": [
    "def model_lstm_bd(embedding_matrix, vocab_size, max_length, adam_optimizer, activation, Dropout_rate, kernel_regularizer_coef, activity_regularizer_coef):\n",
    "\n",
    "    model = Sequential()\n",
    "    e = Embedding(vocab_size, 300, weights=[embedding_matrix], input_length=max_length, trainable = False)\n",
    "    model.add(e)\n",
    "    model.add(Bidirectional(LSTM(units = 300, activation = activation, kernel_regularizer=tf.keras.regularizers.L1(kernel_regularizer_coef), activity_regularizer=tf.keras.regularizers.L2(activity_regularizer_coef))))\n",
    "    model.add(Dropout(Dropout_rate))\n",
    "    model.add(Dense(1, activation='sigmoid', kernel_regularizer=tf.keras.regularizers.L1(kernel_regularizer_coef), activity_regularizer=tf.keras.regularizers.L2(activity_regularizer_coef)))\n",
    "    model.compile(optimizer=adam_optimizer, loss='binary_crossentropy', metrics=['accuracy'])\n",
    "#     print(model.summary())\n",
    "    return model\n"
   ]
  },
  {
   "cell_type": "code",
   "execution_count": null,
   "metadata": {
    "id": "13APqbFlpZfA"
   },
   "outputs": [],
   "source": [
    "max_length = 40\n",
    "epochs = 20\n",
    "learning_rate = 0.001\n",
    "batch_size = 128\n",
    "encoded_train = tokenise_tf.texts_to_sequences(training['Doc Text'])\n",
    "training_padded = pad_sequences(encoded_train, maxlen=max_length, padding='post', truncating = 'pre')\n",
    "embedding_matrix, vocab_size = emb_matrix(tokenise_tf, embeddings)\n",
    "adam_optimizer = optimizers.Adam(learning_rate=learning_rate)\n",
    "model = model_lstm_bd(embedding_matrix, vocab_size, max_length, adam_optimizer, 'tanh', 0.2, 0.001, 0.001)\n",
    "\n",
    "history = model.fit(training_padded, training['Sentiment'], epochs=epochs, verbose=1, batch_size=batch_size, shuffle =True, validation_split = 0.25)\n",
    "accuracy = history.history['val_accuracy'][-1]"
   ]
  },
  {
   "cell_type": "code",
   "execution_count": null,
   "metadata": {
    "id": "YpnT_uzUpZfC"
   },
   "outputs": [],
   "source": [
    "def objective_func(args):\n",
    "    max_length = args['max_length']\n",
    "#     af_in_simpleRNN = args['af_in_simpleRNN']\n",
    "    batch_size = args['batch_size']\n",
    "    learning_rate = args['learning_rate']\n",
    "#     padd = args['padd']\n",
    "#     trunc = args['trunc']\n",
    "    epochs = args['epochs']\n",
    "#     kernel_regularizer_coef = args['kernel_regularizer_coef']\n",
    "#     activity_regularizer_coef = args['activity_regularizer_coef']\n",
    "#     Dropout_rate = args['Dropout_rate']\n",
    "    \n",
    "    encoded_train = tokenise_tf.texts_to_sequences(training['Doc Text'])\n",
    "    training_padded = pad_sequences(encoded_train, maxlen=max_length, padding='post', truncating = 'pre')\n",
    "    embedding_matrix, vocab_size = emb_matrix(tokenise_tf, embeddings)\n",
    "    adam_optimizer = optimizers.Adam(learning_rate=learning_rate)\n",
    "    model = model_vanilla_rnn_bd(embedding_matrix, vocab_size, max_length, adam_optimizer, 'tanh', 0.2, 0.001, 0.001)\n",
    "    \n",
    "    history = model.fit(training_padded, training['Sentiment'], epochs=epochs, verbose=0, batch_size=batch_size, shuffle =True, validation_split = 0.25)\n",
    "    accuracy = history.history['val_accuracy'][-1]\n",
    "    \n",
    "    # summarize history for accuracy\n",
    "    plt.figure(figsize=(10,5))\n",
    "    plt.plot(history.history['accuracy'])\n",
    "    plt.plot(history.history['val_accuracy'])\n",
    "    plt.title('model accuracy')\n",
    "    plt.ylabel('accuracy')\n",
    "    plt.xlabel('epoch')\n",
    "    plt.legend(['training', 'validation'], loc='upper left')\n",
    "    plt.show()    \n",
    "    \n",
    "#     encoded_validation = tokenise_tf.texts_to_sequences(validation['Doc Text'])\n",
    "\n",
    "#     validation_padded = pad_sequences(encoded_validation, maxlen=max_length, padding=padd, truncating = trunc)\n",
    "#     loss, accuracy = model.evaluate(validation_padded, validation['Sentiment'], verbose=0)\n",
    "    return -round((accuracy),2)\n",
    "\n",
    "space = {'max_length': hp.choice('max_length',range(4,100)), \n",
    "#          'af_in_simpleRNN': hp.choice('af_in_simpleRNN', ['tanh', 'sigmoid']), \n",
    "        'batch_size': hp.choice('batch_size', [64, 128, 256]),\n",
    "#          'padd': hp.choice('padd', ['pre', 'post']),\n",
    "#          'trunc': hp.choice('trunc', ['pre', 'post']),\n",
    "         'epochs': hp.choice('epochs',range(5,20)), \n",
    "         'learning_rate': hp.uniform('learning_rate', 0,1)\n",
    "#          'Dropout_rate': hp.uniform('Dropout_rate', 0, 1),\n",
    "#          'kernel_regularizer_coef': hp.uniform('kernel_regularizer_coef', 0, 10),\n",
    "#          'activity_regularizer_coef': hp.uniform('activity_regularizer_coef', 0, 10)\n",
    "        }\n",
    "                                \n",
    "                                \n",
    "tokenise_tf = Tokenizer()\n",
    "tokenise_tf.fit_on_texts(training['Doc Text'])                                \n",
    "best_vanilla_rnn_bd = fmin(objective_func, space, algo=tpe.suggest, max_evals=10)\n",
    "print(best_vanilla_rnn_bd)"
   ]
  },
  {
   "cell_type": "code",
   "execution_count": null,
   "metadata": {
    "id": "6dn_G84lpZfD"
   },
   "outputs": [],
   "source": []
  }
 ],
 "metadata": {
  "accelerator": "GPU",
  "colab": {
   "collapsed_sections": [],
   "name": "Twitter Sentiment Analysis.ipynb",
   "provenance": []
  },
  "kernelspec": {
   "display_name": "Python 3",
   "language": "python",
   "name": "python3"
  },
  "language_info": {
   "codemirror_mode": {
    "name": "ipython",
    "version": 3
   },
   "file_extension": ".py",
   "mimetype": "text/x-python",
   "name": "python",
   "nbconvert_exporter": "python",
   "pygments_lexer": "ipython3",
   "version": "3.7.6"
  }
 },
 "nbformat": 4,
 "nbformat_minor": 4
}
